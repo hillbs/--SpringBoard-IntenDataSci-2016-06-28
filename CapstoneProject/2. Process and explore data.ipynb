{
 "cells": [
  {
   "cell_type": "markdown",
   "metadata": {},
   "source": [
    "# Process data and compare populations.\n",
    "(for now just histograms)"
   ]
  },
  {
   "cell_type": "markdown",
   "metadata": {},
   "source": [
    "###### Import libraries and imported data from last program"
   ]
  },
  {
   "cell_type": "code",
   "execution_count": 3,
   "metadata": {
    "collapsed": true
   },
   "outputs": [],
   "source": [
    "import pandas as pd\n",
    "import numpy as np\n",
    "\n",
    "import matplotlib.pyplot as plt\n",
    "%matplotlib inline"
   ]
  },
  {
   "cell_type": "code",
   "execution_count": 4,
   "metadata": {
    "collapsed": true
   },
   "outputs": [],
   "source": [
    "df15 = pd.read_pickle('RefPers15')\n",
    "df09 = pd.read_pickle('RefPers09')"
   ]
  },
  {
   "cell_type": "code",
   "execution_count": 5,
   "metadata": {
    "collapsed": false
   },
   "outputs": [],
   "source": [
    "# combine two years into one dataset\n",
    "frames = [df09, df15]\n",
    "df_2y = pd.concat(frames)"
   ]
  },
  {
   "cell_type": "markdown",
   "metadata": {
    "collapsed": true
   },
   "source": [
    "#### Recode vars:  "
   ]
  },
  {
   "cell_type": "code",
   "execution_count": 8,
   "metadata": {
    "collapsed": true
   },
   "outputs": [],
   "source": [
    "'''\n",
    "1. Change format to numeric so we can analyze we will use in analysis\n",
    "2. Rename analysis variables to more easily understand in later anlaysis\n",
    "'''\n",
    "\n",
    "df_2y['UnempWks'] = df_2y['nwlkwk'].astype('int')\n",
    "df_2y['Age'] = df_2y['a_age'].astype('int')\n",
    "df_2y['Sex'] = df_2y['a_sex'].astype('int')\n",
    "df_2y['Educ'] = df_2y['a_hga'].astype('int')\n",
    "df_2y['Race'] = df_2y['prdtrace'].astype('int')\n",
    "df_2y['Hisp'] = df_2y['pehspnon'].astype('int')\n",
    "df_2y['Military'] = df_2y['peafever'].astype('int')\n",
    "df_2y['LbforStat'] = df_2y['a_lfsr'].astype('int')\n",
    "\n",
    "# Create Long Term Unemployed variable to compare populations\n",
    "df_2y['LTunemp'] = np.where(df_2y['UnempWks']>=27, 'yes', 'no')\n",
    "df_2y['LTunempN'] = np.where(df_2y['UnempWks']>=27, 1, 0)\n"
   ]
  },
  {
   "cell_type": "code",
   "execution_count": null,
   "metadata": {
    "collapsed": true
   },
   "outputs": [],
   "source": [
    "# check for outliers and missing or wierd values\n",
    "\n",
    "df_2y.describe()"
   ]
  },
  {
   "cell_type": "markdown",
   "metadata": {},
   "source": [
    "#### Histogram to compare the age distribution of the long-term unemployed and the rest of the population"
   ]
  },
  {
   "cell_type": "code",
   "execution_count": 32,
   "metadata": {
    "collapsed": false
   },
   "outputs": [
    {
     "data": {
      "image/png": "[encoded data removed]",
      "text/plain": [
       "<matplotlib.figure.Figure at 0x2609425c3c8>"
      ]
     },
     "metadata": {},
     "output_type": "display_data"
    }
   ],
   "source": [
    "# create series to graph\n",
    "LT = df_2y[df_2y['LTunemp'] == 'yes']\n",
    "NotLT = df_2y[df_2y['LTunemp'] == 'no']\n",
    "\n",
    "xLT=xLT.reset_index(drop=True)\n",
    "xNotLT=xNotLT.reset_index(drop=True)\n",
    "\n",
    "\n",
    "# format chart\n",
    "n_bins = 10\n",
    "Varlabs = ['LongTerm_age' ,'all_ages']\n",
    "\n",
    "# create graph\n",
    "plt.hist([xLT,xNotLT], normed=True, histtype='bar', label=['LongTerm_age' ,'all_ages'])\n",
    "plt.show()"
   ]
  }
 ],
 "metadata": {
  "kernelspec": {
   "display_name": "Python 3",
   "language": "python",
   "name": "python3"
  },
  "language_info": {
   "codemirror_mode": {
    "name": "ipython",
    "version": 3
   },
   "file_extension": ".py",
   "mimetype": "text/x-python",
   "name": "python",
   "nbconvert_exporter": "python",
   "pygments_lexer": "ipython3",
   "version": "3.5.1"
  }
 },
 "nbformat": 4,
 "nbformat_minor": 0
}
