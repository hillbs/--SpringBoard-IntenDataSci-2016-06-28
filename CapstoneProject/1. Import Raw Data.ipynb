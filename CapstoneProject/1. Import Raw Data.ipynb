{
 "cells": [
  {
   "cell_type": "markdown",
   "metadata": {},
   "source": [
    "# Importing CPS Person Level Records"
   ]
  },
  {
   "cell_type": "code",
   "execution_count": 14,
   "metadata": {
    "collapsed": true
   },
   "outputs": [],
   "source": [
    "import pandas as pd\n",
    "import numpy as np\n",
    "\n",
    "import matplotlib.pyplot as plt\n",
    "%matplotlib inline"
   ]
  },
  {
   "cell_type": "markdown",
   "metadata": {
    "collapsed": true
   },
   "source": [
    "### Import 2015 data using varible lengths\n",
    "(instead of column interval start and stop points)"
   ]
  },
  {
   "cell_type": "code",
   "execution_count": 4,
   "metadata": {
    "collapsed": true
   },
   "outputs": [],
   "source": [
    "varnames=['precord', 'ph_seq', 'pppos', 'ppposold', 'a_lineno', 'a_parent', 'a_exprrp', 'perrp', 'a_age', \n",
    "          'a_maritl', 'a_spouse', 'a_sex', 'a_hga', 'prdtrace', 'p_stat', 'prpertyp', 'pehspnon', 'prdthsp', \n",
    "          'a_famnum', 'a_famtyp', 'a_famrel', 'a_pfrel', 'hhdrel', 'famrel', 'hhdfmx', 'parent', 'age1', 'phf_seq', \n",
    "          'pf_seq', 'pecohab', 'pelnmom', 'pelndad', 'pemomtyp', 'pedadtyp', 'peafever', 'peafwhn1', 'peafwhn2', \n",
    "          'peafwhn3', 'peafwhn4', 'pedisear', 'pediseye', 'pedisrem', 'pedisphy', 'pedisdrs', 'pedisout', 'prdisflg', \n",
    "          'penatvty', 'pemntvty', 'pefntvty', 'peinusyr', 'prcitshp', 'peridnum', 'fl_665', 'prdasian', 'a_fnlwgt', \n",
    "          'a_ernlwt', 'marsupwt', 'a_hrs1', 'a_uslft', 'a_whyabs', 'a_payabs', 'peioind', 'peioocc', 'a_clswkr', \n",
    "          'a_wkslk', 'a_whenlj', 'a_nlflj', 'a_wantjb', 'prerelg', 'a_uslhrs', 'a_hrlywk', 'a_hrspay', 'a_grswk', \n",
    "          'a_unmem', 'a_uncov', 'a_enrlw', 'a_hscol', 'a_ftpt', 'a_lfsr', 'a_untype', 'a_wkstat', 'a_explf', 'a_wksch', \n",
    "          'a_civlf', 'a_ftlf', 'a_mjind', 'a_dtind', 'a_mjocc', 'a_dtocc', 'peio1cow', 'prcow1', 'pemlr', 'pruntype', \n",
    "          'prwkstat', 'prptrea', 'prdisc', 'peabsrsn', 'prnlfsch', 'pehruslt', 'workyn', 'wrk_ck', 'wtemp', 'nwlook', \n",
    "          'nwlkwk', 'rsnnotw', 'wkswork', 'wkcheck', 'losewks', 'lknone', 'lkweeks', 'lkstrch', 'pyrsn', 'phmemprs', \n",
    "          'hrswk', 'hrcheck', 'ptyn', 'ptweeks', 'ptrsn', 'wexp', 'wewkrs', 'welknw', 'weuemp', 'earner', 'clwk', \n",
    "          'weclw', 'poccu2', 'wemocg', 'weind', 'wemind', 'ljcw', 'industry', 'occup', 'noemp', 'nxtres', 'mig_cbst', \n",
    "          'migsame', 'mig_reg', 'mig_st', 'mig_dscp', 'gediv', 'mig_div', 'mig_mtr1', 'mig_mtr3', 'mig_mtr4', 'ern_yn', 'ern_srce', 'ern_otr', 'ern_val', 'wageotr', 'wsal_yn', 'wsal_val', 'ws_val', 'seotr', 'semp_yn', 'semp_val', 'se_val', 'frmotr', 'frse_yn', 'frse_val', 'frm_val', 'uc_yn', 'subuc', 'strkuc', 'uc_val', 'wc_yn', 'wc_type', 'wc_val', 'ss_yn', 'ss_val', 'resnss1', 'resnss2', 'sskidyn', 'ssi_yn', 'ssi_val', 'resnssi1', 'resnssi2', 'ssikidyn', 'paw_yn', 'paw_typ', 'paw_mon', 'paw_val', 'vet_yn', 'vet_typ1', 'vet_typ2', 'vet_typ3', 'vet_typ4', 'vet_typ5', 'vet_qva', 'vet_val', 'sur_yn', 'sur_sc1', 'sur_sc2', 'sur_val1', 'sur_val2', 'srvs_val', 'dis_hp', 'dis_cs', 'dis_yn', 'dis_sc1', 'dis_sc2', 'dis_val1', 'dis_val2', 'dsab_val', 'ret_yn', 'ret_sc1', 'ret_sc2', 'ret_val1', 'ret_val2', 'rtm_val', 'int_yn', 'int_val', 'div_yn', 'div_val', 'rnt_yn', 'rnt_val', 'ed_yn', 'oed_typ1', 'oed_typ2', 'oed_typ3', 'ed_val', 'csp_yn', 'csp_val', 'fin_yn', 'fin_val', 'oi_off', 'oi_yn', 'oi_val', 'ptotval', 'pearnval', 'pothval', 'ptot_r', 'perlis', 'pov_univ', 'wicyn', 'mcare', 'mcaid', 'champ', 'hi_yn', 'hiown', 'hiemp', 'hipaid', 'emcontrb', 'hi', 'hityp', 'dephi', 'hilin1', 'hilin2', 'paid', 'hiout', 'priv', 'prityp', 'depriv', 'pilin1', 'pilin2', 'pout', 'out', 'care', 'caid', 'mon', 'oth', 'otyp_1', 'otyp_2', 'otyp_3', 'otyp_4', 'otyp_5', 'othstper', 'othstyp1', 'othstyp2', 'othstyp3', 'othstyp4', 'othstyp5', 'othstyp6', 'hea', 'ihsflg', 'ahiper', 'ahityp1', 'ahityp2', 'ahityp3', 'ahityp4', 'ahityp5', 'ahityp6', 'pchip', 'cov_gh', 'cov_hi', 'ch_mc', 'ch_hi', 'marg_tax', 'ctc_crd', 'penplan', 'penincl', 'filestat', 'dep_stat', 'eit_cred', 'actc_crd', 'fica', 'fed_ret', 'agi', 'tax_inc', 'fedtax_bc', 'fedtax_ac', 'statetax_bc', 'statetax_ac', 'prswkxpns', 'paidccyn', 'paidcyna', 'moop', 'phip_val', 'potc_val', 'pmed_val', 'chsp_val', 'chsp_yn', 'chelsew_yn', 'axrrp', 'axage', 'axmaritl', 'axspouse', 'axsex', 'axhga', 'pxrace1', 'pxhspnon', 'pxcohab', 'pxlnmom', 'pxlndad', 'pxmomtyp', 'pxdadtyp', 'pxafever', 'pxafwhn1', 'pxdisear', 'pxdiseye', 'pxdisrem', 'pxdisphy', 'pxdisdrs', 'pxdisout', 'pxnatvty', 'pxmntvty', 'pxfntvty', 'pxinusyr', 'prwernal', 'prhernal', 'axhrs', 'axwhyabs', 'axpayabs', 'axclswkr', 'axnlflj', 'axuslhrs', 'axhrlywk', 'axunmem', 'axuncov', 'axenrlw', 'axhscol', 'axftpt', 'axlfsr', 'i_workyn', 'i_wtemp', 'i_nwlook', 'i_nwlkwk', 'i_rsnnot', 'i_wkswk', 'i_wkchk', 'i_losewk', 'i_lkweek', 'i_lkstr', 'i_pyrsn', 'i_phmemp', 'i_hrswk', 'i_hrchk', 'i_ptyn', 'i_ptwks', 'i_ptrsn', 'i_ljcw', 'i_indus', 'i_occup', 'i_noemp', 'i_nxtres', 'i_mig1', 'i_mig2', 'i_mig3', 'i_disyn', 'i_ernyn', 'i_ernsrc', 'i_ernval', 'i_retsc2', 'i_wsyn', 'i_wsval', 'i_seyn', 'i_seval', 'i_frmyn', 'i_frmval', 'i_ucyn', 'i_ucval', 'i_wcyn', 'i_wctyp', 'i_wcval', 'i_ssyn', 'i_ssval', 'resnssa', 'i_ssiyn', 'sskidyna', 'i_ssival', 'resnssia', 'i_pawyn', 'ssikdyna', 'i_pawtyp', 'i_pawmo', 'i_pawval', 'i_vetyn', 'i_vettyp', 'i_vetqva', 'i_vetval', 'i_suryn', 'i_sursc1', 'i_sursc2', 'i_survl1', 'i_survl2', 'i_dishp', 'i_discs', 'i_dissc1', 'i_dissc2', 'i_disvl1', 'i_disvl2', 'i_retyn', 'i_retsc1', 'i_retvl1', 'i_retvl2', 'i_intyn', 'i_intval', 'i_divyn', 'i_divval', 'i_rntyn', 'i_rntval', 'i_edyn', 'i_edtyp1', 'i_edtyp2', 'i_oedval', 'i_cspyn', 'i_cspval', 'i_finyn', 'i_finval', 'i_oival', 'wicyna', 'i_hi', 'i_dephi', 'i_paid', 'i_hiout', 'i_priv', 'i_depriv', 'i_pout', 'i_out', 'i_care', 'i_caid', 'i_mon', 'i_oth', 'i_otyp', 'i_ostper', 'i_ostyp', 'i_hea', 'iahiper', 'iahityp', 'i_pchip', 'i_penpla', 'i_peninc', 'i_phipval', 'i_potcval', 'i_pmedval', 'i_chspval', 'i_chspyn', 'i_chelsewyn', 'a_werntf', 'a_herntf', 'tcernval', 'tcwsval', 'tcseval', 'tcffmval', 'tsurval1', 'tsurval2', 'tdisval1', 'tdisval2', 'tretval1', 'tretval2', 'tint_val', 'tdiv_val', 'trnt_val', 'ted_val', 'tcsp_val', 'tfin_val', 'toi_val', 'tphip_val', 'tpotc_val', 'tpmed_val', 'tchsp_val', 'm5g_cbst', 'm5g_dscp', 'm5gsame', 'm5g_reg', 'm5g_st', 'm5g_div', 'm5g_mtr1', 'm5g_mtr3', 'm5g_mtr4', 'i_m5g1', 'i_m5g2', 'i_m5g3']\n",
    "\n",
    "lengths=[1, 5, 2, 2, 2, 2, 2, 2, 2, 1, 2, 1, 2, 2, 1, 1, 1, 1, 2, 1, 1, 1, 1, 2, 2, 1, 2, 2, 2, 2, 2, 2, 2, 2, 2, \n",
    "         2, 2, 2, 2, 2, 2, 2, 2, 2, 2, 2, 3, 3, 3, 2, 1, 22, 1, 2, 8, 8, 8, 2, 1, 1, 1, 4, 4, 1, 3, 1, 1, 1, 1, \n",
    "         2, 1, 4, 4, 1, 1, 1, 1, 1, 1, 1, 1, 1, 1, 1, 1, 2, 2, 2, 2, 2, 1, 1, 1, 2, 2, 1, 2, 1, 3, 1, 1, 1, 1, 2, \n",
    "         1, 2, 1, 1, 1, 2, 1, 1, 1, 2, 1, 1, 2, 1, 2, 1, 1, 1, 1, 1, 1, 2, 2, 2, 2, 1, 4, 4, 1, 2, 1, 1, 1, 2, 1, \n",
    "         1, 2, 2, 1, 1, 1, 1, 1, 7, 1, 1, 7, 7, 1, 1, 7, 6, 1, 1, 7, 6, 1, 1, 1, 5, 1, 1, 5, 1, 5, 1, 1, 1, 1, 5, \n",
    "         1, 1, 1, 1, 1, 2, 5, 1, 1, 1, 1, 1, 1, 1, 5, 1, 2, 2, 5, 5, 6, 1, 1, 1, 2, 2, 5, 5, 6, 1, 1, 1, 5, 5, 6, \n",
    "         1, 5, 1, 6, 1, 5, 1, 1, 1, 1, 5, 1, 5, 1, 5, 2, 1, 5, 8, 8, 8, 2, 1, 1, 1, 1, 1, 1, 1, 1, 1, 1, 4, 1, 1, \n",
    "         1, 2, 2, 1, 1, 1, 1, 1, 2, 2, 1, 1, 1, 1, 2, 1, 1, 1, 1, 1, 1, 1, 2, 2, 2, 2, 2, 2, 1, 1, 1, 2, 2, 2, 2, \n",
    "         2, 2, 1, 1, 1, 1, 1, 2, 5, 1, 1, 1, 2, 4, 4, 5, 6, 7, 7, 7, 7, 6, 6, 4, 1, 1, 7, 6, 5, 6, 5, 1, 1, 1, 1, \n",
    "         1, 1, 1, 1, 2, 2, 2, 2, 2, 2, 2, 2, 2, 2, 2, 2, 2, 2, 2, 2, 2, 2, 2, 1, 1, 1, 1, 1, 1, 1, 1, 1, 1, 1, 1, \n",
    "         1, 1, 1, 1, 1, 1, 1, 1, 1, 1, 1, 1, 1, 1, 1, 1, 1, 1, 1, 1, 1, 1, 1, 1, 1, 1, 2, 1, 1, 1, 1, 1, 1, 1, 1, \n",
    "         1, 1, 1, 1, 1, 1, 1, 1, 1, 1, 1, 1, 1, 1, 1, 1, 1, 1, 1, 1, 1, 1, 1, 1, 1, 1, 1, 1, 1, 1, 1, 1, 1, 1, 1, \n",
    "         1, 1, 1, 1, 1, 1, 1, 1, 1, 1, 1, 1, 1, 1, 1, 1, 1, 1, 1, 1, 1, 1, 1, 1, 1, 1, 1, 1, 1, 1, 1, 1, 1, 1, 1, \n",
    "         1, 1, 1, 1, 1, 1, 1, 1, 1, 1, 1, 1, 1, 1, 1, 1, 1, 1, 1, 1, 1, 1, 1, 1, 1, 1, 1, 1, 1, 1, 1, 1, 1, 1, 1, \n",
    "         1, 1, 1, 1, 1, 2, 2, 2, 1, 1, 1, 2, 1]\n",
    "\n",
    "# import all data as string to keep leading 0s (and check if this is the cause of the strange values)\n",
    "Verts={'precord':str, 'ph_seq':str, 'pppos':str, 'ppposold':str, 'a_lineno':str, 'a_parent':str, 'a_exprrp':str, \n",
    "       'perrp':str, 'a_age':str, 'a_maritl':str, 'a_spouse':str, 'a_sex':str, 'a_hga':str, 'prdtrace':str, \n",
    "       'p_stat':str, 'prpertyp':str, 'pehspnon':str, 'prdthsp':str, 'a_famnum':str, 'a_famtyp':str, 'a_famrel':str, \n",
    "       'a_pfrel':str, 'hhdrel':str, 'famrel':str, 'hhdfmx':str, 'parent':str, 'age1':str, 'phf_seq':str, 'pf_seq':str, \n",
    "       'pecohab':str, 'pelnmom':str, 'pelndad':str, 'pemomtyp':str, 'pedadtyp':str, 'peafever':str, 'peafwhn1':str, \n",
    "       'peafwhn2':str, 'peafwhn3':str, 'peafwhn4':str, 'pedisear':str, 'pediseye':str, 'pedisrem':str, 'pedisphy':str, 'pedisdrs':str, 'pedisout':str, 'prdisflg':str, 'penatvty':str, 'pemntvty':str, 'pefntvty':str, 'peinusyr':str, 'prcitshp':str, 'peridnum':str, 'fl_665':str, 'prdasian':str, 'a_fnlwgt':str, 'a_ernlwt':str, 'marsupwt':str, 'a_hrs1':str, 'a_uslft':str, 'a_whyabs':str, 'a_payabs':str, 'peioind':str, 'peioocc':str, 'a_clswkr':str, 'a_wkslk':str, 'a_whenlj':str, 'a_nlflj':str, 'a_wantjb':str, 'prerelg':str, 'a_uslhrs':str, 'a_hrlywk':str, 'a_hrspay':str, 'a_grswk':str, 'a_unmem':str, 'a_uncov':str, 'a_enrlw':str, 'a_hscol':str, 'a_ftpt':str, 'a_lfsr':str, 'a_untype':str, 'a_wkstat':str, 'a_explf':str, 'a_wksch':str, 'a_civlf':str, 'a_ftlf':str, 'a_mjind':str, 'a_dtind':str, 'a_mjocc':str, 'a_dtocc':str, 'peio1cow':str, 'prcow1':str, 'pemlr':str, 'pruntype':str, 'prwkstat':str, 'prptrea':str, 'prdisc':str, 'peabsrsn':str, 'prnlfsch':str, 'pehruslt':str, 'workyn':str, 'wrk_ck':str, 'wtemp':str, 'nwlook':str, 'nwlkwk':str, 'rsnnotw':str, 'wkswork':str, 'wkcheck':str, 'losewks':str, 'lknone':str, 'lkweeks':str, 'lkstrch':str, 'pyrsn':str, 'phmemprs':str, 'hrswk':str, 'hrcheck':str, 'ptyn':str, 'ptweeks':str, 'ptrsn':str, 'wexp':str, 'wewkrs':str, 'welknw':str, 'weuemp':str, 'earner':str, 'clwk':str, 'weclw':str, 'poccu2':str, 'wemocg':str, 'weind':str, 'wemind':str, 'ljcw':str, 'industry':str, 'occup':str, 'noemp':str, 'nxtres':str, 'mig_cbst':str, 'migsame':str, 'mig_reg':str, 'mig_st':str, 'mig_dscp':str, 'gediv':str, 'mig_div':str, 'mig_mtr1':str, 'mig_mtr3':str, 'mig_mtr4':str, 'ern_yn':str, 'ern_srce':str, 'ern_otr':str, 'ern_val':str, 'wageotr':str, 'wsal_yn':str, 'wsal_val':str, 'ws_val':str, 'seotr':str, 'semp_yn':str, 'semp_val':str, 'se_val':str, 'frmotr':str, 'frse_yn':str, 'frse_val':str, 'frm_val':str, 'uc_yn':str, 'subuc':str, 'strkuc':str, 'uc_val':str, 'wc_yn':str, 'wc_type':str, 'wc_val':str, 'ss_yn':str, 'ss_val':str, 'resnss1':str, 'resnss2':str, 'sskidyn':str, 'ssi_yn':str, 'ssi_val':str, 'resnssi1':str, 'resnssi2':str, 'ssikidyn':str, 'paw_yn':str, 'paw_typ':str, 'paw_mon':str, 'paw_val':str, 'vet_yn':str, 'vet_typ1':str, 'vet_typ2':str, 'vet_typ3':str, 'vet_typ4':str, 'vet_typ5':str, 'vet_qva':str, 'vet_val':str, 'sur_yn':str, 'sur_sc1':str, 'sur_sc2':str, 'sur_val1':str, 'sur_val2':str, 'srvs_val':str, 'dis_hp':str, 'dis_cs':str, 'dis_yn':str, 'dis_sc1':str, 'dis_sc2':str, 'dis_val1':str, 'dis_val2':str, 'dsab_val':str, 'ret_yn':str, 'ret_sc1':str, 'ret_sc2':str, 'ret_val1':str, 'ret_val2':str, 'rtm_val':str, 'int_yn':str, 'int_val':str, 'div_yn':str, 'div_val':str, 'rnt_yn':str, 'rnt_val':str, 'ed_yn':str, 'oed_typ1':str, 'oed_typ2':str, 'oed_typ3':str, 'ed_val':str, 'csp_yn':str, 'csp_val':str, 'fin_yn':str, 'fin_val':str, 'oi_off':str, 'oi_yn':str, 'oi_val':str, 'ptotval':str, 'pearnval':str, 'pothval':str, 'ptot_r':str, 'perlis':str, 'pov_univ':str, 'wicyn':str, 'mcare':str, 'mcaid':str, 'champ':str, 'hi_yn':str, 'hiown':str, 'hiemp':str, 'hipaid':str, 'emcontrb':str, 'hi':str, 'hityp':str, 'dephi':str, 'hilin1':str, 'hilin2':str, 'paid':str, 'hiout':str, 'priv':str, 'prityp':str, 'depriv':str, 'pilin1':str, 'pilin2':str, 'pout':str, 'out':str, 'care':str, 'caid':str, 'mon':str, 'oth':str, 'otyp_1':str, 'otyp_2':str, 'otyp_3':str, 'otyp_4':str, 'otyp_5':str, 'othstper':str, 'othstyp1':str, 'othstyp2':str, 'othstyp3':str, 'othstyp4':str, 'othstyp5':str, 'othstyp6':str, 'hea':str, 'ihsflg':str, 'ahiper':str, 'ahityp1':str, 'ahityp2':str, 'ahityp3':str, 'ahityp4':str, 'ahityp5':str, 'ahityp6':str, 'pchip':str, 'cov_gh':str, 'cov_hi':str, 'ch_mc':str, 'ch_hi':str, 'marg_tax':str, 'ctc_crd':str, 'penplan':str, 'penincl':str, 'filestat':str, 'dep_stat':str, 'eit_cred':str, 'actc_crd':str, 'fica':str, 'fed_ret':str, 'agi':str, 'tax_inc':str, 'fedtax_bc':str, 'fedtax_ac':str, 'statetax_bc':str, 'statetax_ac':str, 'prswkxpns':str, 'paidccyn':str, 'paidcyna':str, 'moop':str, 'phip_val':str, 'potc_val':str, 'pmed_val':str, 'chsp_val':str, 'chsp_yn':str, 'chelsew_yn':str, 'axrrp':str, 'axage':str, 'axmaritl':str, 'axspouse':str, 'axsex':str, 'axhga':str, 'pxrace1':str, 'pxhspnon':str, 'pxcohab':str, 'pxlnmom':str, 'pxlndad':str, 'pxmomtyp':str, 'pxdadtyp':str, 'pxafever':str, 'pxafwhn1':str, 'pxdisear':str, 'pxdiseye':str, 'pxdisrem':str, 'pxdisphy':str, 'pxdisdrs':str, 'pxdisout':str, 'pxnatvty':str, 'pxmntvty':str, 'pxfntvty':str, 'pxinusyr':str, 'prwernal':str, 'prhernal':str, 'axhrs':str, 'axwhyabs':str, 'axpayabs':str, 'axclswkr':str, 'axnlflj':str, 'axuslhrs':str, 'axhrlywk':str, 'axunmem':str, 'axuncov':str, 'axenrlw':str, 'axhscol':str, 'axftpt':str, 'axlfsr':str, 'i_workyn':str, 'i_wtemp':str, 'i_nwlook':str, 'i_nwlkwk':str, 'i_rsnnot':str, 'i_wkswk':str, 'i_wkchk':str, 'i_losewk':str, 'i_lkweek':str, 'i_lkstr':str, 'i_pyrsn':str, 'i_phmemp':str, 'i_hrswk':str, 'i_hrchk':str, 'i_ptyn':str, 'i_ptwks':str, 'i_ptrsn':str, 'i_ljcw':str, 'i_indus':str, 'i_occup':str, 'i_noemp':str, 'i_nxtres':str, 'i_mig1':str, 'i_mig2':str, 'i_mig3':str, 'i_disyn':str, 'i_ernyn':str, 'i_ernsrc':str, 'i_ernval':str, 'i_retsc2':str, 'i_wsyn':str, 'i_wsval':str, 'i_seyn':str, 'i_seval':str, 'i_frmyn':str, 'i_frmval':str, 'i_ucyn':str, 'i_ucval':str, 'i_wcyn':str, 'i_wctyp':str, 'i_wcval':str, 'i_ssyn':str, 'i_ssval':str, 'resnssa':str, 'i_ssiyn':str, 'sskidyna':str, 'i_ssival':str, 'resnssia':str, 'i_pawyn':str, 'ssikdyna':str, 'i_pawtyp':str, 'i_pawmo':str, 'i_pawval':str, 'i_vetyn':str, 'i_vettyp':str, 'i_vetqva':str, 'i_vetval':str, 'i_suryn':str, 'i_sursc1':str, 'i_sursc2':str, 'i_survl1':str, 'i_survl2':str, 'i_dishp':str, 'i_discs':str, 'i_dissc1':str, 'i_dissc2':str, 'i_disvl1':str, 'i_disvl2':str, 'i_retyn':str, 'i_retsc1':str, 'i_retvl1':str, 'i_retvl2':str, 'i_intyn':str, 'i_intval':str, 'i_divyn':str, 'i_divval':str, 'i_rntyn':str, 'i_rntval':str, 'i_edyn':str, 'i_edtyp1':str, 'i_edtyp2':str, 'i_oedval':str, 'i_cspyn':str, 'i_cspval':str, 'i_finyn':str, 'i_finval':str, 'i_oival':str, 'wicyna':str, 'i_hi':str, 'i_dephi':str, 'i_paid':str, 'i_hiout':str, 'i_priv':str, 'i_depriv':str, 'i_pout':str, 'i_out':str, 'i_care':str, 'i_caid':str, 'i_mon':str, 'i_oth':str, 'i_otyp':str, 'i_ostper':str, 'i_ostyp':str, 'i_hea':str, 'iahiper':str, 'iahityp':str, 'i_pchip':str, 'i_penpla':str, 'i_peninc':str, 'i_phipval':str, 'i_potcval':str, 'i_pmedval':str, 'i_chspval':str, 'i_chspyn':str, 'i_chelsewyn':str, 'a_werntf':str, 'a_herntf':str, 'tcernval':str, 'tcwsval':str, 'tcseval':str, 'tcffmval':str, 'tsurval1':str, 'tsurval2':str, 'tdisval1':str, 'tdisval2':str, 'tretval1':str, 'tretval2':str, 'tint_val':str, 'tdiv_val':str, 'trnt_val':str, 'ted_val':str, 'tcsp_val':str, 'tfin_val':str, 'toi_val':str, 'tphip_val':str, 'tpotc_val':str, 'tpmed_val':str, 'tchsp_val':str, 'm5g_cbst':str, 'm5g_dscp':str, 'm5gsame':str, 'm5g_reg':str, 'm5g_st':str, 'm5g_div':str, 'm5g_mtr1':str, 'm5g_mtr3':str, 'm5g_mtr4':str, 'i_m5g1':str, 'i_m5g2':str, 'i_m5g3':str}\n",
    "\n",
    "df=pd.read_fwf('asec2015_pubuse.dat', widths=lengths, header=None, names=varnames, converters=Verts)\n",
    "\n",
    "df['surv_year'] = '2015'\n",
    "\n",
    "# record type denotes whether its a person, family, or household record\n",
    "df_pers15 = df[df['precord'] == '3']"
   ]
  },
  {
   "cell_type": "markdown",
   "metadata": {
    "collapsed": true
   },
   "source": [
    "### Import 2009 data"
   ]
  },
  {
   "cell_type": "code",
   "execution_count": 5,
   "metadata": {
    "collapsed": true
   },
   "outputs": [],
   "source": [
    "varnames=['precord',  'ph_seq',  'pppos',  'a_lineno',  'a_parent',  'a_exprrp',  'a_age',  'a_maritl',  'a_spouse',  'a_sex',  'a_hga',  'prdtrace',  'p_stat',  'pehspnon',  'prdthsp',  'a_famnum',  'a_famtyp',  'a_famrel',  'a_pfrel',  'hhdrel',  'famrel',  'hhdfmx',  'parent',  'age1',  'phf_seq',  'pf_seq',  'a_fnlwgt',  'a_ernlwt',  'marsupwt',  'a_hrs1',  'a_uslft',  'a_whyabs',  'a_payabs',  'peioind',  'peioocc',  'a_wkslk',  'a_whenlj',  'a_clswkr',  'ppposold',  'a_nlflj',  'a_wantjb',  'peafever',  'peafwhn1',  'peafwhn2',  'peafwhn3',  'peafwhn4',  'a_uslhrs',  'a_hrlywk',  'a_hrspay',  'a_grswk',  'a_unmem',  'a_uncov',  'a_enrlw',  'a_hscol',  'a_ftpt',  'a_lfsr',  'a_untype',  'a_wkstat',  'a_explf',  'a_wksch',  'a_civlf',  'a_ftlf',  'a_mjind',  'a_dtind',  'mjocc',  'a_dtocc',  'prerelg',  'workyn',  'wtemp',  'nwlook',  'nwlkwk',  'rsnnotw',  'wkswork',  'wkcheck',  'losewks',  'lknone',  'lkweeks',  'lkstrch',  'pyrsn',  'phmemprs',  'hrswk',  'hrcheck',  'ptyn',  'ptweeks',  'ptrsn',  'ljcw',  'wexp',  'wewkrs',  'welknw',  'weuemp',  'earner',  'clwk',  'weclw',  'poccu2',  'wemocg',  'weind',  'wemind',  'mig_cbst',  'migsame',  'mig_reg',  'mig_st',  'mig_dscp',  'gediv',  'mig_div',  'mig_mtr1',  'mig_mtr3',  'mig_mtr4',  'noemp',  'ern_yn',  'ern_val',  'ern_srce',  'ern_otr',  'wageotr',  'prswkxpns',  'wsal_yn',  'wsal_val',  'seotr',  'semp_yn',  'semp_val',  'frmotr',  'frse_yn',  'frse_val',  'uc_yn',  'subuc',  'strkuc',  'uc_val',  'wc_yn',  'wc_type',  'wc_val',  'ss_yn',  'ss_val',  'ssi_yn',  'paw_yn',  'paw_typ',  'paw_mon',  'paw_val',  'vet_yn',  'vet_typ1',  'vet_typ2',  'vet_typ3',  'vet_typ4',  'vet_typ5',  'vet_qva',  'vet_val',  'sur_yn',  'sur_sc1',  'sur_sc2',  'sur_val1',  'sur_val2',  'srvs_val',  'dis_hp',  'dis_cs',  'dis_yn',  'dis_sc1',  'dis_sc2',  'dis_val1',  'dis_val2',  'dsab_val',  'ret_yn',  'ret_sc1',  'ret_sc2',  'ret_val1',  'ret_val2',  'rtm_val',  'int_yn',  'int_val',  'div_yn',  'div_non',  'div_val',  'rnt_yn',  'rnt_val',  'ed_yn',  'oed_typ1',  'oed_typ2',  'oed_typ3',  'ed_val',  'csp_yn',  'csp_val',  'alm_yn',  'alm_val',  'fin_yn',  'fin_val',  'oi_off',  'oi_yn',  'oi_val',  'ptotval',  'pearnval',  'pothval',  'fl_665',  'ptot_r',  'perlis',  'mcare',  'mcaid',  'champ',  'hi_yn',  'hiown',  'hiemp',  'hipaid',  'wrk_ck',  'penplan',  'penincl',  'cov_gh',  'cov_hi',  'ch_mc',  'ch_hi',  'a1rrp',  'a1age',  'a1maritl',  'a1spouse',  'a1sex',  'a1hga',  'a1lfsr',  'a1hrs',  'pxafever',  'pxafwhn1',  'a1whyabs',  'a1payabs',  'a1clswkr',  'a1nlflj',  'a1uslhrs',  'a1hrlywk',  'prwernal',  'prhernal',  'a1unmem',  'a1uncov',  'a1enrlw',  'a1hscol',  'a1ftpt',  'i_ernyn',  'i_ernval',  'i_wsyn',  'i_wsval',  'i_seyn',  'i_seval',  'i_frmyn',  'i_frmval',  'i_ucyn',  'i_ucval',  'i_wcyn',  'i_wctyp',  'i_wcval',  'i_ssyn',  'i_ssval',  'i_ssiyn',  'i_ssival',  'i_pawyn',  'i_pawtyp',  'i_pawval',  'i_pawmo',  'i_vetyn',  'i_vettyp',  'i_vetval',  'i_vetqva',  'i_suryn',  'i_sursc1',  'i_sursc2',  'i_survl1',  'i_survl2',  'i_dissc1',  'i_dissc2',  'i_dishp',  'i_discs',  'i_disyn',  'toi_val',  'i_disvl1',  'i_disvl2',  'i_retyn',  'i_retsc1',  'i_retsc2',  'i_retvl1',  'i_retvl2',  'i_intyn',  'i_intval',  'i_divyn',  'i_divval',  'i_rntyn',  'i_rntval',  'i_edyn',  'i_edtyp1',  'i_edtyp2',  'i_oedval',  'i_cspyn',  'i_cspval',  'i_almyn',  'i_almval',  'i_finyn',  'i_finval',  'i_oival',  'i_nwlook',  'i_nwlkwk',  'i_rsnnot',  'i_losewk',  'i_lkweek',  'i_lkstr',  'i_pyrsn',  'i_phmemp',  'i_hrswk',  'i_hrchk',  'i_ptyn',  'i_ptwks',  'i_ptrsn',  'i_ljcw',  'i_indus',  'i_occup',  'i_workyn',  'i_wtemp',  'i_wkswk',  'i_wkchk',  'i_ernsrc',  'i_noemp',  'i_mig2',  'i_penpla',  'i_peninc',  'i_mig1',  'tcernval',  'tcwsval',  'tcseval',  'tcffmval',  'a_werntf',  'a_herntf',  'p_mvcare',  'p_mvcaid',  'emcontrb',  'filestat',  'dep_stat',  'ctc_crd',  'eit_cred',  'actc_crd',  'fica',  'fed_ret',  'agi',  'cap_gain',  'cap_loss',  'tax_inc',  'marg_tax',  'pemlr',  'pruntype',  'prwkstat',  'prptrea',  'prdisc',  'prcow1',  'prpertyp',  'peabsrsn',  'peio1cow',  'prnlfsch',  'pehruslt',  'penatvty',  'pemntvty',  'pefntvty',  'peinusyr',  'prcitshp',  'pxnatvty',  'pxmntvty',  'pxfntvty',  'pxinusyr',  'perrp',  'i_mig3',  'hi',  'hityp',  'dephi',  'hilin1',  'hilin2',  'paid',  'hiout',  'priv',  'prityp',  'depriv',  'pilin1',  'pilin2',  'pout',  'out',  'care',  'caid',  'mon',  'oth',  'otyp_1',  'otyp_2',  'otyp_3',  'otyp_4',  'otyp_5',  'othstper',  'othstyp1',  'othstyp2',  'othstyp3',  'othstyp4',  'othstyp5',  'othstyp6',  'stimulus',  'hea',  'i_hi',  'i_dephi',  'i_paid',  'i_hiout',  'i_priv',  'i_depriv',  'i_pout',  'i_out',  'i_care',  'i_caid',  'i_mon',  'i_oth',  'i_otyp',  'i_ostper',  'i_ostyp',  'i_hea',  'ssi_val',  'ws_val',  'se_val',  'ihsflg',  'tsurval1',  'tsurval2',  'tdisval1',  'tdisval2',  'tretval1',  'tretval2',  'tint_val',  'tdiv_val',  'trnt_val',  'ted_val',  'tcsp_val',  'talm_val',  'tfin_val',  'nxtres',  'i_nxtres',  'frm_val',  'tranyn',  'tranyna',  'ccayn',  'ccayna',  'paidccyn',  'paidcyna',  'ahiper',  'iahiper',  'ahityp1',  'ahityp2',  'ahityp3',  'ahityp4',  'ahityp5',  'ahityp6',  'iahityp',  'pchip',  'i_pchip',  'resnss1',  'resnss2',  'resnssa',  'resnssi1',  'resnssi2',  'resnssia',  'ssikidyn',  'ssikdyna',  'sskidyn',  'sskidyna',  'jcyn',  'jcyna',  'jryn',  'jryna',  'jtyn',  'jtyna',  'schoolyn',  'scholyna',  'wicyn',  'wicyna',  'comsrvyn',  'cmsrvyna',  'industry',  'occup',  'peridnum',  'fedtax_bc',  'fedtax_ac',  'statetax_bc',  'statetax_ac',  'pecohab',  'pelnmom',  'pelndad',  'pemomtyp',  'pedadtyp',  'pxcohab',  'pxlnmom',  'pxlndad',  'pxmomtyp',  'pxdadtyp',  'pedisear',  'pediseye',  'pedisrem',  'pedisphy',  'pedisdrs',  'pedisout',  'prdisflg',  'pxdisear',  'pxdiseye',  'pxdisrem',  'pxdisphy',  'pxdisdrs',  'pxdisout']\n",
    "lengths=[1,  5,  2,  2,  2,  2,  2,  1,  2,  1,  2,  2,  1,  1,  1,  2,  1,  1,  1,  1,  2,  2,  1,  2,  2,  2,  8,  8,  8,  2,  1,  1,  1,  4,  4,  3,  1,  1,  2,  1,  1,  2,  2,  2,  2,  2,  2,  1,  4,  4,  1,  1,  1,  1,  1,  1,  1,  1,  1,  1,  1,  1,  2,  2,  2,  2,  1,  1,  1,  1,  2,  1,  2,  1,  1,  1,  2,  1,  1,  1,  2,  1,  1,  2,  1,  1,  2,  1,  1,  1,  1,  1,  1,  2,  2,  2,  2,  1,  1,  1,  2,  1,  1,  2,  2,  1,  1,  1,  1,  6,  1,  1,  1,  4,  1,  6,  1,  1,  6,  1,  1,  6,  1,  1,  1,  5,  1,  1,  5,  1,  5,  1,  1,  1,  2,  5,  1,  1,  1,  1,  1,  1,  1,  5,  1,  2,  2,  5,  5,  6,  1,  1,  1,  2,  2,  5,  5,  6,  1,  1,  1,  5,  5,  6,  1,  5,  1,  1,  5,  1,  5,  1,  1,  1,  1,  5,  1,  5,  1,  5,  1,  5,  2,  1,  5,  8,  8,  8,  1,  2,  1,  1,  1,  1,  1,  1,  1,  1,  1,  1,  1,  1,  1,  1,  1,  1,  1,  1,  1,  1,  1,  1,  1,  2,  2,  1,  1,  1,  1,  1,  1,  1,  1,  1,  1,  1,  1,  1,  1,  1,  1,  1,  1,  1,  1,  1,  1,  1,  1,  1,  1,  1,  1,  1,  1,  1,  1,  1,  1,  1,  1,  1,  1,  1,  1,  1,  1,  1,  1,  1,  1,  1,  1,  1,  1,  1,  1,  1,  1,  1,  1,  1,  1,  1,  1,  1,  1,  1,  1,  1,  1,  1,  1,  1,  1,  1,  1,  1,  1,  1,  1,  1,  1,  1,  1,  1,  1,  1,  1,  1,  1,  1,  1,  1,  1,  1,  1,  1,  1,  1,  2,  1,  1,  1,  1,  1,  1,  1,  1,  1,  5,  5,  4,  1,  2,  4,  4,  4,  5,  5,  5,  5,  4,  5,  2,  1,  1,  2,  2,  1,  1,  1,  2,  2,  1,  3,  3,  3,  3,  2,  1,  2,  2,  2,  2,  2,  1,  1,  1,  1,  2,  2,  1,  1,  1,  1,  1,  2,  2,  1,  1,  1,  1,  2,  1,  1,  1,  1,  1,  1,  1,  2,  2,  2,  2,  2,  2,  4,  1,  1,  1,  1,  1,  1,  1,  1,  1,  1,  1,  1,  1,  1,  1,  1,  1,  5,  6,  6,  1,  1,  1,  1,  1,  1,  1,  1,  1,  1,  1,  1,  1,  1,  2,  1,  6,  1,  1,  1,  1,  1,  1,  1,  1,  2,  2,  2,  2,  2,  2,  1,  1,  1,  1,  1,  1,  1,  1,  1,  1,  1,  1,  1,  1,  1,  1,  1,  1,  1,  1,  1,  1,  1,  1,  1,  4,  4,  22,  5,  5,  5,  5,  2,  2,  2,  2,  2,  2,  2,  2,  2,  2,  2,  2,  2,  2,  2,  2,  2,  2,  2,  2,  2,  2,  2]\n",
    "Verts={'precord':str, 'ph_seq':str, 'pppos':str, 'a_lineno':str, 'a_parent':str, 'a_exprrp':str, 'a_age':str, 'a_maritl':str, 'a_spouse':str, 'a_sex':str, 'a_hga':str, 'prdtrace':str, 'p_stat':str, 'pehspnon':str, 'prdthsp':str, 'a_famnum':str, 'a_famtyp':str, 'a_famrel':str, 'a_pfrel':str, 'hhdrel':str, 'famrel':str, 'hhdfmx':str, 'parent':str, 'age1':str, 'phf_seq':str, 'pf_seq':str, 'a_fnlwgt':str, 'a_ernlwt':str, 'marsupwt':str, 'a_hrs1':str, 'a_uslft':str, 'a_whyabs':str, 'a_payabs':str, 'peioind':str, 'peioocc':str, 'a_wkslk':str, 'a_whenlj':str, 'a_clswkr':str, 'ppposold':str, 'a_nlflj':str, 'a_wantjb':str, 'peafever':str, 'peafwhn1':str, 'peafwhn2':str, 'peafwhn3':str, 'peafwhn4':str, 'a_uslhrs':str, 'a_hrlywk':str, 'a_hrspay':str, 'a_grswk':str, 'a_unmem':str, 'a_uncov':str, 'a_enrlw':str, 'a_hscol':str, 'a_ftpt':str, 'a_lfsr':str, 'a_untype':str, 'a_wkstat':str, 'a_explf':str, 'a_wksch':str, 'a_civlf':str, 'a_ftlf':str, 'a_mjind':str, 'a_dtind':str, 'mjocc':str, 'a_dtocc':str, 'prerelg':str, 'workyn':str, 'wtemp':str, 'nwlook':str, 'nwlkwk':str, 'rsnnotw':str, 'wkswork':str, 'wkcheck':str, 'losewks':str, 'lknone':str, 'lkweeks':str, 'lkstrch':str, 'pyrsn':str, 'phmemprs':str, 'hrswk':str, 'hrcheck':str, 'ptyn':str, 'ptweeks':str, 'ptrsn':str, 'ljcw':str, 'wexp':str, 'wewkrs':str, 'welknw':str, 'weuemp':str, 'earner':str, 'clwk':str, 'weclw':str, 'poccu2':str, 'wemocg':str, 'weind':str, 'wemind':str, 'mig_cbst':str, 'migsame':str, 'mig_reg':str, 'mig_st':str, 'mig_dscp':str, 'gediv':str, 'mig_div':str, 'mig_mtr1':str, 'mig_mtr3':str, 'mig_mtr4':str, 'noemp':str, 'ern_yn':str, 'ern_val':str, 'ern_srce':str, 'ern_otr':str, 'wageotr':str, 'prswkxpns':str, 'wsal_yn':str, 'wsal_val':str, 'seotr':str, 'semp_yn':str, 'semp_val':str, 'frmotr':str, 'frse_yn':str, 'frse_val':str, 'uc_yn':str, 'subuc':str, 'strkuc':str, 'uc_val':str, 'wc_yn':str, 'wc_type':str, 'wc_val':str, 'ss_yn':str, 'ss_val':str, 'ssi_yn':str, 'paw_yn':str, 'paw_typ':str, 'paw_mon':str, 'paw_val':str, 'vet_yn':str, 'vet_typ1':str, 'vet_typ2':str, 'vet_typ3':str, 'vet_typ4':str, 'vet_typ5':str, 'vet_qva':str, 'vet_val':str, 'sur_yn':str, 'sur_sc1':str, 'sur_sc2':str, 'sur_val1':str, 'sur_val2':str, 'srvs_val':str, 'dis_hp':str, 'dis_cs':str, 'dis_yn':str, 'dis_sc1':str, 'dis_sc2':str, 'dis_val1':str, 'dis_val2':str, 'dsab_val':str, 'ret_yn':str, 'ret_sc1':str, 'ret_sc2':str, 'ret_val1':str, 'ret_val2':str, 'rtm_val':str, 'int_yn':str, 'int_val':str, 'div_yn':str, 'div_non':str, 'div_val':str, 'rnt_yn':str, 'rnt_val':str, 'ed_yn':str, 'oed_typ1':str, 'oed_typ2':str, 'oed_typ3':str, 'ed_val':str, 'csp_yn':str, 'csp_val':str, 'alm_yn':str, 'alm_val':str, 'fin_yn':str, 'fin_val':str, 'oi_off':str, 'oi_yn':str, 'oi_val':str, 'ptotval':str, 'pearnval':str, 'pothval':str, 'fl_665':str, 'ptot_r':str, 'perlis':str, 'mcare':str, 'mcaid':str, 'champ':str, 'hi_yn':str, 'hiown':str, 'hiemp':str, 'hipaid':str, 'wrk_ck':str, 'penplan':str, 'penincl':str, 'cov_gh':str, 'cov_hi':str, 'ch_mc':str, 'ch_hi':str, 'a1rrp':str, 'a1age':str, 'a1maritl':str, 'a1spouse':str, 'a1sex':str, 'a1hga':str, 'a1lfsr':str, 'a1hrs':str, 'pxafever':str, 'pxafwhn1':str, 'a1whyabs':str, 'a1payabs':str, 'a1clswkr':str, 'a1nlflj':str, 'a1uslhrs':str, 'a1hrlywk':str, 'prwernal':str, 'prhernal':str, 'a1unmem':str, 'a1uncov':str, 'a1enrlw':str, 'a1hscol':str, 'a1ftpt':str, 'i_ernyn':str, 'i_ernval':str, 'i_wsyn':str, 'i_wsval':str, 'i_seyn':str, 'i_seval':str, 'i_frmyn':str, 'i_frmval':str, 'i_ucyn':str, 'i_ucval':str, 'i_wcyn':str, 'i_wctyp':str, 'i_wcval':str, 'i_ssyn':str, 'i_ssval':str, 'i_ssiyn':str, 'i_ssival':str, 'i_pawyn':str, 'i_pawtyp':str, 'i_pawval':str, 'i_pawmo':str, 'i_vetyn':str, 'i_vettyp':str, 'i_vetval':str, 'i_vetqva':str, 'i_suryn':str, 'i_sursc1':str, 'i_sursc2':str, 'i_survl1':str, 'i_survl2':str, 'i_dissc1':str, 'i_dissc2':str, 'i_dishp':str, 'i_discs':str, 'i_disyn':str, 'toi_val':str, 'i_disvl1':str, 'i_disvl2':str, 'i_retyn':str, 'i_retsc1':str, 'i_retsc2':str, 'i_retvl1':str, 'i_retvl2':str, 'i_intyn':str, 'i_intval':str, 'i_divyn':str, 'i_divval':str, 'i_rntyn':str, 'i_rntval':str, 'i_edyn':str, 'i_edtyp1':str, 'i_edtyp2':str, 'i_oedval':str, 'i_cspyn':str, 'i_cspval':str, 'i_almyn':str, 'i_almval':str, 'i_finyn':str, 'i_finval':str, 'i_oival':str, 'i_nwlook':str, 'i_nwlkwk':str, 'i_rsnnot':str, 'i_losewk':str, 'i_lkweek':str, 'i_lkstr':str, 'i_pyrsn':str, 'i_phmemp':str, 'i_hrswk':str, 'i_hrchk':str, 'i_ptyn':str, 'i_ptwks':str, 'i_ptrsn':str, 'i_ljcw':str, 'i_indus':str, 'i_occup':str, 'i_workyn':str, 'i_wtemp':str, 'i_wkswk':str, 'i_wkchk':str, 'i_ernsrc':str, 'i_noemp':str, 'i_mig2':str, 'i_penpla':str, 'i_peninc':str, 'i_mig1':str, 'tcernval':str, 'tcwsval':str, 'tcseval':str, 'tcffmval':str, 'a_werntf':str, 'a_herntf':str, 'p_mvcare':str, 'p_mvcaid':str, 'emcontrb':str, 'filestat':str, 'dep_stat':str, 'ctc_crd':str, 'eit_cred':str, 'actc_crd':str, 'fica':str, 'fed_ret':str, 'agi':str, 'cap_gain':str, 'cap_loss':str, 'tax_inc':str, 'marg_tax':str, 'pemlr':str, 'pruntype':str, 'prwkstat':str, 'prptrea':str, 'prdisc':str, 'prcow1':str, 'prpertyp':str, 'peabsrsn':str, 'peio1cow':str, 'prnlfsch':str, 'pehruslt':str, 'penatvty':str, 'pemntvty':str, 'pefntvty':str, 'peinusyr':str, 'prcitshp':str, 'pxnatvty':str, 'pxmntvty':str, 'pxfntvty':str, 'pxinusyr':str, 'perrp':str, 'i_mig3':str, 'hi':str, 'hityp':str, 'dephi':str, 'hilin1':str, 'hilin2':str, 'paid':str, 'hiout':str, 'priv':str, 'prityp':str, 'depriv':str, 'pilin1':str, 'pilin2':str, 'pout':str, 'out':str, 'care':str, 'caid':str, 'mon':str, 'oth':str, 'otyp_1':str, 'otyp_2':str, 'otyp_3':str, 'otyp_4':str, 'otyp_5':str, 'othstper':str, 'othstyp1':str, 'othstyp2':str, 'othstyp3':str, 'othstyp4':str, 'othstyp5':str, 'othstyp6':str, 'stimulus':str, 'hea':str, 'i_hi':str, 'i_dephi':str, 'i_paid':str, 'i_hiout':str, 'i_priv':str, 'i_depriv':str, 'i_pout':str, 'i_out':str, 'i_care':str, 'i_caid':str, 'i_mon':str, 'i_oth':str, 'i_otyp':str, 'i_ostper':str, 'i_ostyp':str, 'i_hea':str, 'ssi_val':str, 'ws_val':str, 'se_val':str, 'ihsflg':str, 'tsurval1':str, 'tsurval2':str, 'tdisval1':str, 'tdisval2':str, 'tretval1':str, 'tretval2':str, 'tint_val':str, 'tdiv_val':str, 'trnt_val':str, 'ted_val':str, 'tcsp_val':str, 'talm_val':str, 'tfin_val':str, 'nxtres':str, 'i_nxtres':str, 'frm_val':str, 'tranyn':str, 'tranyna':str, 'ccayn':str, 'ccayna':str, 'paidccyn':str, 'paidcyna':str, 'ahiper':str, 'iahiper':str, 'ahityp1':str, 'ahityp2':str, 'ahityp3':str, 'ahityp4':str, 'ahityp5':str, 'ahityp6':str, 'iahityp':str, 'pchip':str, 'i_pchip':str, 'resnss1':str, 'resnss2':str, 'resnssa':str, 'resnssi1':str, 'resnssi2':str, 'resnssia':str, 'ssikidyn':str, 'ssikdyna':str, 'sskidyn':str, 'sskidyna':str, 'jcyn':str, 'jcyna':str, 'jryn':str, 'jryna':str, 'jtyn':str, 'jtyna':str, 'schoolyn':str, 'scholyna':str, 'wicyn':str, 'wicyna':str, 'comsrvyn':str, 'cmsrvyna':str, 'industry':str, 'occup':str, 'peridnum':str, 'fedtax_bc':str, 'fedtax_ac':str, 'statetax_bc':str, 'statetax_ac':str, 'pecohab':str, 'pelnmom':str, 'pelndad':str, 'pemomtyp':str, 'pedadtyp':str, 'pxcohab':str, 'pxlnmom':str, 'pxlndad':str, 'pxmomtyp':str, 'pxdadtyp':str, 'pedisear':str, 'pediseye':str, 'pedisrem':str, 'pedisphy':str, 'pedisdrs':str, 'pedisout':str, 'prdisflg':str, 'pxdisear':str, 'pxdiseye':str, 'pxdisrem':str, 'pxdisphy':str, 'pxdisdrs':str, 'pxdisout':str}\n",
    "\n",
    "df=pd.read_fwf('asec2009_pubuse.dat', widths=lengths, header=None, names=varnames, converters=Verts)\n",
    "\n",
    "df['surv_year'] = '2009'\n",
    "\n",
    "df_pers09 = df[df['precord'] == '3']"
   ]
  },
  {
   "cell_type": "markdown",
   "metadata": {
    "collapsed": true
   },
   "source": [
    "##### Export data for easier examination (excel) and save my imported data."
   ]
  },
  {
   "cell_type": "code",
   "execution_count": 6,
   "metadata": {
    "collapsed": true
   },
   "outputs": [],
   "source": [
    "df_pers15.to_csv('Pers15_3.csv')\n",
    "df_pers09.to_csv('Pers09_3.csv')\n",
    "\n",
    "'''\n",
    "save data so I can start with clean imported data and not have to wait\n",
    "for the large dataset to import each time \n",
    "'''\n",
    "df_pers15.to_pickle('pers15')\n",
    "df_pers09.to_pickle('pers09')"
   ]
  },
  {
   "cell_type": "markdown",
   "metadata": {
    "collapsed": true
   },
   "source": [
    "##### Subset to keep reference person records\n",
    "(not spouse or child records)"
   ]
  },
  {
   "cell_type": "code",
   "execution_count": 27,
   "metadata": {
    "collapsed": true
   },
   "outputs": [],
   "source": [
    "df_RefPers15 = df_pers15[df_pers15['famrel'] == '10']\n",
    "df_RefPers09 = df_pers09[df_pers09['famrel'] == '10']"
   ]
  },
  {
   "cell_type": "markdown",
   "metadata": {},
   "source": [
    "###### Check lengths for data validation issues"
   ]
  },
  {
   "cell_type": "code",
   "execution_count": 28,
   "metadata": {
    "collapsed": false
   },
   "outputs": [
    {
     "data": {
      "text/plain": [
       "207921"
      ]
     },
     "execution_count": 28,
     "metadata": {},
     "output_type": "execute_result"
    }
   ],
   "source": [
    "len(df_pers09)"
   ]
  },
  {
   "cell_type": "code",
   "execution_count": 29,
   "metadata": {
    "collapsed": false
   },
   "outputs": [
    {
     "data": {
      "text/plain": [
       "54551"
      ]
     },
     "execution_count": 29,
     "metadata": {},
     "output_type": "execute_result"
    }
   ],
   "source": [
    "len(df_RefPers09)"
   ]
  },
  {
   "cell_type": "code",
   "execution_count": 30,
   "metadata": {
    "collapsed": false
   },
   "outputs": [
    {
     "data": {
      "text/plain": [
       "199024"
      ]
     },
     "execution_count": 30,
     "metadata": {},
     "output_type": "execute_result"
    }
   ],
   "source": [
    "len(df_pers15)"
   ]
  },
  {
   "cell_type": "code",
   "execution_count": 31,
   "metadata": {
    "collapsed": false
   },
   "outputs": [
    {
     "data": {
      "text/plain": [
       "22465"
      ]
     },
     "execution_count": 31,
     "metadata": {},
     "output_type": "execute_result"
    }
   ],
   "source": [
    "len(df_RefPers15)"
   ]
  },
  {
   "cell_type": "markdown",
   "metadata": {
    "collapsed": true
   },
   "source": [
    "#### Export reference personal level data for use in next program"
   ]
  },
  {
   "cell_type": "code",
   "execution_count": 33,
   "metadata": {
    "collapsed": true
   },
   "outputs": [],
   "source": [
    "\n",
    "df_RefPers15.to_pickle('RefPers15')\n",
    "df_RefPers09.to_pickle('RefPers09')"
   ]
  }
 ],
 "metadata": {
  "kernelspec": {
   "display_name": "Python 3",
   "language": "python",
   "name": "python3"
  },
  "language_info": {
   "codemirror_mode": {
    "name": "ipython",
    "version": 3
   },
   "file_extension": ".py",
   "mimetype": "text/x-python",
   "name": "python",
   "nbconvert_exporter": "python",
   "pygments_lexer": "ipython3",
   "version": "3.5.1"
  }
 },
 "nbformat": 4,
 "nbformat_minor": 0
}
