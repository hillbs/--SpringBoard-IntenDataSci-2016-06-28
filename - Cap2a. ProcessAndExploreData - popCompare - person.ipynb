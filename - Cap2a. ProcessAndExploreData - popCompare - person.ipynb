{
 "cells": [
  {
   "cell_type": "markdown",
   "metadata": {},
   "source": [
    "# Process data and compare populations.\n",
    "(for now just histograms)"
   ]
  },
  {
   "cell_type": "markdown",
   "metadata": {},
   "source": [
    "###### Import libraries and imported data from last program"
   ]
  },
  {
   "cell_type": "code",
   "execution_count": 2,
   "metadata": {
    "collapsed": true
   },
   "outputs": [],
   "source": [
    "import pandas as pd\n",
    "import numpy as np\n",
    "\n",
    "import matplotlib.pyplot as plt\n",
    "%matplotlib inline\n",
    "\n",
    "# me still chk imported data for issues.  saw something wierd at the end of one\n",
    "# make sure merging family right."
   ]
  },
  {
   "cell_type": "code",
   "execution_count": 3,
   "metadata": {
    "collapsed": false
   },
   "outputs": [],
   "source": [
    "\n",
    "df15 = pd.read_pickle('Ref15_merged')\n",
    "df09 = pd.read_pickle('Ref09_merged')\n"
   ]
  },
  {
   "cell_type": "code",
   "execution_count": 4,
   "metadata": {
    "collapsed": false
   },
   "outputs": [],
   "source": [
    "# combine two years into one dataset\n",
    "\n",
    "\n",
    "frames = [df09, df15]\n",
    "df_2y = pd.concat(frames)"
   ]
  },
  {
   "cell_type": "markdown",
   "metadata": {
    "collapsed": true
   },
   "source": [
    "#### Recode vars:  "
   ]
  },
  {
   "cell_type": "code",
   "execution_count": 5,
   "metadata": {
    "collapsed": false
   },
   "outputs": [],
   "source": [
    "\n",
    "'''\n",
    "1. Create main analysis variable:  Unemployment classification: employed, long-term unemployed, short-term unemployed\n",
    "2. Change format to numeric so we can analyze we will use in analysis\n",
    "3. Rename analysis variables to more easily understand in later anlaysis\n",
    "'''\n",
    "\n",
    "# weighting?\n",
    "\n",
    "#lkweeks :  weeks looking if employed in last year\n",
    "#nwlkwk :  weeks looking if not employed in last year\n",
    "\n",
    "df_2y['nwlkwk2'] = df_2y['nwlkwk'].astype('float')\n",
    "df_2y['lkweeks2'] = df_2y['lkweeks'].astype('float')\n",
    "\n",
    "df_2y['UnempWks'] = df_2y['nwlkwk2'] + df_2y['lkweeks2']\n",
    "\n",
    "\n",
    "# Create Long Term Unemployed variable to compare populations\n",
    "df_2y['LTunemp'] = np.where(df_2y['UnempWks']>=27, 'yes', 'no')\n",
    "df_2y['LTunempN'] = np.where(df_2y['UnempWks']>=27, 1, 0)\n",
    "\n",
    "\n",
    "# later see if you can assign with diff vars\n",
    "df_2y.loc[df_2y['UnempWks'] >=27,'Emp_Group2'] = 'LongTerm'\n",
    "df_2y.loc[(df_2y['UnempWks'] <27) & (df_2y['UnempWks'] >=1),'Emp_Group2'] = 'ShortTerm'\n",
    "df_2y.loc[df_2y['UnempWks'] ==0,'Emp_Group2'] = 'Emped'\n",
    "\n",
    "\n",
    "# check for outliers and missing or wierd values\n",
    "#df_2y.loc[df_2y['UnempWks'].isna,'Emp_Group2'] = pd.isna\n",
    "#df_2y.describe()\n",
    "\n",
    "\n",
    "\n"
   ]
  },
  {
   "cell_type": "code",
   "execution_count": null,
   "metadata": {
    "collapsed": true
   },
   "outputs": [],
   "source": []
  },
  {
   "cell_type": "code",
   "execution_count": 6,
   "metadata": {
    "collapsed": true
   },
   "outputs": [],
   "source": [
    "#Will clean up recode.  now just taken from codebook directly"
   ]
  },
  {
   "cell_type": "code",
   "execution_count": 7,
   "metadata": {
    "collapsed": false
   },
   "outputs": [],
   "source": [
    "# Personal?  No numeric range vars??\n",
    "# 1.1. Rename family numeric variables\n",
    "\n",
    "# 1.2.  Rename and reformat (convert dtype to str) Numeric fam variables\n",
    "# why I make this split?  \n",
    "\n",
    "# yes no dummie vars.  do they receive $$ from these sources\n",
    "# are continuous a better choice?\n",
    "\n",
    "# 1.3. Recode values of family categorical variables (for format and analysis)"
   ]
  },
  {
   "cell_type": "code",
   "execution_count": 8,
   "metadata": {
    "collapsed": true
   },
   "outputs": [],
   "source": [
    "# var groups\n",
    "# 1. numeric - range\n",
    "# 2. numeric - non analysis vars\n",
    "# 3. categorical normal (w or wout ... not fully filled out all categories in documentation)\n",
    "# 4. categorical - should be numeric range\n",
    "# 4. Vars - char or numeric - group for easier analysis"
   ]
  },
  {
   "cell_type": "code",
   "execution_count": 9,
   "metadata": {
    "collapsed": false
   },
   "outputs": [],
   "source": [
    "# 1.2.  Rename and reformat categorical vars \n",
    "# (not needing outside assistance or grouping)\n",
    "\n",
    "# Person Recs\n",
    "# categorical\n",
    "\n",
    "#######\n",
    "# Is this really a str var or range.\n",
    "# regrdless, should treat it as such and bin/recode small number of groups\n",
    "\n",
    "# df_2y['Age'] = df_2y['a_age'].astype('str')\n",
    "\n",
    "#  Too many categories\n",
    "# df_2y['educ'] = df_2y['a_hga'].astype('str')\n",
    "# df_2y['Race'] = df_2y['prdtrace'].astype('str')\n",
    "\n",
    "\n",
    "\n",
    "# convert vars to string and then to text values\n",
    "# ?? are all categorical?\n",
    "\n",
    "# vars I might be missing\n",
    "# ?? salary on last job?\n",
    "\n",
    "#\n",
    "#df_2y['NumWeeksJobLook'] = df_2y['nwlkwk'].astype('str')\n",
    "#\n",
    "\n",
    "#df_2y['NumWeeksJobLook'] = df_2y['UnempWks'].astype('str')\n",
    "#df_2y['UnempWks'] = df_2y['nwlkwk2'] + df_2y['lkweeks2']\n",
    "df_2y['NumWeeksJobLook'] = df_2y['UnempWks']\n",
    "\n",
    "df_2y['Age'] = df_2y['a_age']\n",
    "\n",
    "df_2y['educ'] = df_2y['a_hga'].astype('str')\n",
    "df_2y['Race'] = df_2y['prdtrace'].astype('str')\n",
    "\n",
    "\n",
    "df_2y['MaritalStatus'] = df_2y['a_maritl'].astype('str')\n",
    "# df_2y['Age'] = df_2y['a_age'].astype('str')\n",
    "df_2y['Sex'] = df_2y['a_sex'].astype('str')\n",
    "# df_2y['educ'] = df_2y['a_hga'].astype('str')\n",
    "# df_2y['Race'] = df_2y['prdtrace'].astype('str')\n",
    "#df_2y['identifier'] = df_2y['p_stat'].astype('str')\n",
    "df_2y['Hispanic'] = df_2y['pehspnon'].astype('str')\n",
    "df_2y['Military2'] = df_2y['peafever'].astype('str')\n",
    "#df_2y['MilitaryServ__when'] = df_2y['peafwhn1'].astype('str')\n",
    "df_2y['Disability'] = df_2y['prdisflg'].astype('str')\n",
    "df_2y['WeeksUnEmp'] = df_2y['a_wkslk'].astype('str')\n",
    "df_2y['UnionMem'] = df_2y['a_unmem'].astype('str')\n",
    "df_2y['attendSchool'] = df_2y['a_enrlw'].astype('str')\n",
    "df_2y['LabForceStat2'] = df_2y['a_lfsr'].astype('str')\n",
    "df_2y['WorkingFull_Part'] = df_2y['a_wkstat'].astype('str')\n",
    "df_2y['PastLworkStat'] = df_2y['a_explf'].astype('str')\n",
    "df_2y['CLabFor'] = df_2y['a_civlf'].astype('str')\n",
    "df_2y['UnempReas'] = df_2y['pruntype'].astype('str')\n",
    "df_2y['IsDiscoraged'] = df_2y['prdisc'].astype('str')\n",
    "#df_2y['NumWeeksJobLook'] = df_2y['nwlkwk'].astype('str')\n",
    "df_2y['EarnLastJob'] = df_2y['ern-yn'].astype('str')\n",
    "df_2y['LowIncStatus'] = df_2y['perlis'].astype('str')\n",
    "df_2y['CovInsPriv8'] = df_2y['hi_yn'].astype('str')\n",
    "\n",
    "\n",
    "\n"
   ]
  },
  {
   "cell_type": "code",
   "execution_count": 10,
   "metadata": {
    "collapsed": true
   },
   "outputs": [],
   "source": [
    "# rename chars.  import vals not in varbook\n",
    "# lots of categories\n",
    "df_2y['Indust_Maj'] = df_2y['a_mjind'].astype('str')\n",
    "df_2y['Occup_Maj'] = df_2y['a_mjocc'].astype('str')\n",
    "df_2y['State'] = df_2y['mig_st'].astype('str')\n"
   ]
  },
  {
   "cell_type": "code",
   "execution_count": 11,
   "metadata": {
    "collapsed": false
   },
   "outputs": [],
   "source": [
    "# 1.3. Recode values of personal categorical variables (for format and analysis and understanding in EDA)\n",
    "\n",
    "# this one seemed to work best\n",
    "\n",
    "# one to use I think\n",
    "# this one preferable\n",
    "\n",
    "\n",
    "############################33\n",
    "#\n",
    "# Not all categories here.  figure out why!\n",
    "#\n",
    "#############################3\n",
    "\n",
    "df_2y.loc[df_2y['MaritalStatus'] == '1.0', 'MaritalStatus2'] = \"Married - civilian spouse present\"\n",
    "df_2y.loc[df_2y['MaritalStatus'] == '2.0', 'MaritalStatus2'] = \"Married - AF spouse present\"\n",
    "df_2y.loc[df_2y['MaritalStatus'] == '3.0', 'MaritalStatus2'] = \"Married - spouse absent (exc. separated)\"\n",
    "df_2y.loc[df_2y['MaritalStatus'] == '4.0', 'MaritalStatus2'] = \"Widowed\"\n",
    "df_2y.loc[df_2y['MaritalStatus'] == '5.0', 'MaritalStatus2'] = \"Divorced\"\n",
    "df_2y.loc[df_2y['MaritalStatus'] == '6.0', 'MaritalStatus2'] = \"Separated\"\n",
    "df_2y.loc[df_2y['MaritalStatus'] == '7.0', 'MaritalStatus2'] = \"Never married\"\n",
    "\n",
    "df_2y.loc[df_2y['Sex'] == '1.0', 'Sex2'] = \"Male\"\n",
    "df_2y.loc[df_2y['Sex'] == '2.0', 'Sex2'] = \"Female\"\n",
    "\n",
    "'''\n",
    "df_2y.loc[df_2y['identifier'] == '1.0', 'identifier2'] = \"Civilian 15+\"\n",
    "df_2y.loc[df_2y['identifier'] == '2.0', 'identifier2'] = \"Armed Forces\"\n",
    "df_2y.loc[df_2y['identifier'] == '3.0', 'identifier2'] = \"Children 0 - 14\"\n",
    "'''\n",
    "\n",
    "'''\n",
    "df_2y.loc[df_2y['Hispanic'] == '1.0', 'Hispanic2'] = \"Yes\"\n",
    "df_2y.loc[df_2y['Hispanic'] == '2.0', 'Hispanic2'] = \"No\"\n",
    "'''\n",
    "\n",
    "df_2y.loc[df_2y['Hispanic'] == '1.0', 'Hispanic2'] = \"Hispanic\"\n",
    "df_2y.loc[df_2y['Hispanic'] == '2.0', 'Hispanic2'] = \"Not Hispanic\"\n",
    "\n",
    "'''\n",
    "#df_2y.loc[df_2y['Military2'] == '-1.0', 'Military22'] = \"Not in universe\"\n",
    "df_2y.loc[df_2y['Military2'] == '1.0', 'Military22'] = \"Yes\"\n",
    "df_2y.loc[df_2y['Military2'] == '2.0', 'Military22'] = \"No\"\n",
    "'''\n",
    "\n",
    "df_2y.loc[df_2y['Military2'] == '1.0', 'Military22'] = \"Served in the Military\"\n",
    "df_2y.loc[df_2y['Military2'] == '2.0', 'Military22'] = \"Didnt Serve\"\n",
    "\n",
    "\n",
    "'''\n",
    "# drop not greaat\n",
    "df_2y.loc[df_2y['MilitaryServ__when'] == '-1.0', 'MilitaryServ__when2'] = \"Not in universe\"\n",
    "df_2y.loc[df_2y['MilitaryServ__when'] == '1.0', 'MilitaryServ__when2'] = \"September 2001 or later\"\n",
    "df_2y.loc[df_2y['MilitaryServ__when'] == '2.0', 'MilitaryServ__when2'] = \"August 1990 to August 2001\"\n",
    "df_2y.loc[df_2y['MilitaryServ__when'] == '3.0', 'MilitaryServ__when2'] = \"May 1975 to July 1990\"\n",
    "df_2y.loc[df_2y['MilitaryServ__when'] == '4.0', 'MilitaryServ__when2'] = \"Vietnam Era (August 1964 to April 1975)\"\n",
    "df_2y.loc[df_2y['MilitaryServ__when'] == '5.0', 'MilitaryServ__when2'] = \"February 1955 to July 1964\"\n",
    "df_2y.loc[df_2y['MilitaryServ__when'] == '6.0', 'MilitaryServ__when2'] = \"Korean War (July 1950 to January 1955)\"\n",
    "df_2y.loc[df_2y['MilitaryServ__when'] == '7.0', 'MilitaryServ__when2'] = \"January 1947 to June 1950\"\n",
    "df_2y.loc[df_2y['MilitaryServ__when'] == '8.0', 'MilitaryServ__when2'] = \"World War II (December 1941 to December 1946)\"\n",
    "df_2y.loc[df_2y['MilitaryServ__when'] == '9.0', 'MilitaryServ__when2'] = \"November 1941 or earlier\"\n",
    "'''\n",
    "\n",
    "# if not convert, just go to nas?  is that ok?\n",
    "#df_2y.loc[df_2y['Disability'] == '-1.0', 'Disability2'] = \"NIU\"\n",
    "df_2y.loc[df_2y['Disability'] == '1.0', 'Disability2'] = \"Yes\"\n",
    "df_2y.loc[df_2y['Disability'] == '2.0', 'Disability2'] = \"No\"\n",
    "\n",
    "#df_2y.loc[df_2y['UnionMem'] == '0.0', 'UnionMem2'] = \"Not in universe or children and Armed Forces\"\n",
    "df_2y.loc[df_2y['UnionMem'] == '1.0', 'UnionMem2'] = \"Yes\"\n",
    "df_2y.loc[df_2y['UnionMem'] == '2.0', 'UnionMem2'] = \"No\"\n",
    "df_2y.loc[df_2y['attendSchool'] == '0.0', 'attendSchool2'] = \"Not in universe or children and Armed Forces\"\n",
    "df_2y.loc[df_2y['attendSchool'] == '1.0', 'attendSchool2'] = \"Yes\"\n",
    "df_2y.loc[df_2y['attendSchool'] == '2.0', 'attendSchool2'] = \"No\"\n",
    "df_2y.loc[df_2y['LabForceStat2'] == '0.0', 'LabForceStat22'] = \"Children or Armed Forces\"\n",
    "df_2y.loc[df_2y['LabForceStat2'] == '3.0', 'LabForceStat22'] = \"Unemployed, looking for work\"\n",
    "df_2y.loc[df_2y['WorkingFull_Part'] == '0.0', 'WorkingFull_Part2'] = \"Children or Armed Forces\"\n",
    "df_2y.loc[df_2y['WorkingFull_Part'] == '1.0', 'WorkingFull_Part2'] = \"Not in labor force\"\n",
    "df_2y.loc[df_2y['WorkingFull_Part'] == '3.0', 'WorkingFull_Part2'] = \"Part-time for economic reasons, usually FT\"\n",
    "df_2y.loc[df_2y['WorkingFull_Part'] == '5.0', 'WorkingFull_Part2'] = \"Part-time for economic reasons,\"\n",
    "df_2y.loc[df_2y['WorkingFull_Part'] == '6.0', 'WorkingFull_Part2'] = \"Unemployed FT\"\n",
    "df_2y.loc[df_2y['WorkingFull_Part'] == '7.0', 'WorkingFull_Part2'] = \"Unemployed PT\"\n",
    "df_2y.loc[df_2y['PastLworkStat'] == '0.0', 'PastLworkStat2'] = \"Not in experienced labor force\"\n",
    "df_2y.loc[df_2y['PastLworkStat'] == '2.0', 'PastLworkStat2'] = \"Unemployed\"\n",
    "df_2y.loc[df_2y['CLabFor'] == '0.0', 'CLabFor2'] = \"Not in universe or children and Armed Forces\"\n",
    "df_2y.loc[df_2y['CLabFor'] == '1.0', 'CLabFor2'] = \"In universe\"\n",
    "df_2y.loc[df_2y['UnempReas'] == '0.0', 'UnempReas2'] = \"NIU\"\n",
    "df_2y.loc[df_2y['UnempReas'] == '1.0', 'UnempReas2'] = \"Job loser/on layoff\"\n",
    "df_2y.loc[df_2y['UnempReas'] == '2.0', 'UnempReas2'] = \"Other job loser\"\n",
    "df_2y.loc[df_2y['UnempReas'] == '3.0', 'UnempReas2'] = \"Temporary job ended\"\n",
    "df_2y.loc[df_2y['UnempReas'] == '4.0', 'UnempReas2'] = \"Job leaver\"\n",
    "df_2y.loc[df_2y['UnempReas'] == '5.0', 'UnempReas2'] = \"Re-entrant\"\n",
    "df_2y.loc[df_2y['UnempReas'] == '6.0', 'UnempReas2'] = \"New-entrant\"\n",
    "df_2y.loc[df_2y['IsDiscoraged'] == '0.0', 'IsDiscoraged2'] = \"NIU\"\n",
    "df_2y.loc[df_2y['IsDiscoraged'] == '1.0', 'IsDiscoraged2'] = \"Discouraged worker\"\n",
    "df_2y.loc[df_2y['IsDiscoraged'] == '2.0', 'IsDiscoraged2'] = \"Conditionally interested\"\n",
    "df_2y.loc[df_2y['IsDiscoraged'] == '3.0', 'IsDiscoraged2'] = \"Not available\"\n",
    "\n",
    "\n",
    "df_2y.loc[df_2y['EarnLastJob'] == '0.0', 'EarnLastJob2'] = \"Not in universe\"\n",
    "df_2y.loc[df_2y['EarnLastJob'] == '1.0', 'EarnLastJob2'] = \"Yes\"\n",
    "\n",
    "# covered by any insurance.  Maybe add?\n",
    "df_2y.loc[df_2y['CovInsPriv8'] == '0.0', 'CovInsPriv82'] = \"Not in universe\"\n",
    "df_2y.loc[df_2y['CovInsPriv8'] == '1.0', 'CovInsPriv82'] = \"Yes\"\n",
    "df_2y.loc[df_2y['CovInsPriv8'] == '2.0', 'CovInsPriv82'] = \"No\"\n",
    "\n",
    "\n",
    "\n",
    "# actual # ranges\n",
    "df_2y.loc[df_2y['WeeksUnEmp'] == '-1.0', 'WeeksUnEmp2'] = \"Not in universe\"\n",
    "df_2y.loc[df_2y['WeeksUnEmp'] == '0.0', 'WeeksUnEmp2'] = \"Children or Armed Forces\"\n",
    "df_2y.loc[df_2y['WeeksUnEmp'] == '1.0', 'WeeksUnEmp2'] = \"-999 .Entry\"\n",
    "\n",
    "\n",
    "# are all the categories here?\n",
    "\n",
    "# group into small groups to make easier analysis\n",
    "# already semi number\n",
    "\n",
    "'''\n",
    "df_2y.loc[df_2y['NumWeeksJobLook'] == '37.0', 'NumWeeksJobLook2'] = \"37 weeks\"\n",
    "df_2y.loc[df_2y['NumWeeksJobLook'] == '38.0', 'NumWeeksJobLook2'] = \"38 weeks\"\n",
    "df_2y.loc[df_2y['NumWeeksJobLook'] == '39.0', 'NumWeeksJobLook2'] = \"39 weeks\"\n",
    "df_2y.loc[df_2y['NumWeeksJobLook'] == '40.0', 'NumWeeksJobLook2'] = \"40 weeks\"\n",
    "df_2y.loc[df_2y['NumWeeksJobLook'] == '41.0', 'NumWeeksJobLook2'] = \"41 weeks\"\n",
    "df_2y.loc[df_2y['NumWeeksJobLook'] == '42.0', 'NumWeeksJobLook2'] = \"42 weeks\"\n",
    "df_2y.loc[df_2y['NumWeeksJobLook'] == '43.0', 'NumWeeksJobLook2'] = \"43 weeks\"\n",
    "df_2y.loc[df_2y['NumWeeksJobLook'] == '44.0', 'NumWeeksJobLook2'] = \"44 weeks\"\n",
    "df_2y.loc[df_2y['NumWeeksJobLook'] == '45.0', 'NumWeeksJobLook2'] = \"45 weeks\"\n",
    "df_2y.loc[df_2y['NumWeeksJobLook'] == '46.0', 'NumWeeksJobLook2'] = \"46 weeks\"\n",
    "df_2y.loc[df_2y['NumWeeksJobLook'] == '47.0', 'NumWeeksJobLook2'] = \"47 weeks\"\n",
    "df_2y.loc[df_2y['NumWeeksJobLook'] == '48.0', 'NumWeeksJobLook2'] = \"48 weeks\"\n",
    "df_2y.loc[df_2y['NumWeeksJobLook'] == '49.0', 'NumWeeksJobLook2'] = \"49 weeks\"\n",
    "df_2y.loc[df_2y['NumWeeksJobLook'] == '50.0', 'NumWeeksJobLook2'] = \"50 weeks\"\n",
    "df_2y.loc[df_2y['NumWeeksJobLook'] == '51.0', 'NumWeeksJobLook2'] = \"51 weeks\"\n",
    "df_2y.loc[df_2y['NumWeeksJobLook'] == '52.0', 'NumWeeksJobLook2'] = \"52 weeks\"\n",
    "'''\n",
    "\n",
    "\n",
    "#df_2y.loc[df_2y['Age'] == '80.0', 'Age2'] = \"80-84 years of age\"\n",
    "#df_2y.loc[df_2y['Age'] == '85.0', 'Age2'] = \"85+ years of age\"\n",
    "\n",
    "\n",
    "\n",
    "# need to group into small groups to make easier analysis\n",
    "# re category.  Not range\n",
    "\n",
    "df_2y.loc[df_2y['educ'] == '00', 'educ2'] = \"Children\"\n",
    "df_2y.loc[df_2y['educ'] == '31', 'educ2'] = \"Less than 1st grade\"\n",
    "df_2y.loc[df_2y['educ'] == '32', 'educ2'] = \"1st,2nd,3rd,or 4th grade\"\n",
    "df_2y.loc[df_2y['educ'] == '33', 'educ2'] = \"5th or 6th grade\"\n",
    "df_2y.loc[df_2y['educ'] == '34', 'educ2'] = \"7th and 8th grade\"\n",
    "df_2y.loc[df_2y['educ'] == '35', 'educ2'] = \"9th grade\"\n",
    "df_2y.loc[df_2y['educ'] == '36', 'educ2'] = \"10th grade\"\n",
    "df_2y.loc[df_2y['educ'] == '37', 'educ2'] = \"11th grade\"\n",
    "df_2y.loc[df_2y['educ'] == '38', 'educ2'] = \"12th grade no diploma\"\n",
    "df_2y.loc[df_2y['educ'] == '39', 'educ2'] = \"High school graduate - high school diploma or equivalent\"\n",
    "df_2y.loc[df_2y['educ'] == '40', 'educ2'] = \"Some college but no degree\"\n",
    "df_2y.loc[df_2y['educ'] == '41', 'educ2'] = \"Associate degree in college - occupation/vocation program\"\n",
    "df_2y.loc[df_2y['educ'] == '42', 'educ2'] = \"Associate degree in college - academic program\"\n",
    "df_2y.loc[df_2y['educ'] == '43', 'educ2'] = \"Bachelor's degree (for example: BA,AB,BS)\"\n",
    "df_2y.loc[df_2y['educ'] == '44', 'educ2'] = \"Master's degree (for example: MA,MS,MENG,MED,\"\n",
    "df_2y.loc[df_2y['educ'] == '45', 'educ2'] = \"Professional school degree (for example: MD,DDS,DVM,LLB,JD)\"\n",
    "df_2y.loc[df_2y['educ'] == '46', 'educ2'] = \"Doctorate degree (for example: PHD,EDD)\"\n",
    "\n",
    "df_2y.loc[df_2y['Race'] == '01', 'Race2'] = \"White only\"\n",
    "df_2y.loc[df_2y['Race'] == '02', 'Race2'] = \"Black only\"\n",
    "df_2y.loc[df_2y['Race'] == '03', 'Race2'] = \"American Indian, Alaskan Native only (AI)\"\n",
    "df_2y.loc[df_2y['Race'] == '04', 'Race2'] = \"Asian only\"\n",
    "df_2y.loc[df_2y['Race'] == '05', 'Race2'] = \"Hawaiian/Pacific Islander only (HP)\"\n",
    "df_2y.loc[df_2y['Race'] == '06', 'Race2'] = \"White-Black\"\n",
    "df_2y.loc[df_2y['Race'] == '07', 'Race2'] = \"White-AI\"\n",
    "df_2y.loc[df_2y['Race'] == '08', 'Race2'] = \"White-Asian\"\n",
    "df_2y.loc[df_2y['Race'] == '09', 'Race2'] = \"White-HP\"\n",
    "df_2y.loc[df_2y['Race'] == '10', 'Race2'] = \"Black-AI\"\n",
    "df_2y.loc[df_2y['Race'] == '11', 'Race2'] = \"Black-Asian\"\n",
    "df_2y.loc[df_2y['Race'] == '12', 'Race2'] = \"Black-HP\"\n",
    "df_2y.loc[df_2y['Race'] == '13', 'Race2'] = \"AI-Asian\"\n",
    "df_2y.loc[df_2y['Race'] == '14', 'Race2'] = \"AI-HP\"\n",
    "df_2y.loc[df_2y['Race'] == '15', 'Race2'] = \"Asian-HP\"\n",
    "df_2y.loc[df_2y['Race'] == '16', 'Race2'] = \"White-Black-AI\"\n",
    "df_2y.loc[df_2y['Race'] == '17', 'Race2'] = \"White-Black-Asian\"\n",
    "df_2y.loc[df_2y['Race'] == '18', 'Race2'] = \"White-Black-HP\"\n",
    "df_2y.loc[df_2y['Race'] == '19', 'Race2'] = \"White-AI-Asian\"\n",
    "df_2y.loc[df_2y['Race'] == '20', 'Race2'] = \"White-AI-HP\"\n",
    "df_2y.loc[df_2y['Race'] == '21', 'Race2'] = \"White-Asian-HP\"\n",
    "df_2y.loc[df_2y['Race'] == '22', 'Race2'] = \"Black-AI-Asian\"\n",
    "df_2y.loc[df_2y['Race'] == '23', 'Race2'] = \"White-Black-AI-Asian\"\n",
    "df_2y.loc[df_2y['Race'] == '24', 'Race2'] = \"White-AI-Asian-HP\"\n",
    "df_2y.loc[df_2y['Race'] == '25', 'Race2'] = \"Other 3 race comb.\"\n",
    "df_2y.loc[df_2y['Race'] == '26', 'Race2'] = \"Other 4 or 5 race comb.\"\n",
    "\n",
    "\n"
   ]
  },
  {
   "cell_type": "code",
   "execution_count": null,
   "metadata": {
    "collapsed": true
   },
   "outputs": [],
   "source": []
  },
  {
   "cell_type": "code",
   "execution_count": 12,
   "metadata": {
    "collapsed": true
   },
   "outputs": [],
   "source": [
    "\n",
    "# vars values imported not from code book\n",
    "\n",
    "# prob dont need str.  or float\n",
    "\n",
    "df_2y['Indust_Maj'] = df_2y['a_mjind'].astype('str')\n",
    "df_2y['Occup_Maj'] = df_2y['a_mjocc'].astype('str')\n",
    "df_2y['State'] = df_2y['mig_st'].astype('str')\n",
    "\n",
    "# new inc, occ, and geo vars\n",
    "\n",
    "df_2y.loc[df_2y['Indust_Maj'] == '0', 'Indust_Maj2'] = \"Not in universe, or children\"\n",
    "df_2y.loc[df_2y['Indust_Maj'] == '1', 'Indust_Maj2'] = \"Agriculture, forestry, fishing, and hunting\"\n",
    "df_2y.loc[df_2y['Indust_Maj'] == '2', 'Indust_Maj2'] = \"Mining\"\n",
    "df_2y.loc[df_2y['Indust_Maj'] == '3', 'Indust_Maj2'] = \"Construction\"\n",
    "df_2y.loc[df_2y['Indust_Maj'] == '4', 'Indust_Maj2'] = \"Manufacturing\"\n",
    "df_2y.loc[df_2y['Indust_Maj'] == '5', 'Indust_Maj2'] = \"Wholesale and retail trade\"\n",
    "df_2y.loc[df_2y['Indust_Maj'] == '6', 'Indust_Maj2'] = \"Transportation and utilities\"\n",
    "df_2y.loc[df_2y['Indust_Maj'] == '7', 'Indust_Maj2'] = \"Information\"\n",
    "df_2y.loc[df_2y['Indust_Maj'] == '8', 'Indust_Maj2'] = \"Financial activities\"\n",
    "df_2y.loc[df_2y['Indust_Maj'] == '9', 'Indust_Maj2'] = \"Professional and business services\"\n",
    "df_2y.loc[df_2y['Indust_Maj'] == '10', 'Indust_Maj2'] = \"Educational and health services\"\n",
    "df_2y.loc[df_2y['Indust_Maj'] == '11', 'Indust_Maj2'] = \"Leisure and hospitality\"\n",
    "df_2y.loc[df_2y['Indust_Maj'] == '12', 'Indust_Maj2'] = \"Other services\"\n",
    "df_2y.loc[df_2y['Indust_Maj'] == '13', 'Indust_Maj2'] = \"Public administration\"\n",
    "df_2y.loc[df_2y['Indust_Maj'] == '14', 'Indust_Maj2'] = \"Armed Forces\"\n",
    "\n",
    "\n",
    "df_2y.loc[df_2y['Occup_Maj'] == '0', 'Occup_Maj2'] = \"Not in universe or children Management, business, and\"\n",
    "df_2y.loc[df_2y['Occup_Maj'] == '1', 'Occup_Maj2'] = \"Management, business, and financial occupations\"\n",
    "df_2y.loc[df_2y['Occup_Maj'] == '2', 'Occup_Maj2'] = \"Professional and related occupations\"\n",
    "df_2y.loc[df_2y['Occup_Maj'] == '3', 'Occup_Maj2'] = \"Service occupations Sales and related occupations\"\n",
    "df_2y.loc[df_2y['Occup_Maj'] == '4', 'Occup_Maj2'] = \"Sales and related occupations Office and administrative\"\n",
    "df_2y.loc[df_2y['Occup_Maj'] == '5', 'Occup_Maj2'] = \"Office and administrative support occupations\"\n",
    "df_2y.loc[df_2y['Occup_Maj'] == '6', 'Occup_Maj2'] = \"Farming, fishing, and forestry occupations\"\n",
    "df_2y.loc[df_2y['Occup_Maj'] == '7', 'Occup_Maj2'] = \"Construction and extraction occupations\"\n",
    "df_2y.loc[df_2y['Occup_Maj'] == '8', 'Occup_Maj2'] = \"Installation, maintenance, and repair occupations\"\n",
    "df_2y.loc[df_2y['Occup_Maj'] == '9', 'Occup_Maj2'] = \"Production occupations Transportation and material\"\n",
    "df_2y.loc[df_2y['Occup_Maj'] == '10', 'Occup_Maj2'] = \"Transportation and material moving occupations\"\n",
    "df_2y.loc[df_2y['Occup_Maj'] == '11', 'Occup_Maj2'] = \"Armed Forces \"\n",
    "\n",
    "\n",
    "df_2y.loc[df_2y['State'] == '00', 'State2'] = \"Nonmatch\"\n",
    "df_2y.loc[df_2y['State'] == '01', 'State2'] = \"Alabama\"\n",
    "df_2y.loc[df_2y['State'] == '02', 'State2'] = \"Alaska\"\n",
    "df_2y.loc[df_2y['State'] == '04', 'State2'] = \"Arizona\"\n",
    "df_2y.loc[df_2y['State'] == '05', 'State2'] = \"Arkansas\"\n",
    "df_2y.loc[df_2y['State'] == '06', 'State2'] = \"California\"\n",
    "df_2y.loc[df_2y['State'] == '08', 'State2'] = \"Colorado\"\n",
    "df_2y.loc[df_2y['State'] == '09', 'State2'] = \"Connecticut\"\n",
    "df_2y.loc[df_2y['State'] == '10', 'State2'] = \"Delaware\"\n",
    "df_2y.loc[df_2y['State'] == '11', 'State2'] = \"District of Columbia\"\n",
    "df_2y.loc[df_2y['State'] == '12', 'State2'] = \"Florida\"\n",
    "df_2y.loc[df_2y['State'] == '13', 'State2'] = \"Georgia\"\n",
    "df_2y.loc[df_2y['State'] == '15', 'State2'] = \"Hawaii\"\n",
    "df_2y.loc[df_2y['State'] == '16', 'State2'] = \"Idaho\"\n",
    "df_2y.loc[df_2y['State'] == '17', 'State2'] = \"Illinois\"\n",
    "df_2y.loc[df_2y['State'] == '18', 'State2'] = \"Indiana\"\n",
    "df_2y.loc[df_2y['State'] == '19', 'State2'] = \"Iowa\"\n",
    "df_2y.loc[df_2y['State'] == '20', 'State2'] = \"Kansas\"\n",
    "df_2y.loc[df_2y['State'] == '21', 'State2'] = \"Kentucky\"\n",
    "df_2y.loc[df_2y['State'] == '22', 'State2'] = \"Louisiana\"\n",
    "df_2y.loc[df_2y['State'] == '23', 'State2'] = \"Maine\"\n",
    "df_2y.loc[df_2y['State'] == '24', 'State2'] = \"Maryland\"\n",
    "df_2y.loc[df_2y['State'] == '25', 'State2'] = \"Massachusetts\"\n",
    "df_2y.loc[df_2y['State'] == '26', 'State2'] = \"Michigan\"\n",
    "df_2y.loc[df_2y['State'] == '27', 'State2'] = \"Minnesota\"\n",
    "df_2y.loc[df_2y['State'] == '28', 'State2'] = \"Mississippi\"\n",
    "df_2y.loc[df_2y['State'] == '29', 'State2'] = \"Missouri\"\n",
    "df_2y.loc[df_2y['State'] == '30', 'State2'] = \"Montana\"\n",
    "df_2y.loc[df_2y['State'] == '31', 'State2'] = \"Nebraska\"\n",
    "df_2y.loc[df_2y['State'] == '32', 'State2'] = \"Nevada\"\n",
    "df_2y.loc[df_2y['State'] == '33', 'State2'] = \"New Hampshire\"\n",
    "df_2y.loc[df_2y['State'] == '34', 'State2'] = \"New Jersey\"\n",
    "df_2y.loc[df_2y['State'] == '35', 'State2'] = \"New Mexico\"\n",
    "df_2y.loc[df_2y['State'] == '36', 'State2'] = \"New York\"\n",
    "df_2y.loc[df_2y['State'] == '37', 'State2'] = \"North Carolina\"\n",
    "df_2y.loc[df_2y['State'] == '38', 'State2'] = \"North Dakota\"\n",
    "df_2y.loc[df_2y['State'] == '39', 'State2'] = \"Ohio\"\n",
    "df_2y.loc[df_2y['State'] == '40', 'State2'] = \"Oklahoma\"\n",
    "df_2y.loc[df_2y['State'] == '41', 'State2'] = \"Oregon\"\n",
    "df_2y.loc[df_2y['State'] == '42', 'State2'] = \"Pennsylvania\"\n",
    "df_2y.loc[df_2y['State'] == '44', 'State2'] = \"Rhode Island\"\n",
    "df_2y.loc[df_2y['State'] == '45', 'State2'] = \"South Carolina\"\n",
    "df_2y.loc[df_2y['State'] == '46', 'State2'] = \"South Dakota\"\n",
    "df_2y.loc[df_2y['State'] == '47', 'State2'] = \"Tennessee\"\n",
    "df_2y.loc[df_2y['State'] == '48', 'State2'] = \"Texas\"\n",
    "df_2y.loc[df_2y['State'] == '49', 'State2'] = \"Utah\"\n",
    "df_2y.loc[df_2y['State'] == '50', 'State2'] = \"Vermont\"\n",
    "df_2y.loc[df_2y['State'] == '51', 'State2'] = \"Virginia\"\n",
    "df_2y.loc[df_2y['State'] == '53', 'State2'] = \"Washington\"\n",
    "df_2y.loc[df_2y['State'] == '54', 'State2'] = \"West Virginia\"\n",
    "df_2y.loc[df_2y['State'] == '55', 'State2'] = \"Wisconsin\"\n",
    "df_2y.loc[df_2y['State'] == '56', 'State2'] = \"Wyoming\"\n",
    "df_2y.loc[df_2y['State'] == '96', 'State2'] = \"Abroad\"\n"
   ]
  },
  {
   "cell_type": "code",
   "execution_count": 13,
   "metadata": {
    "collapsed": true
   },
   "outputs": [],
   "source": [
    "# recode into smaller categories\n",
    "# should use greater than less than except when string. \n",
    "# would work on several\n",
    "\n",
    "# age\n",
    "# education\n",
    "# race\n",
    "# # weeks unemployed"
   ]
  },
  {
   "cell_type": "code",
   "execution_count": 14,
   "metadata": {
    "collapsed": false
   },
   "outputs": [],
   "source": [
    "# age\n",
    "df_2y.loc[df_2y['Age'] == '17' , 'Age3'] = \"16 to 19 years\"\n",
    "df_2y.loc[df_2y['Age'] == '18' , 'Age3'] = \"16 to 19 years\"\n",
    "df_2y.loc[df_2y['Age'] == '19' , 'Age3'] = \"16 to 19 years\"\n",
    "df_2y.loc[df_2y['Age'] == '20' , 'Age3'] = \"20 to 24 years\"\n",
    "df_2y.loc[df_2y['Age'] == '21' , 'Age3'] = \"20 to 24 years\"\n",
    "df_2y.loc[df_2y['Age'] == '22' , 'Age3'] = \"20 to 24 years\"\n",
    "df_2y.loc[df_2y['Age'] == '23' , 'Age3'] = \"20 to 24 years\"\n",
    "df_2y.loc[df_2y['Age'] == '24' , 'Age3'] = \"20 to 24 years\"\n",
    "df_2y.loc[df_2y['Age'] == '25' , 'Age3'] = \"25 to 34 years\"\n",
    "df_2y.loc[df_2y['Age'] == '26' , 'Age3'] = \"25 to 34 years\"\n",
    "df_2y.loc[df_2y['Age'] == '27' , 'Age3'] = \"25 to 34 years\"\n",
    "df_2y.loc[df_2y['Age'] == '28' , 'Age3'] = \"25 to 34 years\"\n",
    "df_2y.loc[df_2y['Age'] == '29' , 'Age3'] = \"25 to 34 years\"\n",
    "df_2y.loc[df_2y['Age'] == '30' , 'Age3'] = \"25 to 34 years\"\n",
    "df_2y.loc[df_2y['Age'] == '31' , 'Age3'] = \"25 to 34 years\"\n",
    "df_2y.loc[df_2y['Age'] == '32' , 'Age3'] = \"25 to 34 years\"\n",
    "df_2y.loc[df_2y['Age'] == '33' , 'Age3'] = \"25 to 34 years\"\n",
    "df_2y.loc[df_2y['Age'] == '34' , 'Age3'] = \"25 to 34 years\"\n",
    "df_2y.loc[df_2y['Age'] == '35' , 'Age3'] = \"35 to 44 years\"\n",
    "df_2y.loc[df_2y['Age'] == '36' , 'Age3'] = \"35 to 44 years\"\n",
    "df_2y.loc[df_2y['Age'] == '37' , 'Age3'] = \"35 to 44 years\"\n",
    "df_2y.loc[df_2y['Age'] == '38' , 'Age3'] = \"35 to 44 years\"\n",
    "df_2y.loc[df_2y['Age'] == '39' , 'Age3'] = \"35 to 44 years\"\n",
    "df_2y.loc[df_2y['Age'] == '40' , 'Age3'] = \"35 to 44 years\"\n",
    "df_2y.loc[df_2y['Age'] == '41' , 'Age3'] = \"35 to 44 years\"\n",
    "df_2y.loc[df_2y['Age'] == '42' , 'Age3'] = \"35 to 44 years\"\n",
    "df_2y.loc[df_2y['Age'] == '43' , 'Age3'] = \"35 to 44 years\"\n",
    "df_2y.loc[df_2y['Age'] == '44' , 'Age3'] = \"35 to 44 years\"\n",
    "df_2y.loc[df_2y['Age'] == '45' , 'Age3'] = \"45 to 54 years\"\n",
    "df_2y.loc[df_2y['Age'] == '46' , 'Age3'] = \"45 to 54 years\"\n",
    "df_2y.loc[df_2y['Age'] == '47' , 'Age3'] = \"45 to 54 years\"\n",
    "df_2y.loc[df_2y['Age'] == '48' , 'Age3'] = \"45 to 54 years\"\n",
    "df_2y.loc[df_2y['Age'] == '49' , 'Age3'] = \"45 to 54 years\"\n",
    "df_2y.loc[df_2y['Age'] == '50' , 'Age3'] = \"45 to 54 years\"\n",
    "df_2y.loc[df_2y['Age'] == '51' , 'Age3'] = \"45 to 54 years\"\n",
    "df_2y.loc[df_2y['Age'] == '52' , 'Age3'] = \"45 to 54 years\"\n",
    "df_2y.loc[df_2y['Age'] == '53' , 'Age3'] = \"45 to 54 years\"\n",
    "df_2y.loc[df_2y['Age'] == '54' , 'Age3'] = \"45 to 54 years\"\n",
    "df_2y.loc[df_2y['Age'] == '55' , 'Age3'] = \"55 to 64 years\"\n",
    "df_2y.loc[df_2y['Age'] == '56' , 'Age3'] = \"55 to 64 years\"\n",
    "df_2y.loc[df_2y['Age'] == '57' , 'Age3'] = \"55 to 64 years\"\n",
    "df_2y.loc[df_2y['Age'] == '58' , 'Age3'] = \"55 to 64 years\"\n",
    "df_2y.loc[df_2y['Age'] == '59' , 'Age3'] = \"55 to 64 years\"\n",
    "df_2y.loc[df_2y['Age'] == '60' , 'Age3'] = \"55 to 64 years\"\n",
    "df_2y.loc[df_2y['Age'] == '61' , 'Age3'] = \"55 to 64 years\"\n",
    "df_2y.loc[df_2y['Age'] == '62' , 'Age3'] = \"55 to 64 years\"\n",
    "df_2y.loc[df_2y['Age'] == '63' , 'Age3'] = \"55 to 64 years\"\n",
    "df_2y.loc[df_2y['Age'] == '64' , 'Age3'] = \"55 to 64 years\"\n",
    "df_2y.loc[df_2y['Age'] == '65' , 'Age3'] = \"65 years and over\"\n",
    "df_2y.loc[df_2y['Age'] == '66' , 'Age3'] = \"65 years and over\"\n",
    "df_2y.loc[df_2y['Age'] == '67' , 'Age3'] = \"65 years and over\"\n",
    "df_2y.loc[df_2y['Age'] == '68' , 'Age3'] = \"65 years and over\"\n",
    "df_2y.loc[df_2y['Age'] == '69' , 'Age3'] = \"65 years and over\"\n",
    "df_2y.loc[df_2y['Age'] == '70' , 'Age3'] = \"65 years and over\"\n",
    "df_2y.loc[df_2y['Age'] == '71' , 'Age3'] = \"65 years and over\"\n",
    "df_2y.loc[df_2y['Age'] == '72' , 'Age3'] = \"65 years and over\"\n",
    "df_2y.loc[df_2y['Age'] == '73' , 'Age3'] = \"65 years and over\"\n",
    "df_2y.loc[df_2y['Age'] == '74' , 'Age3'] = \"65 years and over\"\n",
    "df_2y.loc[df_2y['Age'] == '75' , 'Age3'] = \"65 years and over\"\n",
    "df_2y.loc[df_2y['Age'] == '76' , 'Age3'] = \"65 years and over\"\n",
    "df_2y.loc[df_2y['Age'] == '77' , 'Age3'] = \"65 years and over\"\n",
    "df_2y.loc[df_2y['Age'] == '78' , 'Age3'] = \"65 years and over\"\n",
    "df_2y.loc[df_2y['Age'] == '79' , 'Age3'] = \"65 years and over\"\n",
    "df_2y.loc[df_2y['Age'] == '80' , 'Age3'] = \"65 years and over\"\n",
    "df_2y.loc[df_2y['Age'] == '85' , 'Age3'] = \"65 years and over\"\n",
    "\n",
    "\n",
    "################################################################################\n",
    "\n",
    "# education\n",
    "          \n",
    "df_2y.loc[df_2y['educ'] == '00' , 'educ3'] = \"Less than a high school diploma\"\n",
    "df_2y.loc[df_2y['educ'] == '31' , 'educ3'] = \"Less than a high school diploma\"\n",
    "df_2y.loc[df_2y['educ'] == '32' , 'educ3'] = \"Less than a high school diploma\"\n",
    "df_2y.loc[df_2y['educ'] == '33' , 'educ3'] = \"Less than a high school diploma\"\n",
    "df_2y.loc[df_2y['educ'] == '34' , 'educ3'] = \"Less than a high school diploma\"\n",
    "df_2y.loc[df_2y['educ'] == '35' , 'educ3'] = \"Less than a high school diploma\"\n",
    "df_2y.loc[df_2y['educ'] == '36' , 'educ3'] = \"Less than a high school diploma\"\n",
    "df_2y.loc[df_2y['educ'] == '37' , 'educ3'] = \"Less than a high school diploma\"\n",
    "df_2y.loc[df_2y['educ'] == '38' , 'educ3'] = \"Less than a high school diploma\"\n",
    "df_2y.loc[df_2y['educ'] == '39' , 'educ3'] = \"High school graduates, no college\"\n",
    "df_2y.loc[df_2y['educ'] == '40' , 'educ3'] = \"Some college or associate degree\"\n",
    "df_2y.loc[df_2y['educ'] == '41' , 'educ3'] = \"Some college or associate degree\"\n",
    "df_2y.loc[df_2y['educ'] == '42' , 'educ3'] = \"Some college or associate degree\"\n",
    "df_2y.loc[df_2y['educ'] == '43' , 'educ3'] = \"Some college or associate degree\"\n",
    "df_2y.loc[df_2y['educ'] == '44' , 'educ3'] = \"Bachelor's degree only\"\n",
    "df_2y.loc[df_2y['educ'] == '45' , 'educ3'] = \"Advanced degree\"\n",
    "df_2y.loc[df_2y['educ'] == '46' , 'educ3'] = \"Advanced degree\"\n",
    "\n",
    "######################################################################################3\n",
    "\n",
    "\n",
    "# race\n",
    "\n",
    "df_2y.loc[df_2y['Race'] == '01' , 'Race3'] = \"White\"\n",
    "df_2y.loc[df_2y['Race'] == '02' , 'Race3'] = \"Black\"\n",
    "df_2y.loc[df_2y['Hispanic'] == '1.0' , 'Race3'] = \"Hispanic\"\n",
    "df_2y.loc[df_2y['Race'] == '04' , 'Race3'] = \"Asian/Pacific Islander\"\n",
    "df_2y.loc[df_2y['Race'] == '05' , 'Race3'] = \"Asian/Pacific Islander\"\n",
    "df_2y.loc[df_2y['Race'] == '03' , 'Race3'] = \"American Indian, Alaskan Native only (AI)\"\n",
    "\n",
    "df_2y.loc[df_2y['Race'] == '06' , 'Race3'] = \"Other or Bi-Racial\"\n",
    "df_2y.loc[df_2y['Race'] == '07' , 'Race3'] = \"Other or Bi-Racial\"\n",
    "df_2y.loc[df_2y['Race'] == '08' , 'Race3'] = \"Other or Bi-Racial\"\n",
    "df_2y.loc[df_2y['Race'] == '09' , 'Race3'] = \"Other or Bi-Racial\"\n",
    "df_2y.loc[df_2y['Race'] == '10' , 'Race3'] = \"Other or Bi-Racial\"\n",
    "df_2y.loc[df_2y['Race'] == '11' , 'Race3'] = \"Other or Bi-Racial\"\n",
    "df_2y.loc[df_2y['Race'] == '12' , 'Race3'] = \"Other or Bi-Racial\"\n",
    "df_2y.loc[df_2y['Race'] == '13' , 'Race3'] = \"Other or Bi-Racial\"\n",
    "df_2y.loc[df_2y['Race'] == '14' , 'Race3'] = \"Other or Bi-Racial\"\n",
    "df_2y.loc[df_2y['Race'] == '15' , 'Race3'] = \"Other or Bi-Racial\"\n",
    "df_2y.loc[df_2y['Race'] == '16' , 'Race3'] = \"Other or Bi-Racial\"\n",
    "df_2y.loc[df_2y['Race'] == '17' , 'Race3'] = \"Other or Bi-Racial\"\n",
    "df_2y.loc[df_2y['Race'] == '18' , 'Race3'] = \"Other or Bi-Racial\"\n",
    "df_2y.loc[df_2y['Race'] == '19' , 'Race3'] = \"Other or Bi-Racial\"\n",
    "df_2y.loc[df_2y['Race'] == '20' , 'Race3'] = \"Other or Bi-Racial\"\n",
    "df_2y.loc[df_2y['Race'] == '21' , 'Race3'] = \"Other or Bi-Racial\"\n",
    "df_2y.loc[df_2y['Race'] == '22' , 'Race3'] = \"Other or Bi-Racial\"\n",
    "df_2y.loc[df_2y['Race'] == '23' , 'Race3'] = \"Other or Bi-Racial\"\n",
    "df_2y.loc[df_2y['Race'] == '24' , 'Race3'] = \"Other or Bi-Racial\"\n",
    "df_2y.loc[df_2y['Race'] == '25' , 'Race3'] = \"Other or Bi-Racial\"\n",
    "df_2y.loc[df_2y['Race'] == '26' , 'Race3'] = \"Other or Bi-Racial\"\n",
    "\n",
    "\n"
   ]
  },
  {
   "cell_type": "code",
   "execution_count": 15,
   "metadata": {
    "collapsed": false
   },
   "outputs": [],
   "source": [
    "####################################################################################\n",
    "\n",
    "# Number of weeks unemployed\n",
    "\n",
    "# where are:\n",
    "#53 weeks and over\n",
    "#53 to 99 weeks\n",
    "#99 weeks and over\n",
    "\n",
    "\n",
    "df_2y.loc[df_2y['UnempWks'] == 1, 'NumWeeksJobLook3'] = \"Less than 5 weeks\"\n",
    "df_2y.loc[df_2y['UnempWks'] == 2, 'NumWeeksJobLook3'] = \"Less than 5 weeks\"\n",
    "df_2y.loc[df_2y['UnempWks'] == 3, 'NumWeeksJobLook3'] = \"Less than 5 weeks\"\n",
    "df_2y.loc[df_2y['UnempWks'] == 4, 'NumWeeksJobLook3'] = \"Less than 5 weeks\"\n",
    "df_2y.loc[df_2y['UnempWks'] == 5, 'NumWeeksJobLook3'] = \"5 to 14 weeks\"\n",
    "df_2y.loc[df_2y['UnempWks'] == 6, 'NumWeeksJobLook3'] = \"5 to 14 weeks\"\n",
    "df_2y.loc[df_2y['UnempWks'] == 7, 'NumWeeksJobLook3'] = \"5 to 14 weeks\"\n",
    "df_2y.loc[df_2y['UnempWks'] == 8, 'NumWeeksJobLook3'] = \"5 to 14 weeks\"\n",
    "df_2y.loc[df_2y['UnempWks'] == 9, 'NumWeeksJobLook3'] = \"5 to 14 weeks\"\n",
    "df_2y.loc[df_2y['UnempWks'] == 10, 'NumWeeksJobLook3'] = \"5 to 14 weeks\"\n",
    "df_2y.loc[df_2y['UnempWks'] == 11, 'NumWeeksJobLook3'] = \"5 to 14 weeks\"\n",
    "df_2y.loc[df_2y['UnempWks'] == 12, 'NumWeeksJobLook3'] = \"5 to 14 weeks\"\n",
    "df_2y.loc[df_2y['UnempWks'] == 13, 'NumWeeksJobLook3'] = \"5 to 14 weeks\"\n",
    "df_2y.loc[df_2y['UnempWks'] == 14, 'NumWeeksJobLook3'] = \"5 to 14 weeks\"\n",
    "df_2y.loc[df_2y['UnempWks'] == 15, 'NumWeeksJobLook3'] = \"15 to 26 weeks\"\n",
    "df_2y.loc[df_2y['UnempWks'] == 16, 'NumWeeksJobLook3'] = \"15 to 26 weeks\"\n",
    "df_2y.loc[df_2y['UnempWks'] == 17, 'NumWeeksJobLook3'] = \"15 to 26 weeks\"\n",
    "df_2y.loc[df_2y['UnempWks'] == 18, 'NumWeeksJobLook3'] = \"15 to 26 weeks\"\n",
    "df_2y.loc[df_2y['UnempWks'] == 19, 'NumWeeksJobLook3'] = \"15 to 26 weeks\"\n",
    "df_2y.loc[df_2y['UnempWks'] == 20, 'NumWeeksJobLook3'] = \"15 to 26 weeks\"\n",
    "df_2y.loc[df_2y['UnempWks'] == 21, 'NumWeeksJobLook3'] = \"15 to 26 weeks\"\n",
    "df_2y.loc[df_2y['UnempWks'] == 22, 'NumWeeksJobLook3'] = \"15 to 26 weeks\"\n",
    "df_2y.loc[df_2y['UnempWks'] == 23, 'NumWeeksJobLook3'] = \"15 to 26 weeks\"\n",
    "df_2y.loc[df_2y['UnempWks'] == 24, 'NumWeeksJobLook3'] = \"15 to 26 weeks\"\n",
    "df_2y.loc[df_2y['UnempWks'] == 25, 'NumWeeksJobLook3'] = \"15 to 26 weeks\"\n",
    "df_2y.loc[df_2y['UnempWks'] == 26, 'NumWeeksJobLook3'] = \"15 to 26 weeks\"\n",
    "df_2y.loc[df_2y['UnempWks'] == 27, 'NumWeeksJobLook3'] = \"27 to 52 weeks\"\n",
    "df_2y.loc[df_2y['UnempWks'] == 28, 'NumWeeksJobLook3'] = \"27 to 52 weeks\"\n",
    "df_2y.loc[df_2y['UnempWks'] == 29, 'NumWeeksJobLook3'] = \"27 to 52 weeks\"\n",
    "df_2y.loc[df_2y['UnempWks'] == 30, 'NumWeeksJobLook3'] = \"27 to 52 weeks\"\n",
    "df_2y.loc[df_2y['UnempWks'] == 31, 'NumWeeksJobLook3'] = \"27 to 52 weeks\"\n",
    "df_2y.loc[df_2y['UnempWks'] == 32, 'NumWeeksJobLook3'] = \"27 to 52 weeks\"\n",
    "df_2y.loc[df_2y['UnempWks'] == 33, 'NumWeeksJobLook3'] = \"27 to 52 weeks\"\n",
    "df_2y.loc[df_2y['UnempWks'] == 34, 'NumWeeksJobLook3'] = \"27 to 52 weeks\"\n",
    "df_2y.loc[df_2y['UnempWks'] == 35, 'NumWeeksJobLook3'] = \"27 to 52 weeks\"\n",
    "df_2y.loc[df_2y['UnempWks'] == 36, 'NumWeeksJobLook3'] = \"27 to 52 weeks\"\n",
    "df_2y.loc[df_2y['UnempWks'] == 37, 'NumWeeksJobLook3'] = \"27 to 52 weeks\"\n",
    "df_2y.loc[df_2y['UnempWks'] == 38, 'NumWeeksJobLook3'] = \"27 to 52 weeks\"\n",
    "df_2y.loc[df_2y['UnempWks'] == 39, 'NumWeeksJobLook3'] = \"27 to 52 weeks\"\n",
    "df_2y.loc[df_2y['UnempWks'] == 40, 'NumWeeksJobLook3'] = \"27 to 52 weeks\"\n",
    "df_2y.loc[df_2y['UnempWks'] == 41, 'NumWeeksJobLook3'] = \"27 to 52 weeks\"\n",
    "df_2y.loc[df_2y['UnempWks'] == 42, 'NumWeeksJobLook3'] = \"27 to 52 weeks\"\n",
    "df_2y.loc[df_2y['UnempWks'] == 43, 'NumWeeksJobLook3'] = \"27 to 52 weeks\"\n",
    "df_2y.loc[df_2y['UnempWks'] == 44, 'NumWeeksJobLook3'] = \"27 to 52 weeks\"\n",
    "df_2y.loc[df_2y['UnempWks'] == 45, 'NumWeeksJobLook3'] = \"27 to 52 weeks\"\n",
    "df_2y.loc[df_2y['UnempWks'] == 46, 'NumWeeksJobLook3'] = \"27 to 52 weeks\"\n",
    "df_2y.loc[df_2y['UnempWks'] == 47, 'NumWeeksJobLook3'] = \"27 to 52 weeks\"\n",
    "df_2y.loc[df_2y['UnempWks'] == 48, 'NumWeeksJobLook3'] = \"27 to 52 weeks\"\n",
    "df_2y.loc[df_2y['UnempWks'] == 49, 'NumWeeksJobLook3'] = \"27 to 52 weeks\"\n",
    "df_2y.loc[df_2y['UnempWks'] == 50, 'NumWeeksJobLook3'] = \"27 to 52 weeks\"\n",
    "df_2y.loc[df_2y['UnempWks'] == 51, 'NumWeeksJobLook3'] = \"27 to 52 weeks\"\n",
    "df_2y.loc[df_2y['UnempWks'] == 52, 'NumWeeksJobLook3'] = \"27 to 52 weeks\"\n"
   ]
  },
  {
   "cell_type": "code",
   "execution_count": null,
   "metadata": {
    "collapsed": true
   },
   "outputs": [],
   "source": []
  },
  {
   "cell_type": "code",
   "execution_count": null,
   "metadata": {
    "collapsed": true
   },
   "outputs": [],
   "source": []
  },
  {
   "cell_type": "code",
   "execution_count": null,
   "metadata": {
    "collapsed": true
   },
   "outputs": [],
   "source": []
  },
  {
   "cell_type": "code",
   "execution_count": 16,
   "metadata": {
    "collapsed": true
   },
   "outputs": [],
   "source": [
    "##################################3\n",
    "#\n",
    "#   Category exploratory data analysis\n",
    "#\n",
    "######################################3"
   ]
  },
  {
   "cell_type": "code",
   "execution_count": 17,
   "metadata": {
    "collapsed": false
   },
   "outputs": [
    {
     "name": "stdout",
     "output_type": "stream",
     "text": [
      "Emp_Group2  Sex2  \n",
      "Emped       Female    0.514142\n",
      "            Male      0.485858\n",
      "LongTerm    Female    0.414234\n",
      "            Male      0.585766\n",
      "ShortTerm   Female    0.390106\n",
      "            Male      0.609894\n",
      "dtype: float64\n"
     ]
    }
   ],
   "source": [
    "#1. \n",
    "# table 1.  distribution of category group within each emp groups\n",
    "\n",
    "# create table w just necessary vars:  emp group and categories.  for all obs\n",
    "df_Sex2_2y=df_2y\n",
    "LT_Sex2=df_Sex2_2y.loc[:,['Emp_Group2','Sex2']]\n",
    "#flip table empGrp x cate (rows x coluns)\n",
    "#  3 by # categories in var\n",
    "#  3 is num of empGroups.  3 groups\n",
    "pt2=pd.pivot_table(LT_Sex2,index=['Emp_Group2'],columns='Sex2',aggfunc='size', fill_value=0)\n",
    "# add columns together  (all categories.  so all pop in each empGrp) \n",
    "pt2['sum']=pt2.sum(axis=1)\n",
    "# divide each column by total so percent\n",
    "pt3=pt2.div(pt2['sum'], axis=0)\n",
    "# get rid of sum so just category categories\n",
    "del pt3['sum']\n",
    "# pt3.stack()   (and by_LT_Sex2_per2) from flip to make column heads as new entries in a column next to emp group.\n",
    "# like being grouped by of 2 vars.  empGroup and catGrp\n",
    "# one analysis column, two category columns\n",
    "by_LT_Sex2_per2=pt3.stack()\n",
    "by_LT_Sex2_per2\n",
    "\n",
    "by_LT_Sex2_per2.sort_values(axis=0,ascending=True)\n",
    "# print(pt2)\n",
    "print(by_LT_Sex2_per2)\n",
    "\n"
   ]
  },
  {
   "cell_type": "code",
   "execution_count": 18,
   "metadata": {
    "collapsed": false
   },
   "outputs": [
    {
     "data": {
      "text/plain": [
       "<matplotlib.axes._subplots.AxesSubplot at 0x2090cb56f98>"
      ]
     },
     "execution_count": 18,
     "metadata": {},
     "output_type": "execute_result"
    },
    {
     "data": {
      "image/png": "[encoded data removed]",
      "text/plain": [
       "<matplotlib.figure.Figure at 0x2090b7682e8>"
      ]
     },
     "metadata": {},
     "output_type": "display_data"
    },
    {
     "data": {
      "image/png": "[encoded data removed]",
      "text/plain": [
       "<matplotlib.figure.Figure at 0x2090caebf28>"
      ]
     },
     "metadata": {},
     "output_type": "display_data"
    },
    {
     "data": {
      "image/png": "[encoded data removed]",
      "text/plain": [
       "<matplotlib.figure.Figure at 0x2090cb67908>"
      ]
     },
     "metadata": {},
     "output_type": "display_data"
    }
   ],
   "source": [
    "# Graph Group #1:  Percent of each demographic group in each EmpGroup\n",
    "# From Table 1\n",
    "#by_LT_Sex2_per2=pt3.stack()\n",
    "\n",
    "# Graph 1: 1 bar each pair.  pair:  emp group and 1 demograpic group\n",
    "# Num Bars.  3 times # demographic groups\n",
    "by_LT_Sex2_per2.plot(kind='barh')\n",
    "# Graph 2: Each emp group:  X val.  demographics grouped by emp group.  three groups, N bars each grp, is N categories, \n",
    "#  1 bar each pair.  pair:  emp group and 1 demograpic group\n",
    "by_LT_Sex2_per2.unstack().plot(kind='barh')\n",
    "\n",
    "# Graph 3: 100% bar graph.  1 bar, Each emp group.  categories within each bar.  makeup composition\n",
    "by_LT_Sex2_per2.unstack().plot.bar(stacked=True)"
   ]
  },
  {
   "cell_type": "code",
   "execution_count": 19,
   "metadata": {
    "collapsed": false
   },
   "outputs": [
    {
     "name": "stdout",
     "output_type": "stream",
     "text": [
      "Sex2    Emp_Group2\n",
      "Female  EmpVsLT       0.099908\n",
      "        EmpVsST       0.124036\n",
      "        StVsLT        0.024128\n",
      "Male    EmpVsLT       0.099908\n",
      "        EmpVsST       0.124036\n",
      "        StVsLT        0.024128\n",
      "dtype: float64\n"
     ]
    },
    {
     "data": {
      "text/plain": [
       "'\\npt5=pt4.stack()\\n#pt5.sort_values(axis=0)\\nprint(pt5)\\n'"
      ]
     },
     "execution_count": 19,
     "metadata": {},
     "output_type": "execute_result"
    }
   ],
   "source": [
    "# table 2a.  differences between emp groups in each category group\n",
    "# table is easier to read than graphs if there are a lot of groups\n",
    "# abs so you can see biggest differences.  other you know which ones are larger than others\n",
    "\n",
    "\n",
    "pt4=pt3.T\n",
    "\n",
    "\n",
    "\n",
    "# greatest distances\n",
    "pt4['EmpVsLT'] = (pt4['Emped'] - pt4['LongTerm']).abs()\n",
    "pt4['EmpVsST'] = (pt4['Emped'] - pt4['ShortTerm']).abs()\n",
    "pt4['StVsLT'] = (pt4['ShortTerm'] - pt4['LongTerm']).abs()\n",
    "\n",
    "del pt4['Emped']\n",
    "del pt4['LongTerm']\n",
    "del pt4['ShortTerm']\n",
    "\n",
    "pt4.stack()\n",
    "pt5=pt4.stack()\n",
    "print(pt5)\n",
    "'''\n",
    "pt5=pt4.stack()\n",
    "#pt5.sort_values(axis=0)\n",
    "print(pt5)\n",
    "'''\n",
    "\n",
    "\n",
    "# ? how put in more readable formatted table \n",
    "#     - more readable\n",
    "#     - percent format\n",
    "#     - how sort across both category groups.  Sort largest to smallest all percent\n",
    "#     - title for percent columns ???????"
   ]
  },
  {
   "cell_type": "code",
   "execution_count": 20,
   "metadata": {
    "collapsed": false
   },
   "outputs": [
    {
     "data": {
      "text/plain": [
       "'\\npt5=pt4.stack()\\n#pt5.sort_values(axis=0)\\nprint(pt5)\\n'"
      ]
     },
     "execution_count": 20,
     "metadata": {},
     "output_type": "execute_result"
    }
   ],
   "source": [
    "# table 2b.  differences between emp groups in each category group\n",
    "# table is easier to read than graphs if there are a lot of groups\n",
    "# you know which ones are larger than others based on positive or negative vals\n",
    "\n",
    "#pt2=pd.pivot_table(LT_Sex2,index=['Emp_Group2'],columns='Sex2',aggfunc='size', fill_value=0)\n",
    "#pt2['sum']=pt2.sum(axis=1)\n",
    "#pt3=pt2.div(pt2['sum'], axis=0)\n",
    "#del pt3['sum']\n",
    "#by_LT_Sex2_per2=pt3.stack()\n",
    "#pt3['minus']=pt3[0]\n",
    "#print(pt3)\n",
    "\n",
    "#pt3.T is transposed.  rows as columns.  # categories X 3.  3 being # of empGroups\n",
    "pd4ntabs=pt3.T\n",
    "\n",
    "\n",
    "# ? maybe abs to compare, but would actually like difference graph where some are negative?\n",
    "#? differences between different emp groups.  Figuring out which groups have biggest differences\n",
    "#pt4['EmpVsLT']=pt4['Emped'].subtract(pt4['LongTerm']).abs()\n",
    "\n",
    "# greatest distances\n",
    "\n",
    "pd4ntabs['EmpVsLT'] = pd4ntabs['Emped'] - pd4ntabs['LongTerm']\n",
    "pd4ntabs['EmpVsST'] = pd4ntabs['Emped'] - pd4ntabs['ShortTerm']\n",
    "pd4ntabs['StVsLT'] = pd4ntabs['ShortTerm'] - pd4ntabs['LongTerm']\n",
    "\n",
    "# delete original columns so that we just keep the percents\n",
    "del pd4ntabs['Emped']\n",
    "del pd4ntabs['LongTerm']\n",
    "del pd4ntabs['ShortTerm']\n",
    "#print(pt4)\n",
    "\n",
    "pd4ntabs.stack()\n",
    "pd5ntabs=pd4ntabs.stack()\n",
    "\n",
    "pd5ntabs\n",
    "\n",
    "#pd5ntabs.sort_values(axis=0)\n",
    "#print(pd5ntabs)\n",
    "'''\n",
    "pt5=pt4.stack()\n",
    "#pt5.sort_values(axis=0)\n",
    "print(pt5)\n",
    "'''\n",
    "\n",
    "\n",
    "# ? how put table \n",
    "#- more readable\n",
    "#- percent format\n",
    "#- how sort across both category groups.  Sort largest to smallest all percent"
   ]
  },
  {
   "cell_type": "code",
   "execution_count": null,
   "metadata": {
    "collapsed": true
   },
   "outputs": [],
   "source": []
  },
  {
   "cell_type": "code",
   "execution_count": 21,
   "metadata": {
    "collapsed": false
   },
   "outputs": [
    {
     "name": "stdout",
     "output_type": "stream",
     "text": [
      "Emp_Group2  Sex2  \n",
      "Emped       Female    0.514142\n",
      "            Male      0.485858\n",
      "LongTerm    Female    0.414234\n",
      "            Male      0.585766\n",
      "ShortTerm   Female    0.390106\n",
      "            Male      0.609894\n",
      "dtype: float64\n",
      "Sex2    Emp_Group2\n",
      "Female  EmpVsLT       0.099908\n",
      "        EmpVsST       0.124036\n",
      "        StVsLT        0.024128\n",
      "Male    EmpVsLT       0.099908\n",
      "        EmpVsST       0.124036\n",
      "        StVsLT        0.024128\n",
      "dtype: float64\n"
     ]
    },
    {
     "data": {
      "text/plain": [
       "Sex2    Emp_Group2\n",
       "Female  EmpVsLT       0.099908\n",
       "        EmpVsST       0.124036\n",
       "        StVsLT       -0.024128\n",
       "Male    EmpVsLT      -0.099908\n",
       "        EmpVsST      -0.124036\n",
       "        StVsLT        0.024128\n",
       "dtype: float64"
      ]
     },
     "execution_count": 21,
     "metadata": {},
     "output_type": "execute_result"
    },
    {
     "data": {
      "image/png": "[encoded data removed]",
      "text/plain": [
       "<matplotlib.figure.Figure at 0x2090b7477b8>"
      ]
     },
     "metadata": {},
     "output_type": "display_data"
    },
    {
     "data": {
      "image/png": "[encoded data removed]",
      "text/plain": [
       "<matplotlib.figure.Figure at 0x2090dc81f28>"
      ]
     },
     "metadata": {},
     "output_type": "display_data"
    },
    {
     "data": {
      "image/png": "[encoded data removed]",
      "text/plain": [
       "<matplotlib.figure.Figure at 0x2090dc8f470>"
      ]
     },
     "metadata": {},
     "output_type": "display_data"
    }
   ],
   "source": [
    "# 1 cell, all tables and graphs\n",
    "\n",
    "\n",
    "# table 1.  distribution of category group within each emp groups\n",
    "df_Sex2_2y=df_2y\n",
    "LT_Sex2=df_Sex2_2y.loc[:,['Emp_Group2','Sex2']]\n",
    "pt2=pd.pivot_table(LT_Sex2,index=['Emp_Group2'],columns='Sex2',aggfunc='size', fill_value=0)\n",
    "pt2['sum']=pt2.sum(axis=1)\n",
    "pt3=pt2.div(pt2['sum'], axis=0)\n",
    "del pt3['sum']\n",
    "by_LT_Sex2_per2=pt3.stack()\n",
    "by_LT_Sex2_per2\n",
    "\n",
    "# table 1.  distribution of category group within each emp groups\n",
    "print(by_LT_Sex2_per2)\n",
    "\n",
    "# Graph Group #1:  Percent of each demographic group in each EmpGroup\n",
    "by_LT_Sex2_per2.plot(kind='barh')\n",
    "by_LT_Sex2_per2.unstack().plot(kind='barh')\n",
    "by_LT_Sex2_per2.unstack().plot.bar(stacked=True)\n",
    "\n",
    "# table 2a.  differences between emp groups in each category group\n",
    "pt4=pt3.T\n",
    "pt4['EmpVsLT'] = (pt4['Emped'] - pt4['LongTerm']).abs()\n",
    "pt4['EmpVsST'] = (pt4['Emped'] - pt4['ShortTerm']).abs()\n",
    "pt4['StVsLT'] = (pt4['ShortTerm'] - pt4['LongTerm']).abs()\n",
    "\n",
    "del pt4['Emped']\n",
    "del pt4['LongTerm']\n",
    "del pt4['ShortTerm']\n",
    "#print(pt4)\n",
    "\n",
    "pt4.stack()\n",
    "pt5=pt4.stack()\n",
    "# table 2a.  differences between emp groups in each category group\n",
    "print(pt5)\n",
    "\n",
    "# table 2b.  differences between emp groups in each category group\n",
    "pd4ntabs=pt3.T\n",
    "# greatest distances\n",
    "\n",
    "pd4ntabs['EmpVsLT'] = pd4ntabs['Emped'] - pd4ntabs['LongTerm']\n",
    "pd4ntabs['EmpVsST'] = pd4ntabs['Emped'] - pd4ntabs['ShortTerm']\n",
    "pd4ntabs['StVsLT'] = pd4ntabs['ShortTerm'] - pd4ntabs['LongTerm']\n",
    "\n",
    "# delete original columns so that we just keep the percents\n",
    "del pd4ntabs['Emped']\n",
    "del pd4ntabs['LongTerm']\n",
    "del pd4ntabs['ShortTerm']\n",
    "#print(pt4)\n",
    "\n",
    "pd4ntabs.stack()\n",
    "pd5ntabs=pd4ntabs.stack()\n",
    "# table 2b.  differences between emp groups in each category group\n",
    "pd5ntabs\n",
    "\n"
   ]
  },
  {
   "cell_type": "code",
   "execution_count": null,
   "metadata": {
    "collapsed": true
   },
   "outputs": [],
   "source": []
  },
  {
   "cell_type": "code",
   "execution_count": null,
   "metadata": {
    "collapsed": true
   },
   "outputs": [],
   "source": []
  },
  {
   "cell_type": "code",
   "execution_count": null,
   "metadata": {
    "collapsed": true
   },
   "outputs": [],
   "source": []
  },
  {
   "cell_type": "code",
   "execution_count": null,
   "metadata": {
    "collapsed": true
   },
   "outputs": [],
   "source": [
    "# macro each category for 3 emp groups\n",
    "\n",
    "\n",
    "\n",
    "# only table 1 and graphs.  no tables 2a and 2b.  Want difference graphs.  easier to see differences.\n",
    "def grfEDActe(cvarn):\n",
    "    # table 1.  distribution of category group within each emp groups\n",
    "    df_cvarn_2y=df_2y\n",
    "    LT_cvarn=df_cvarn_2y.loc[:,['Emp_Group2',cvarn]]\n",
    "    pt2=pd.pivot_table(LT_cvarn,index=['Emp_Group2'],columns=cvarn,aggfunc='size', fill_value=0)\n",
    "    pt2['sum']=pt2.sum(axis=1)\n",
    "    pt3=pt2.div(pt2['sum'], axis=0)\n",
    "    del pt3['sum']\n",
    "    by_LT_cvarn_per2=pt3.stack()\n",
    "     \n",
    "    # table 1.  distribution of category group within each emp groups\n",
    "    print(by_LT_cvarn_per2)\n",
    "    # Graph group 1.  distribution of category group within each emp groups\n",
    "    by_LT_cvarn_per2.plot(kind='barh')\n",
    "    by_LT_cvarn_per2.unstack().plot(kind='barh')\n",
    "    by_LT_cvarn_per2.unstack().plot.bar(stacked=True)\n",
    "    del df_cvarn_2y\n",
    "    del LT_cvarn\n",
    "    del pt2\n",
    "    del pt3\n",
    "    del by_LT_cvarn_per2\n",
    "\n",
    "    # table 2a.  differences between emp groups in each category group\n",
    "    pt4=pt3.T\n",
    "    pt4['EmpVsLT'] = (pt4['Emped'] - pt4['LongTerm']).abs()\n",
    "    pt4['EmpVsST'] = (pt4['Emped'] - pt4['ShortTerm']).abs()\n",
    "    pt4['StVsLT'] = (pt4['ShortTerm'] - pt4['LongTerm']).abs()\n",
    "\n",
    "    del pt4['Emped']\n",
    "    del pt4['LongTerm']\n",
    "    del pt4['ShortTerm']\n",
    "    #print(pt4)\n",
    "\n",
    "    pt4.stack()\n",
    "    pt5=pt4.stack()\n",
    "    print(pt5)\n",
    "\n",
    "    # table 2b.  differences between emp groups in each category group\n",
    "    pd4ntabs=pt3.T\n",
    "\n",
    "    # greatest distances\n",
    "    pd4ntabs['EmpVsLT'] = pd4ntabs['Emped'] - pd4ntabs['LongTerm']\n",
    "    pd4ntabs['EmpVsST'] = pd4ntabs['Emped'] - pd4ntabs['ShortTerm']\n",
    "    pd4ntabs['StVsLT'] = pd4ntabs['ShortTerm'] - pd4ntabs['LongTerm']\n",
    "\n",
    "    # delete original columns so that we just keep the percents\n",
    "    del pd4ntabs['Emped']\n",
    "    del pd4ntabs['LongTerm']\n",
    "    del pd4ntabs['ShortTerm']\n",
    "    #print(pt4)\n",
    "\n",
    "    pd4ntabs.stack()\n",
    "    pd5ntabs=pd4ntabs.stack()\n",
    "    # table 2b.  differences between emp groups in each category group\n",
    "    pd5ntabs\n",
    "\n",
    "\n",
    "grfEDActe('Sex2')\n",
    "    \n",
    "# tables.  make a table.  title, sort, percent formats "
   ]
  },
  {
   "cell_type": "code",
   "execution_count": null,
   "metadata": {
    "collapsed": true
   },
   "outputs": [],
   "source": []
  },
  {
   "cell_type": "code",
   "execution_count": null,
   "metadata": {
    "collapsed": true
   },
   "outputs": [],
   "source": []
  },
  {
   "cell_type": "code",
   "execution_count": null,
   "metadata": {
    "collapsed": true
   },
   "outputs": [],
   "source": [
    "#grfEDActe('Sex2')\n",
    "'''    \n",
    "#grfEDActe('MaritalStatus2')\n",
    "\n",
    "    \n",
    "#grfEDActe('Age')\n",
    "#grfEDActe('Age2')\n",
    "grfEDActe('MaritalStatus2')\n",
    "grfEDActe('Sex2')\n",
    "grfEDActe('educ2')\n",
    "grfEDActe('Race2')\n",
    "grfEDActe('identifier2')\n",
    "grfEDActe('Hispanic2')\n",
    "grfEDActe('Military22')\n",
    "grfEDActe('MilitaryServ__when2')\n",
    "grfEDActe('Disability2')\n",
    "\n",
    "\n",
    "grfEDActe('WeeksUnEmp2')\n",
    "grfEDActe('UnionMem2')\n",
    "grfEDActe('attendSchool2')\n",
    "grfEDActe('LabForceStat22')\n",
    "grfEDActe('WorkingFull_Part2')\n",
    "grfEDActe('PastLworkStat2')\n",
    "grfEDActe('CLabFor2')\n",
    "grfEDActe('UnempReas2')\n",
    "grfEDActe('IsDiscoraged2')\n",
    "grfEDActe('NumWeeksJobLook2')\n",
    "grfEDActe('EarnLastJob2')\n",
    "grfEDActe('LowIncStatus2')\n",
    "grfEDActe('CovInsPriv82')\n",
    "'''\n"
   ]
  },
  {
   "cell_type": "code",
   "execution_count": null,
   "metadata": {
    "collapsed": true
   },
   "outputs": [],
   "source": []
  },
  {
   "cell_type": "code",
   "execution_count": null,
   "metadata": {
    "collapsed": true
   },
   "outputs": [],
   "source": []
  },
  {
   "cell_type": "code",
   "execution_count": null,
   "metadata": {
    "collapsed": true
   },
   "outputs": [],
   "source": [
    "#######################33\n",
    "### Numeric Exploratory Data analysis\n",
    "#######################33"
   ]
  },
  {
   "cell_type": "code",
   "execution_count": null,
   "metadata": {
    "collapsed": true
   },
   "outputs": [],
   "source": [
    "# numeric not continuous values\n",
    "# to examine relationship and distribution"
   ]
  },
  {
   "cell_type": "code",
   "execution_count": 23,
   "metadata": {
    "collapsed": false
   },
   "outputs": [
    {
     "data": {
      "text/plain": [
       "<matplotlib.collections.PathCollection at 0x2090dc698d0>"
      ]
     },
     "execution_count": 23,
     "metadata": {},
     "output_type": "execute_result"
    },
    {
     "data": {
      "image/png": "[encoded data removed]",
      "text/plain": [
       "<matplotlib.figure.Figure at 0x2090ddf6320>"
      ]
     },
     "metadata": {},
     "output_type": "display_data"
    }
   ],
   "source": [
    "\n",
    "\n",
    "### other graphs\n",
    "### Numeric\n",
    "### tables good for numeric, put in category too\n",
    "### and too many category look funny\n",
    "\n",
    "########################################\n",
    "########################################\n",
    "## Take out 0s or NANs? -- HELP!!!!!!\n",
    "## Some that imported as string might need reformatting to int\n",
    "########################################\n",
    "########################################\n",
    "\n",
    "# 1. Scatter dot plot\n",
    "\n",
    "df_2y['AgeN'] = df_2y['Age'].astype('float')\n",
    "\n",
    "\n",
    "fig=plt.figure()\n",
    "ax=fig.add_subplot(1,1,1)\n",
    "\n",
    "ax.scatter(df_2y['AgeN'],df_2y['UnempWks'])"
   ]
  },
  {
   "cell_type": "code",
   "execution_count": 27,
   "metadata": {
    "collapsed": false
   },
   "outputs": [
    {
     "data": {
      "text/plain": [
       "(nan, 1.0)"
      ]
     },
     "execution_count": 27,
     "metadata": {},
     "output_type": "execute_result"
    }
   ],
   "source": [
    "#http://courses.cs.washington.edu/courses/cse140/14wi/sections/08/section08-handout-14wi.pdf\n",
    "#CorrData=df_2y.loc[:,['UnempWks','AgeN']]\n",
    "#scipy.stats.pearsonr\n",
    "import scipy as sp\n",
    "from scipy.stats import pearsonr\n",
    "#pearsonr(x, y)\n",
    "#sp.stats.\n",
    "pearsonr(df_2y['AgeN'],df_2y['UnempWks'])"
   ]
  },
  {
   "cell_type": "code",
   "execution_count": null,
   "metadata": {
    "collapsed": true
   },
   "outputs": [],
   "source": []
  },
  {
   "cell_type": "code",
   "execution_count": null,
   "metadata": {
    "collapsed": true
   },
   "outputs": [],
   "source": []
  },
  {
   "cell_type": "code",
   "execution_count": null,
   "metadata": {
    "collapsed": true
   },
   "outputs": [],
   "source": []
  },
  {
   "cell_type": "code",
   "execution_count": null,
   "metadata": {
    "collapsed": true
   },
   "outputs": [],
   "source": []
  },
  {
   "cell_type": "code",
   "execution_count": null,
   "metadata": {
    "collapsed": true
   },
   "outputs": [],
   "source": []
  }
 ],
 "metadata": {
  "kernelspec": {
   "display_name": "Python 3",
   "language": "python",
   "name": "python3"
  },
  "language_info": {
   "codemirror_mode": {
    "name": "ipython",
    "version": 3
   },
   "file_extension": ".py",
   "mimetype": "text/x-python",
   "name": "python",
   "nbconvert_exporter": "python",
   "pygments_lexer": "ipython3",
   "version": "3.5.1"
  }
 },
 "nbformat": 4,
 "nbformat_minor": 0
}
