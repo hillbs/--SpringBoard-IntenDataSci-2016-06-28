{
 "cells": [
  {
   "cell_type": "markdown",
   "metadata": {},
   "source": [
    "# Process data and compare populations.\n",
    "(for now just histograms)"
   ]
  },
  {
   "cell_type": "markdown",
   "metadata": {},
   "source": [
    "###### Import libraries and imported data from last program"
   ]
  },
  {
   "cell_type": "code",
   "execution_count": null,
   "metadata": {
    "collapsed": true
   },
   "outputs": [],
   "source": [
    "# general comments:  some code could be way more efficient.  will clean up what i know\n",
    "# some is just hodge podge, got to work\n",
    "\n",
    "# comment to bsh:\n",
    "#  - check vars again.  more diff variables"
   ]
  },
  {
   "cell_type": "code",
   "execution_count": 2,
   "metadata": {
    "collapsed": true
   },
   "outputs": [],
   "source": [
    "import pandas as pd\n",
    "import numpy as np\n",
    "\n",
    "import matplotlib.pyplot as plt\n",
    "%matplotlib inline"
   ]
  },
  {
   "cell_type": "code",
   "execution_count": 3,
   "metadata": {
    "collapsed": false
   },
   "outputs": [],
   "source": [
    "\n",
    "df15 = pd.read_pickle('Ref15_merged')\n",
    "df09 = pd.read_pickle('Ref09_merged')\n"
   ]
  },
  {
   "cell_type": "code",
   "execution_count": 4,
   "metadata": {
    "collapsed": false
   },
   "outputs": [],
   "source": [
    "# combine two years into one dataset\n",
    "\n",
    "\n",
    "frames = [df09, df15]\n",
    "df_2y = pd.concat(frames)"
   ]
  },
  {
   "cell_type": "markdown",
   "metadata": {
    "collapsed": true
   },
   "source": [
    "#### Recode vars:  "
   ]
  },
  {
   "cell_type": "code",
   "execution_count": null,
   "metadata": {
    "collapsed": true
   },
   "outputs": [],
   "source": [
    "########################################33\n",
    "#\n",
    "# should be overwriting more.  will when everything works.\n",
    "# habit from SAS\n",
    "#\n",
    "##############################33\n",
    "\n",
    "# another group?  discouraged worker.  not in the labor force\n",
    "# when .subtract .sum .asb vs df[0]+df[1]\n",
    "\n",
    "\n",
    "# Cant float NA to int.\n",
    "# what do I do about nas everywhere?  convert to 0s.  create sep datasets and drop out of analysis.\n",
    "\n",
    "\n"
   ]
  },
  {
   "cell_type": "code",
   "execution_count": 6,
   "metadata": {
    "collapsed": false
   },
   "outputs": [],
   "source": [
    "'''\n",
    "1. Create main analysis variable:  Unemployment classification: employed, long-term unemployed, short-term unemployed\n",
    "1. Change format to numeric so we can analyze we will use in analysis\n",
    "2. Rename analysis variables to more easily understand in later anlaysis\n",
    "'''\n",
    "\n",
    "# just found.  need to slowly read through codebook.  am i missing something else?\n",
    "# weighting?\n",
    "\n",
    "#lkweeks :  weeks looking if employed in last year\n",
    "#nwlkwk :  weeks looking if not employed in last year\n",
    "\n",
    "df_2y['nwlkwk2'] = df_2y['nwlkwk'].astype('float')\n",
    "df_2y['lkweeks2'] = df_2y['lkweeks'].astype('float')\n",
    "\n",
    "df_2y['UnempWks'] = df_2y['nwlkwk2'] + df_2y['lkweeks2']\n",
    "\n",
    "\n",
    "# Create Long Term Unemployed variable to compare populations\n",
    "df_2y['LTunemp'] = np.where(df_2y['UnempWks']>=27, 'yes', 'no')\n",
    "df_2y['LTunempN'] = np.where(df_2y['UnempWks']>=27, 1, 0)\n",
    "\n",
    "\n",
    "df_2y.loc[df_2y['UnempWks'] >=27,'Emp_Group2'] = 'LongTerm'\n",
    "df_2y.loc[(df_2y['UnempWks'] <27) & (df_2y['UnempWks'] >=1),'Emp_Group2'] = 'ShortTerm'\n",
    "df_2y.loc[df_2y['UnempWks'] ==0,'Emp_Group2'] = 'Emped'\n",
    "\n",
    "\n",
    "# check for outliers and missing or wierd values\n",
    "#df_2y.loc[df_2y['UnempWks'].isna,'Emp_Group2'] = pd.isna\n",
    "#df_2y.describe()\n"
   ]
  },
  {
   "cell_type": "code",
   "execution_count": 7,
   "metadata": {
    "collapsed": true
   },
   "outputs": [],
   "source": [
    "# 1.1. Rename family numeric variables\n",
    "\n",
    "df_2y['NumPerFam']=df_2y['fpersons']\n",
    "df_2y['wagesFamInc']=df_2y['fwsval']\n",
    "df_2y['FoodStmpAmt']=df_2y['f_mv_fs']\n",
    "df_2y['SchoolLunAmt']=df_2y['f_mv_sl']\n",
    "df_2y['HealthPrem']=df_2y['fhip_val']\n",
    "df_2y['HealthOutPock']=df_2y['fmoop']\n"
   ]
  },
  {
   "cell_type": "code",
   "execution_count": 8,
   "metadata": {
    "collapsed": true
   },
   "outputs": [],
   "source": [
    "# 1.2.  Rename and reformat Numeric fam variables\n",
    "\n",
    "df_2y['FamType'] = df_2y['ftype'].astype('str')\n",
    "df_2y['ChildLesTh6'] = df_2y['fownu6'].astype('str')\n",
    "df_2y['RelChildLesTh6'] = df_2y['frelu6'].astype('str')\n",
    "df_2y['RelChildLesTh18'] = df_2y['frelu18'].astype('str')\n",
    "df_2y['IncPercntFam'] = df_2y['fpctcut'].astype('str')\n",
    "df_2y['FamIncVsPov'] = df_2y['famlis'].astype('str')\n",
    "\n",
    "# yes no dummie vars.  do they receive $$ from these sources\n",
    "# are continuous a better choice?\n",
    "df_2y['wages'] = df_2y['finc_ws'].astype('str')\n",
    "df_2y['UnempComp'] = df_2y['finc_uc'].astype('str')\n",
    "df_2y['WorkComp'] = df_2y['finc_wc'].astype('str')\n",
    "df_2y['welfare'] = df_2y['finc_paw'].astype('str')\n",
    "df_2y['VetBen'] = df_2y['finc_vet'].astype('str')\n",
    "df_2y['DisabBen'] = df_2y['finc_dis'].astype('str')\n",
    "df_2y['ChildSup'] = df_2y['finc_csp'].astype('str')\n"
   ]
  },
  {
   "cell_type": "code",
   "execution_count": 9,
   "metadata": {
    "collapsed": false
   },
   "outputs": [],
   "source": [
    "# 1.3. Recode values of family categorical variables (for format and analysis)\n",
    "\n",
    "df_2y.loc[df_2y['FamType'] == '1', 'FamType2'] = \"Primary family\"\n",
    "df_2y.loc[df_2y['FamType'] == '2', 'FamType2'] = \"Nonfamily householder\"\n",
    "df_2y.loc[df_2y['FamType'] == '3', 'FamType2'] = \"Related subfamily\"\n",
    "df_2y.loc[df_2y['FamType'] == '4', 'FamType2'] = \"Unrelated subfamily\"\n",
    "df_2y.loc[df_2y['FamType'] == '5', 'FamType2'] = \"Secondary individual\"\n",
    "df_2y.loc[df_2y['ChildLesTh6'] == '0.0', 'ChildLesTh62'] = \"None, not in universe\"\n",
    "df_2y.loc[df_2y['ChildLesTh6'] == '1.0', 'ChildLesTh62'] = \"1\"\n",
    "df_2y.loc[df_2y['ChildLesTh6'] == '2.0', 'ChildLesTh62'] = \"2\"\n",
    "df_2y.loc[df_2y['ChildLesTh6'] == '3.0', 'ChildLesTh62'] = \"3\"\n",
    "df_2y.loc[df_2y['ChildLesTh6'] == '4.0', 'ChildLesTh62'] = \"4\"\n",
    "df_2y.loc[df_2y['ChildLesTh6'] == '5.0', 'ChildLesTh62'] = \"5\"\n",
    "df_2y.loc[df_2y['ChildLesTh6'] == '6.0', 'ChildLesTh62'] = \"6+\"\n",
    "df_2y.loc[df_2y['RelChildLesTh6'] == '3.0', 'RelChildLesTh62'] = \"3\"\n",
    "df_2y.loc[df_2y['RelChildLesTh6'] == '4.0', 'RelChildLesTh62'] = \"4\"\n",
    "df_2y.loc[df_2y['RelChildLesTh6'] == '5.0', 'RelChildLesTh62'] = \"5\"\n",
    "df_2y.loc[df_2y['RelChildLesTh6'] == '6.0', 'RelChildLesTh62'] = \"6\"\n",
    "df_2y.loc[df_2y['RelChildLesTh6'] == '7.0', 'RelChildLesTh62'] = \"7\"\n",
    "df_2y.loc[df_2y['RelChildLesTh6'] == '8.0', 'RelChildLesTh62'] = \"8\"\n",
    "df_2y.loc[df_2y['RelChildLesTh6'] == '9.0', 'RelChildLesTh62'] = \"9+\"\n",
    "df_2y.loc[df_2y['RelChildLesTh18'] == '0.0', 'RelChildLesTh182'] = \"NIU (FTYPE=2+)\"\n",
    "df_2y.loc[df_2y['RelChildLesTh18'] == '1.0', 'RelChildLesTh182'] = \"Lowest 5 percent\"\n",
    "df_2y.loc[df_2y['RelChildLesTh18'] == '2.0', 'RelChildLesTh182'] = \"Second 5 percent \"\n",
    "df_2y.loc[df_2y['RelChildLesTh18'] == '3.0', 'RelChildLesTh182'] = \"3rd percent\"\n",
    "df_2y.loc[df_2y['RelChildLesTh18'] == '4.0', 'RelChildLesTh182'] = \"4th percent\"\n",
    "df_2y.loc[df_2y['RelChildLesTh18'] == '5.0', 'RelChildLesTh182'] = \"5th percent\"\n",
    "df_2y.loc[df_2y['RelChildLesTh18'] == '6.0', 'RelChildLesTh182'] = \"6th percent\"\n",
    "df_2y.loc[df_2y['RelChildLesTh18'] == '7.0', 'RelChildLesTh182'] = \"7th percent\"\n",
    "df_2y.loc[df_2y['RelChildLesTh18'] == '8.0', 'RelChildLesTh182'] = \"8th percent\"\n",
    "df_2y.loc[df_2y['RelChildLesTh18'] == '9.0', 'RelChildLesTh182'] = \"9th percent\"\n",
    "df_2y.loc[df_2y['IncPercntFam'] == '10.0', 'IncPercntFam2'] = \"10th percent\"\n",
    "df_2y.loc[df_2y['IncPercntFam'] == '11.0', 'IncPercntFam2'] = \"11th percent\"\n",
    "df_2y.loc[df_2y['IncPercntFam'] == '12.0', 'IncPercntFam2'] = \"12th percent\"\n",
    "df_2y.loc[df_2y['IncPercntFam'] == '13.0', 'IncPercntFam2'] = \"13th percent\"\n",
    "df_2y.loc[df_2y['IncPercntFam'] == '14.0', 'IncPercntFam2'] = \"14th percent\"\n",
    "df_2y.loc[df_2y['IncPercntFam'] == '15.0', 'IncPercntFam2'] = \"15th percent\"\n",
    "df_2y.loc[df_2y['IncPercntFam'] == '16.0', 'IncPercntFam2'] = \"16th percent\"\n",
    "df_2y.loc[df_2y['IncPercntFam'] == '17.0', 'IncPercntFam2'] = \"17th percent\"\n",
    "df_2y.loc[df_2y['IncPercntFam'] == '18.0', 'IncPercntFam2'] = \"18th percent\"\n",
    "df_2y.loc[df_2y['IncPercntFam'] == '19.0', 'IncPercntFam2'] = \"19th percent\"\n",
    "df_2y.loc[df_2y['IncPercntFam'] == '20.0', 'IncPercntFam2'] = \"Top 5 percent\"\n",
    "df_2y.loc[df_2y['IncPercntFam'] == '1.0', 'IncPercntFam2'] = \"Below low-income level\"\n",
    "df_2y.loc[df_2y['IncPercntFam'] == '2.0', 'IncPercntFam2'] = \"100 - 124 percent of the low- income level\"\n",
    "df_2y.loc[df_2y['IncPercntFam'] == '3.0', 'IncPercntFam2'] = \"125 - 149 percent of the low- income level\"\n",
    "df_2y.loc[df_2y['IncPercntFam'] == '4.0', 'IncPercntFam2'] = \"150 percent and above the low-income level\"\n",
    "df_2y.loc[df_2y['IncPercntFam'] == '1.0', 'IncPercntFam2'] = \"Yes\"\n",
    "df_2y.loc[df_2y['IncPercntFam'] == '2.0', 'IncPercntFam2'] = \"No Dollar amount\"\n",
    "df_2y.loc[df_2y['IncPercntFam'] == '1.0', 'IncPercntFam2'] = \"Yes\"\n",
    "df_2y.loc[df_2y['IncPercntFam'] == '2.0', 'IncPercntFam2'] = \"No\"\n",
    "df_2y.loc[df_2y['IncPercntFam'] == '1.0', 'IncPercntFam2'] = \"Yes\"\n",
    "df_2y.loc[df_2y['IncPercntFam'] == '2.0', 'IncPercntFam2'] = \"No\"\n",
    "df_2y.loc[df_2y['FamIncVsPov'] == '1.0', 'FamIncVsPov2'] = \"Yes\"\n",
    "df_2y.loc[df_2y['FamIncVsPov'] == '2.0', 'FamIncVsPov2'] = \"No\"\n",
    "df_2y.loc[df_2y['FamIncVsPov'] == '1.0', 'FamIncVsPov2'] = \"Yes\"\n",
    "df_2y.loc[df_2y['FamIncVsPov'] == '2.0', 'FamIncVsPov2'] = \"No\"\n",
    "\n",
    "\n",
    "# Yes and No = recode to make it easier later\n"
   ]
  },
  {
   "cell_type": "code",
   "execution_count": 10,
   "metadata": {
    "collapsed": false
   },
   "outputs": [
    {
     "data": {
      "text/plain": [
       "'\\ndf_2y.loc[df_2y[\\'wages\\'] == \\'.0\\', \\'wages2\\'] = \"Wage and salary\"\\ndf_2y.loc[df_2y[\\'wages\\'] == \\'.0\\', \\'wages2\\'] = \"Wage and salary\"\\ndf_2y.loc[df_2y[\\'UnempComp\\'] == \\'.0\\', \\'UnempComp2\\'] = \"Unemployment compensation\"\\ndf_2y.loc[df_2y[\\'UnempComp\\'] == \\'.0\\', \\'UnempComp2\\'] = \"Unemployment compensation\"\\ndf_2y.loc[df_2y[\\'WorkComp\\'] == \\'.0\\', \\'WorkComp2\\'] = \"Worker\\'s compensation\"\\ndf_2y.loc[df_2y[\\'WorkComp\\'] == \\'.0\\', \\'WorkComp2\\'] = \"Worker\\'s compensation\"\\ndf_2y.loc[df_2y[\\'welfare\\'] == \\'.0\\', \\'welfare2\\'] = \"Public assistance or welfare benefits\"\\ndf_2y.loc[df_2y[\\'welfare\\'] == \\'.0\\', \\'welfare2\\'] = \"Public assistance or welfare benefits\"\\ndf_2y.loc[df_2y[\\'VetBen\\'] == \\'.0\\', \\'VetBen2\\'] = \"Veterans\\' Benefits\"\\ndf_2y.loc[df_2y[\\'VetBen\\'] == \\'.0\\', \\'VetBen2\\'] = \"Veterans\\' Benefits\"\\ndf_2y.loc[df_2y[\\'DisabBen\\'] == \\'.0\\', \\'DisabBen2\\'] = \"Disability payments\"\\ndf_2y.loc[df_2y[\\'DisabBen\\'] == \\'.0\\', \\'DisabBen2\\'] = \"Disability payments\"\\ndf_2y.loc[df_2y[\\'ChildSup\\'] == \\'.0\\', \\'ChildSup2\\'] = \"Child support payments\"\\ndf_2y.loc[df_2y[\\'ChildSup\\'] == \\'.0\\', \\'ChildSup2\\'] = \"Child support payments\"\\n\\n'"
      ]
     },
     "execution_count": 10,
     "metadata": {},
     "output_type": "execute_result"
    }
   ],
   "source": [
    "## ?? these look like numeric vaariables.\n",
    "# 1.X??\n",
    "'''\n",
    "df_2y.loc[df_2y['wages'] == '.0', 'wages2'] = \"Wage and salary\"\n",
    "df_2y.loc[df_2y['wages'] == '.0', 'wages2'] = \"Wage and salary\"\n",
    "df_2y.loc[df_2y['UnempComp'] == '.0', 'UnempComp2'] = \"Unemployment compensation\"\n",
    "df_2y.loc[df_2y['UnempComp'] == '.0', 'UnempComp2'] = \"Unemployment compensation\"\n",
    "df_2y.loc[df_2y['WorkComp'] == '.0', 'WorkComp2'] = \"Worker's compensation\"\n",
    "df_2y.loc[df_2y['WorkComp'] == '.0', 'WorkComp2'] = \"Worker's compensation\"\n",
    "df_2y.loc[df_2y['welfare'] == '.0', 'welfare2'] = \"Public assistance or welfare benefits\"\n",
    "df_2y.loc[df_2y['welfare'] == '.0', 'welfare2'] = \"Public assistance or welfare benefits\"\n",
    "df_2y.loc[df_2y['VetBen'] == '.0', 'VetBen2'] = \"Veterans' Benefits\"\n",
    "df_2y.loc[df_2y['VetBen'] == '.0', 'VetBen2'] = \"Veterans' Benefits\"\n",
    "df_2y.loc[df_2y['DisabBen'] == '.0', 'DisabBen2'] = \"Disability payments\"\n",
    "df_2y.loc[df_2y['DisabBen'] == '.0', 'DisabBen2'] = \"Disability payments\"\n",
    "df_2y.loc[df_2y['ChildSup'] == '.0', 'ChildSup2'] = \"Child support payments\"\n",
    "df_2y.loc[df_2y['ChildSup'] == '.0', 'ChildSup2'] = \"Child support payments\"\n",
    "\n",
    "'''"
   ]
  },
  {
   "cell_type": "code",
   "execution_count": null,
   "metadata": {
    "collapsed": true
   },
   "outputs": [],
   "source": []
  },
  {
   "cell_type": "code",
   "execution_count": 11,
   "metadata": {
    "collapsed": false
   },
   "outputs": [],
   "source": [
    "# 2.1. Rename haus numeric variables\n",
    "\n",
    "df_2y['Wages']=df_2y['hwsval']\n",
    "df_2y['Uiearn']=df_2y['hucval']\n",
    "df_2y['WorkComp']=df_2y['hwcval']\n",
    "df_2y['ssSocSec']=df_2y['hssval']\n",
    "df_2y['SuppInc']=df_2y['hssival']\n",
    "df_2y['PubAsst']=df_2y['hpawval']\n",
    "df_2y['VetPay']=df_2y['hvetval']\n",
    "df_2y['survivorPay']=df_2y['hsurval']\n",
    "df_2y['diabPay']=df_2y['hdisval']\n",
    "df_2y['RetireInc']=df_2y['hretval']\n",
    "df_2y['InterestInc']=df_2y['hintval']\n",
    "df_2y['DivInc']=df_2y['hdivval']\n",
    "df_2y['EdInc']=df_2y['hedval']\n",
    "df_2y['ChSupp']=df_2y['hcspval']\n",
    "df_2y['FinAssInc']=df_2y['hfinval']\n",
    "df_2y['OthInc']=df_2y['hoival']\n",
    "\n",
    "\n",
    "# 1.2.  Rename and reformat (convert dtype to str) haus numeric fam variables\n",
    "\n",
    "df_2y['Wages'] = df_2y['hwsval'].astype('str')\n",
    "df_2y['Uiearn'] = df_2y['hucval'].astype('str')\n",
    "df_2y['WorkComp'] = df_2y['hwcval'].astype('str')\n",
    "df_2y['ssSocSec'] = df_2y['hssval'].astype('str')\n",
    "df_2y['SuppInc'] = df_2y['hssival'].astype('str')\n",
    "df_2y['PubAsst'] = df_2y['hpawval'].astype('str')\n",
    "df_2y['VetPay'] = df_2y['hvetval'].astype('str')\n",
    "df_2y['survivorPay'] = df_2y['hsurval'].astype('str')\n",
    "df_2y['diabPay'] = df_2y['hdisval'].astype('str')\n",
    "df_2y['RetireInc'] = df_2y['hretval'].astype('str')\n",
    "df_2y['InterestInc'] = df_2y['hintval'].astype('str')\n",
    "df_2y['DivInc'] = df_2y['hdivval'].astype('str')\n",
    "df_2y['EdInc'] = df_2y['hedval'].astype('str')\n",
    "df_2y['ChSupp'] = df_2y['hcspval'].astype('str')\n",
    "df_2y['FinAssInc'] = df_2y['hfinval'].astype('str')\n",
    "df_2y['OthInc'] = df_2y['hoival'].astype('str')\n",
    "\n",
    "\n",
    "#df_2y['hausHldTyp1'].describe()\n",
    "#df_2y['LivPlaceType'].head()"
   ]
  },
  {
   "cell_type": "code",
   "execution_count": 12,
   "metadata": {
    "collapsed": true
   },
   "outputs": [],
   "source": [
    "# 2.3. Recode values of family categorical variables (for format and analysis)\n",
    "# to make more sense for later analysis\n",
    "\n",
    "\n",
    "#df_2y['MetroSize'] = df_2y['gtcbsasz'].astype('str')\n",
    "\n",
    "\n",
    "df_2y['hausHldTyp1'] = df_2y['h_type'].astype('str')\n",
    "df_2y['LivPlaceType'] = df_2y['h_livqrt'].astype('str')\n",
    "df_2y['CountyFIPS'] = df_2y['gtco'].astype('str')\n",
    "df_2y['City'] = df_2y['gtindvpc'].astype('str')\n",
    "df_2y['HausStatus'] = df_2y['hhstatus'].astype('str')\n",
    "df_2y['hhIncPerctiles'] = df_2y['htop5pct'].astype('str')\n",
    "df_2y['hhIncPerctiles2'] = df_2y['hpctcut'].astype('str')\n",
    "df_2y['Hhtype2'] = df_2y['hrhtype'].astype('str')\n",
    "\n",
    "#? df_2y.loc[df_2y['MetroSize'] == '0.0', 'MetroSize2'] = \"Not identified or nonmetropolitan\"\n",
    "\n",
    "\n",
    "df_2y.loc[df_2y['hausHldTyp1'] == '1', 'hausHldTyp12'] = \"Husband/wife primary family (neither husband or wife in\"\n",
    "df_2y.loc[df_2y['hausHldTyp1'] == '2', 'hausHldTyp12'] = \"Husband/wife primary family (husband and/or wife in\"\n",
    "df_2y.loc[df_2y['hausHldTyp1'] == '3', 'hausHldTyp12'] = \"Unmarried civilian male primary family householder\"\n",
    "df_2y.loc[df_2y['hausHldTyp1'] == '4', 'hausHldTyp12'] = \"Unmarried civilian female primary family householder\"\n",
    "df_2y.loc[df_2y['hausHldTyp1'] == '5', 'hausHldTyp12'] = \"Primary family household - reference person in\"\n",
    "df_2y.loc[df_2y['hausHldTyp1'] == '6', 'hausHldTyp12'] = \"Civilian male nonfamily householder\"\n",
    "df_2y.loc[df_2y['hausHldTyp1'] == '7', 'hausHldTyp12'] = \"Civilian female nonfamily householder\"\n",
    "df_2y.loc[df_2y['hausHldTyp1'] == '8', 'hausHldTyp12'] = \"Nonfamily householder household-reference person in\"\n",
    "\n",
    "df_2y.loc[df_2y['LivPlaceType'] == '01', 'LivPlaceType2'] = \"House, apt\"\n",
    "df_2y.loc[df_2y['LivPlaceType'] == '02', 'LivPlaceType2'] = \"HU in nontransient hotel, etc\"\n",
    "df_2y.loc[df_2y['LivPlaceType'] == '03', 'LivPlaceType2'] = \"HU, perm,  in trans\"\n",
    "df_2y.loc[df_2y['LivPlaceType'] == '04', 'LivPlaceType2'] = \"HU in rooming house\"\n",
    "df_2y.loc[df_2y['LivPlaceType'] == '05', 'LivPlaceType2'] = \"Mobile home or trailer with no\"\n",
    "df_2y.loc[df_2y['LivPlaceType'] == '06', 'LivPlaceType2'] = \"Mobile home or trailer with 1\"\n",
    "df_2y.loc[df_2y['LivPlaceType'] == '07', 'LivPlaceType2'] = \"HU not specified above\"\n",
    "df_2y.loc[df_2y['LivPlaceType'] == '08', 'LivPlaceType2'] = \"Qtrs not hu in rooming or\"\n",
    "df_2y.loc[df_2y['LivPlaceType'] == '09', 'LivPlaceType2'] = \"Unit not perm in trans\"\n",
    "df_2y.loc[df_2y['LivPlaceType'] == '10', 'LivPlaceType2'] = \"Tent or trailer site\"\n",
    "df_2y.loc[df_2y['LivPlaceType'] == '11', 'LivPlaceType2'] = \"Student quarters in college\"\n",
    "df_2y.loc[df_2y['LivPlaceType'] == '12', 'LivPlaceType2'] = \"Other not HU\"\n",
    "\n",
    "df_2y.loc[df_2y['HausStatus'] == '0', 'HausStatus2'] = \"Not in universe (group quarters)\"\n",
    "df_2y.loc[df_2y['HausStatus'] == '2', 'HausStatus2'] = \"Nonfamily householder living alone\"\n",
    "df_2y.loc[df_2y['HausStatus'] == '3', 'HausStatus2'] = \"Nonfamily householder living with nonrelatives\"\n",
    "df_2y.loc[df_2y['hhIncPerctiles'] == '1', 'hhIncPerctiles2'] = \"Widowed\"\n",
    "df_2y.loc[df_2y['hhIncPerctiles2'] == '2', 'hhIncPerctiles22'] = \"Divorced\"\n",
    "df_2y.loc[df_2y['Hhtype2'] == '00', 'Hhtype22'] = \"Separated\"\n",
    "df_2y.loc[df_2y['Hhtype2'] == '31', 'Hhtype22'] = \"Never married\"\n",
    "df_2y.loc[df_2y['Hhtype2'] == '32', 'Hhtype22'] = \"Married - civilian spouse present\"\n",
    "df_2y.loc[df_2y['Hhtype2'] == '33', 'Hhtype22'] = \"Married - AF spouse present\"\n",
    "df_2y.loc[df_2y['Hhtype2'] == '34', 'Hhtype22'] = \"Married - spouse absent (exc. separated)\"\n",
    "df_2y.loc[df_2y['Hhtype2'] == '35', 'Hhtype22'] = \"Widowed\"\n",
    "df_2y.loc[df_2y['Hhtype2'] == '36', 'Hhtype22'] = \"Divorced\"\n",
    "df_2y.loc[df_2y['Hhtype2'] == '37', 'Hhtype22'] = \"Separated\"\n",
    "df_2y.loc[df_2y['Hhtype2'] == '38', 'Hhtype22'] = \"Never married\"\n",
    "df_2y.loc[df_2y['Hhtype2'] == '39', 'Hhtype22'] = \"Married - civilian spouse present\"\n"
   ]
  },
  {
   "cell_type": "code",
   "execution_count": 13,
   "metadata": {
    "collapsed": false
   },
   "outputs": [],
   "source": [
    "########################################\n",
    "########################################\n",
    "## do i need to drop nas? \n",
    "########################################\n",
    "########################################\n",
    "\n"
   ]
  },
  {
   "cell_type": "code",
   "execution_count": 14,
   "metadata": {
    "collapsed": true
   },
   "outputs": [],
   "source": [
    "### all analyses:\n",
    "# what percent of \n",
    "# do I get my axises right?\n",
    "# which vars X, which var right?"
   ]
  },
  {
   "cell_type": "code",
   "execution_count": 15,
   "metadata": {
    "collapsed": true
   },
   "outputs": [],
   "source": [
    "\n",
    "# Percentages -  #\n",
    "# DO THIS IF TOO MANY CATEGORIES TO GRAPH\n",
    "\n",
    "# should make tabel the other way.\n",
    "# also some graphs hard to read/see differences if emp group is on X axis.  e.g. FamType2\n",
    "# also see other stat like difference when make tables?  Or do it this way?"
   ]
  },
  {
   "cell_type": "code",
   "execution_count": null,
   "metadata": {
    "collapsed": true
   },
   "outputs": [],
   "source": []
  },
  {
   "cell_type": "code",
   "execution_count": 16,
   "metadata": {
    "collapsed": true
   },
   "outputs": [],
   "source": [
    "# Table 1.  distribution of category group within each emp groups\n",
    "# Use tables when too many categories to fit on one graph \n"
   ]
  },
  {
   "cell_type": "code",
   "execution_count": null,
   "metadata": {
    "collapsed": true
   },
   "outputs": [],
   "source": [
    "########################################\n",
    "########################################\n",
    "## would like to sort this -- HELP!!!!!!\n",
    "########################################\n",
    "########################################"
   ]
  },
  {
   "cell_type": "code",
   "execution_count": 17,
   "metadata": {
    "collapsed": false
   },
   "outputs": [
    {
     "data": {
      "text/plain": [
       "Emp_Group2  FamType2             \n",
       "ShortTerm   Unrelated subfamily      0.008065\n",
       "Emped       Unrelated subfamily      0.009327\n",
       "LongTerm    Unrelated subfamily      0.014925\n",
       "            Secondary individual     0.164179\n",
       "ShortTerm   Secondary individual     0.177419\n",
       "Emped       Secondary individual     0.181908\n",
       "            Nonfamily householder    0.808766\n",
       "ShortTerm   Nonfamily householder    0.814516\n",
       "LongTerm    Nonfamily householder    0.820896\n",
       "dtype: float64"
      ]
     },
     "execution_count": 17,
     "metadata": {},
     "output_type": "execute_result"
    }
   ],
   "source": [
    "\n",
    "#1. Table Percent of emp group belongs to each categorical group\n",
    "\n",
    "df_FamType_2y=df_2y\n",
    "LT_FamType2=df_FamType_2y.loc[:,['Emp_Group2','FamType2']]\n",
    "\n",
    "\n",
    "pt2=pd.pivot_table(LT_FamType2,index=['Emp_Group2'],columns='FamType2',aggfunc='size', fill_value=0)\n",
    "pt2['sum']=pt2.sum(axis=1)\n",
    "pt3=pt2.div(pt2['sum'], axis=0)\n",
    "del pt3['sum']\n",
    "by_LT_FamType2_per2=pt3.stack()\n",
    "by_LT_FamType2_per2\n",
    "\n",
    "by_LT_FamType2_per2.sort_values(axis=0,ascending=True)\n"
   ]
  },
  {
   "cell_type": "code",
   "execution_count": null,
   "metadata": {
    "collapsed": true
   },
   "outputs": [],
   "source": [
    "# Graph Group #1:  Percent of each demographic group in each EmpGroup\n",
    "by_LT_FamType2.plot(kind='barh')\n",
    "by_LT_FamType2.unstack().plot(kind='barh')\n",
    "by_LT_FamType2.unstack().plot.bar(stacked=True)\n",
    "\n",
    "\n",
    "\n",
    "########################################\n",
    "########################################\n",
    "## I want a difference graph \n",
    "## BSH DO:  I need to format graphs, labels, etc.\n",
    "########################################\n",
    "########################################\n"
   ]
  },
  {
   "cell_type": "code",
   "execution_count": 18,
   "metadata": {
    "collapsed": false
   },
   "outputs": [
    {
     "name": "stdout",
     "output_type": "stream",
     "text": [
      "FamType2    Nonfamily householder  Secondary individual  Unrelated subfamily\n",
      "Emp_Group2                                                                  \n",
      "Emped                    0.808766              0.181908             0.009327\n",
      "LongTerm                 0.820896              0.164179             0.014925\n",
      "ShortTerm                0.814516              0.177419             0.008065\n"
     ]
    }
   ],
   "source": [
    "# table 2a.  differences between emp groups in each category group\n",
    "# table is easier to read than graphs if there are a lot of groups\n",
    "# abs so you can see biggest differences.  \n",
    "\n",
    "pt4=pt3.T\n",
    "\n",
    "\n",
    "# greatest distances\n",
    "pt4['EmpVsLT'] = (pt4['Emped'] - pt4['LongTerm']).abs()\n",
    "pt4['EmpVsST'] = (pt4['Emped'] - pt4['ShortTerm']).abs()\n",
    "pt4['StVsLT'] = (pt4['ShortTerm'] - pt4['LongTerm']).abs()\n",
    "\n",
    "del pt4['Emped']\n",
    "del pt4['LongTerm']\n",
    "del pt4['ShortTerm']\n",
    "\n",
    "pt4.stack()\n",
    "pt5=pt4.stack()\n",
    "print(pt5)\n",
    "'''\n",
    "pt5=pt4.stack()\n",
    "#pt5.sort_values(axis=0)\n",
    "print(pt5)\n",
    "'''\n",
    "\n",
    "\n",
    "# ? how put in more readable formatted table \n",
    "#     - more readable\n",
    "#     - percent format\n",
    "#     - how sort across both category groups.  Sort largest to smallest all percent\n",
    "#     - title for percent columns ???????\n"
   ]
  },
  {
   "cell_type": "code",
   "execution_count": 19,
   "metadata": {
    "collapsed": false
   },
   "outputs": [
    {
     "name": "stdout",
     "output_type": "stream",
     "text": [
      "FamType2               Emp_Group2\n",
      "Nonfamily householder  EmpVsLT       0.012130\n",
      "                       EmpVsST       0.005750\n",
      "                       StVsLT        0.006379\n",
      "Secondary individual   EmpVsLT       0.017729\n",
      "                       EmpVsST       0.004488\n",
      "                       StVsLT        0.013240\n",
      "Unrelated subfamily    EmpVsLT       0.005599\n",
      "                       EmpVsST       0.001262\n",
      "                       StVsLT        0.006861\n",
      "dtype: float64\n"
     ]
    }
   ],
   "source": [
    "# table 2b.  differences between emp groups in each category group\n",
    "# you know differences and which ones are larger than others based on positive or negative vals\n",
    "\n",
    "\n",
    "########################################\n",
    "########################################\n",
    "## Subtraction results cant be right -- HELP!!!!!!\n",
    "## Format Percent\n",
    "## abs() still producing negative values\n",
    "## cant sort!\n",
    "########################################\n",
    "########################################\n",
    "\n",
    "pd4ntabs=pt3.T\n",
    "\n",
    "pd4ntabs['EmpVsLT'] = pd4ntabs['Emped'] - pd4ntabs['LongTerm']\n",
    "pd4ntabs['EmpVsST'] = pd4ntabs['Emped'] - pd4ntabs['ShortTerm']\n",
    "pd4ntabs['StVsLT'] = pd4ntabs['ShortTerm'] - pd4ntabs['LongTerm']\n",
    "\n",
    "del pd4ntabs['Emped']\n",
    "del pd4ntabs['LongTerm']\n",
    "del pd4ntabs['ShortTerm']\n",
    "#print(pt4)\n",
    "\n",
    "\n",
    "pd4ntabs.stack()\n",
    "pd5ntabs=pd4ntabs.stack()\n",
    "\n",
    "pd5ntabs\n",
    "\n",
    "\n",
    "#pt5.sort_values(columns=[pt[0], ascending=false) # axis=0,\n",
    "print(pt5)\n",
    "\n",
    "\n",
    "\n",
    "# i want to sort not within subgroup\n",
    "#pd.options.display.float_format = '${:,.2f}'.format\n",
    "# format percent options\n"
   ]
  },
  {
   "cell_type": "code",
   "execution_count": 20,
   "metadata": {
    "collapsed": false
   },
   "outputs": [],
   "source": []
  },
  {
   "cell_type": "code",
   "execution_count": null,
   "metadata": {
    "collapsed": true
   },
   "outputs": [],
   "source": []
  },
  {
   "cell_type": "code",
   "execution_count": 23,
   "metadata": {
    "collapsed": false
   },
   "outputs": [
    {
     "name": "stdout",
     "output_type": "stream",
     "text": [
      "FamType2    Nonfamily householder  Secondary individual  Unrelated subfamily\n",
      "Emp_Group2                                                                  \n",
      "Emped                    0.808766              0.181908             0.009327\n",
      "LongTerm                 0.820896              0.164179             0.014925\n",
      "ShortTerm                0.814516              0.177419             0.008065\n",
      "FamType2               Emp_Group2\n",
      "Nonfamily householder  EmpVsLT       0.012130\n",
      "                       EmpVsST       0.005750\n",
      "                       StVsLT        0.006379\n",
      "Secondary individual   EmpVsLT       0.017729\n",
      "                       EmpVsST       0.004488\n",
      "                       StVsLT        0.013240\n",
      "Unrelated subfamily    EmpVsLT       0.005599\n",
      "                       EmpVsST       0.001262\n",
      "                       StVsLT        0.006861\n",
      "dtype: float64\n",
      "FamType2               Emp_Group2\n",
      "Nonfamily householder  EmpVsLT      -0.012130\n",
      "                       EmpVsST      -0.005750\n",
      "                       StVsLT       -0.006379\n",
      "Secondary individual   EmpVsLT       0.017729\n",
      "                       EmpVsST       0.004488\n",
      "                       StVsLT        0.013240\n",
      "Unrelated subfamily    EmpVsLT      -0.005599\n",
      "                       EmpVsST       0.001262\n",
      "                       StVsLT       -0.006861\n",
      "dtype: float64\n"
     ]
    },
    {
     "data": {
      "image/png": "[encoded data removed]",
      "text/plain": [
       "<matplotlib.figure.Figure at 0x26401373f98>"
      ]
     },
     "metadata": {},
     "output_type": "display_data"
    },
    {
     "data": {
      "image/png": "[encoded data removed]",
      "text/plain": [
       "<matplotlib.figure.Figure at 0x26401391cf8>"
      ]
     },
     "metadata": {},
     "output_type": "display_data"
    },
    {
     "data": {
      "image/png": "[encoded data removed]",
      "text/plain": [
       "<matplotlib.figure.Figure at 0x26401454dd8>"
      ]
     },
     "metadata": {},
     "output_type": "display_data"
    }
   ],
   "source": [
    "# Analysis, all 1 cell to setup function\n",
    "\n",
    "\n",
    "#1. Table Percent of emp group belongs to each categorical group\n",
    "\n",
    "df_FamType_2y=df_2y\n",
    "LT_FamType2=df_FamType_2y.loc[:,['Emp_Group2','FamType2']]\n",
    "\n",
    "\n",
    "pt2=pd.pivot_table(LT_FamType2,index=['Emp_Group2'],columns='FamType2',aggfunc='size', fill_value=0)\n",
    "pt2['sum']=pt2.sum(axis=1)\n",
    "pt3=pt2.div(pt2['sum'], axis=0)\n",
    "del pt3['sum']\n",
    "by_LT_FamType2_per2=pt3.stack()\n",
    "by_LT_FamType2_per2\n",
    "\n",
    "\n",
    "by_LT_FamType2_per2.sort_values(axis=0,ascending=True)\n",
    "\n",
    "\n",
    "#########################################################################3\n",
    "\n",
    "\n",
    "pt2=pd.pivot_table(df_FamType_2y,index=['Emp_Group2'],columns='FamType2',aggfunc='size', fill_value=0)\n",
    "pt2['sum']=pt2.sum(axis=1)\n",
    "pt3=pt2.div(pt2['sum'], axis=0)\n",
    "del pt3['sum']\n",
    "\n",
    "by_LT_FamType2_per2=pt3.stack()\n",
    "\n",
    "print(pt3)\n",
    "\n",
    "\n",
    "#### percent difference tables\n",
    "\n",
    "\n",
    "pt4=pt3.T\n",
    "\n",
    "pt4['EmpVsLT']=(pt4['Emped']-pt4['LongTerm']).abs()\n",
    "pt4['EmpVsST']=(pt4['Emped']-pt4['ShortTerm']).abs()\n",
    "pt4['StVsLT']=(pt4['ShortTerm']-pt4['LongTerm']).abs()\n",
    "\n",
    "#############3\n",
    "# try non abs for difference graph\n",
    "##########3\n",
    "\n",
    "\n",
    "pt4\n",
    "\n",
    "\n",
    "del pt4['Emped']\n",
    "del pt4['LongTerm']\n",
    "del pt4['ShortTerm']\n",
    "\n",
    "\n",
    "pt5=pt4.stack()\n",
    "\n",
    "print(pt5)\n",
    "\n",
    "\n",
    "# format percent options\n",
    "#pd.options.display.float_format = '${:,.2f}'.format\n",
    "\n",
    "# i want to sort not within subgroup\n",
    "\n",
    "#######################33\n",
    "\n",
    "# 3. Graphs comparing distribution of emp groups amoung categorical groups\n",
    "\n",
    "\n",
    "########################################\n",
    "########################################\n",
    "## I want a difference graph\n",
    "## bsh - I need to format graphs \n",
    "########################################\n",
    "########################################\n",
    "\n",
    "\n",
    "by_LT_FamType2_per2=pt4.stack()\n",
    "\n",
    "\n",
    "by_LT_FamType2_per2.plot(kind='barh')\n",
    "by_LT_FamType2_per2.unstack().plot(kind='barh')\n",
    "by_LT_FamType2_per2.unstack().plot.bar(stacked=True)\n",
    "\n",
    "\n",
    "#######################3\n",
    "\n",
    "# 3. sorted table (differences) comparing distribution of emp groups amoung categorical groups\n",
    "\n",
    "pt8=pt3.T\n",
    "\n",
    "pt8['EmpVsLT']=pt8['Emped'].subtract(pt8['LongTerm'])\n",
    "pt8['EmpVsST']=pt8['Emped'].subtract(pt8['ShortTerm'])\n",
    "pt8['StVsLT']=pt8['ShortTerm'].subtract(pt8['LongTerm'])\n",
    "#try .abs to compare differences\n",
    "\n",
    "del pt8['Emped']\n",
    "del pt8['LongTerm']\n",
    "del pt8['ShortTerm']\n",
    "\n",
    "#print(by_LT_Sex2_per2)\n",
    "#print(pt4)\n",
    "pt9=pt8.stack()\n",
    "pt9.sort_values(axis=0, ascending=False)\n",
    "print(pt9)\n",
    "\n",
    "## can only sort within category\n",
    "## want to know how to do all\n",
    "############################################3\n",
    "\n"
   ]
  },
  {
   "cell_type": "code",
   "execution_count": null,
   "metadata": {
    "collapsed": true
   },
   "outputs": [],
   "source": []
  },
  {
   "cell_type": "code",
   "execution_count": 77,
   "metadata": {
    "collapsed": false
   },
   "outputs": [
    {
     "data": {
      "text/plain": [
       "\"\\ngrfEDActeFam('ChildLesTh6')\\ngrfEDActeFam('RelChildLesTh6')\\ngrfEDActeFam('RelChildLesTh18')\\ngrfEDActeFam('IncPercntFam')\\ngrfEDActeFam('FamIncVsPov')\\ngrfEDActeFam('wages')\\ngrfEDActeFam('UnempComp')\\ngrfEDActeFam('WorkComp')\\ngrfEDActeFam('welfare')\\ngrfEDActeFam('VetBen')\\ngrfEDActeFam('DisabBen')\\ngrfEDActeFam('ChildSup')\\n\""
      ]
     },
     "execution_count": 77,
     "metadata": {},
     "output_type": "execute_result"
    },
    {
     "data": {
      "image/png": "[encoded data removed]",
      "text/plain": [
       "<matplotlib.figure.Figure at 0x20b0854e908>"
      ]
     },
     "metadata": {},
     "output_type": "display_data"
    },
    {
     "data": {
      "image/png": "[encoded data removed]",
      "text/plain": [
       "<matplotlib.figure.Figure at 0x20b084c2ac8>"
      ]
     },
     "metadata": {},
     "output_type": "display_data"
    },
    {
     "data": {
      "image/png": "[encoded data removed]",
      "text/plain": [
       "<matplotlib.figure.Figure at 0x20b04a29d30>"
      ]
     },
     "metadata": {},
     "output_type": "display_data"
    }
   ],
   "source": [
    "# Function to automate analysis for each variable\n",
    "\n",
    "def grfEDActeFam(cvarn):\n",
    "    df_cvarn_2y=df_2y\n",
    "    LT_cvarn=df_cvarn_2y.loc[:,['Emp_Group2',cvarn]]\n",
    "    pt2=pd.pivot_table(LT_cvarn,index=['Emp_Group2'],columns=cvarn,aggfunc='size', fill_value=0)\n",
    "    pt2['sum']=pt2.sum(axis=1)\n",
    "    pt3=pt2.div(pt2['sum'], axis=0)\n",
    "    del pt3['sum']\n",
    "    by_LT_cvarn_per2=pt3.stack()\n",
    "    by_LT_cvarn_per2.plot(kind='barh')\n",
    "    by_LT_cvarn_per2.unstack().plot(kind='barh')\n",
    "    by_LT_cvarn_per2.unstack().plot.bar(stacked=True)\n",
    "    del df_cvarn_2y\n",
    "    del LT_cvarn\n",
    "    del pt2\n",
    "    del pt3\n",
    "    del by_LT_cvarn_per2\n",
    "\n",
    "#grfEDActeFam('FamType2')\n",
    "grfEDActeFam('FamType')\n",
    "\n",
    "'''\n",
    "grfEDActeFam('ChildLesTh6')\n",
    "grfEDActeFam('RelChildLesTh6')\n",
    "grfEDActeFam('RelChildLesTh18')\n",
    "grfEDActeFam('IncPercntFam')\n",
    "grfEDActeFam('FamIncVsPov')\n",
    "grfEDActeFam('wages')\n",
    "grfEDActeFam('UnempComp')\n",
    "grfEDActeFam('WorkComp')\n",
    "grfEDActeFam('welfare')\n",
    "grfEDActeFam('VetBen')\n",
    "grfEDActeFam('DisabBen')\n",
    "grfEDActeFam('ChildSup')\n",
    "'''"
   ]
  },
  {
   "cell_type": "code",
   "execution_count": null,
   "metadata": {
    "collapsed": true
   },
   "outputs": [],
   "source": [
    "\n",
    "# Haus categorical graphs macro\n",
    "def grfEDAhaus(cvarn):\n",
    "    df_cvarn_2y=df_2y\n",
    "    LT_cvarn=df_cvarn_2y.loc[:,['Emp_Group2',cvarn]]\n",
    "    pt2=pd.pivot_table(LT_cvarn,index=['Emp_Group2'],columns=cvarn,aggfunc='size', fill_value=0)\n",
    "    pt2['sum']=pt2.sum(axis=1)\n",
    "    pt3=pt2.div(pt2['sum'], axis=0)\n",
    "    del pt3['sum']\n",
    "    by_LT_cvarn_per2=pt3.stack()\n",
    "    by_LT_cvarn_per2.plot(kind='barh')\n",
    "    by_LT_cvarn_per2.unstack().plot(kind='barh')\n",
    "    by_LT_cvarn_per2.unstack().plot.bar(stacked=True)\n",
    "    del df_cvarn_2y\n",
    "    del LT_cvarn\n",
    "    del pt2\n",
    "    del pt3\n",
    "    del by_LT_cvarn_per2\n",
    "\n",
    "#grfEDActeFam('FamType2')\n",
    "\n",
    "'''\n",
    "grfEDAhaus('Hhtype')\n",
    "grfEDAhaus('LivPlaceType')\n",
    "grfEDAhaus('CountyFIPS')\n",
    "grfEDAhaus('City')\n",
    "grfEDAhaus('MetroSize')\n",
    "grfEDAhaus('HausStatus')\n",
    "grfEDAhaus('hhIncPerctiles')\n",
    "grfEDAhaus('hhIncPerctiles2')\n",
    "grfEDAhaus('Hhtype2')\n",
    "'''"
   ]
  },
  {
   "cell_type": "code",
   "execution_count": null,
   "metadata": {
    "collapsed": true
   },
   "outputs": [],
   "source": []
  },
  {
   "cell_type": "code",
   "execution_count": null,
   "metadata": {
    "collapsed": true
   },
   "outputs": [],
   "source": [
    "#######################33\n",
    "### Numeric Data analysis\n",
    "#######################33"
   ]
  },
  {
   "cell_type": "code",
   "execution_count": null,
   "metadata": {
    "collapsed": true
   },
   "outputs": [],
   "source": []
  },
  {
   "cell_type": "code",
   "execution_count": null,
   "metadata": {
    "collapsed": true
   },
   "outputs": [],
   "source": []
  },
  {
   "cell_type": "code",
   "execution_count": 53,
   "metadata": {
    "collapsed": false
   },
   "outputs": [
    {
     "data": {
      "text/plain": [
       "<matplotlib.collections.PathCollection at 0x26206b66358>"
      ]
     },
     "execution_count": 53,
     "metadata": {},
     "output_type": "execute_result"
    },
    {
     "data": {
      "image/png": "[encoded data removed]",
      "text/plain": [
       "<matplotlib.figure.Figure at 0x2620699ccf8>"
      ]
     },
     "metadata": {},
     "output_type": "display_data"
    }
   ],
   "source": [
    "# 1. Scatter dot plot\n",
    "\n",
    "########################################\n",
    "########################################\n",
    "## Take out 0s or NANs? \n",
    "## Some that imported as string might need reformatting to int\n",
    "########################################\n",
    "########################################\n",
    "\n",
    "df_2y['wagesFamInc3'] = df_2y['wagesFamInc'].astype('int')\n",
    "\n",
    "fig=plt.figure()\n",
    "ax=fig.add_subplot(1,1,1)\n",
    "\n",
    "ax.scatter(df_2y['wagesFamInc3'],df_2y['nwlkwk'])\n",
    "\n",
    "# Eliminate edge observations?\n",
    "\n",
    "'''\n",
    "df8 = df7[np.isfinite(df7['UnempWks2'])]\n",
    "df8 = df7[np.isfinite(df7['wagesFamInc4'])]\n",
    "'''\n",
    "\n",
    "\n"
   ]
  },
  {
   "cell_type": "code",
   "execution_count": null,
   "metadata": {
    "collapsed": true
   },
   "outputs": [],
   "source": []
  },
  {
   "cell_type": "markdown",
   "metadata": {},
   "source": [
    "# Histogram to compare the categorical variable distribution of the long-term unemployed and the rest of the population"
   ]
  },
  {
   "cell_type": "code",
   "execution_count": null,
   "metadata": {
    "collapsed": true
   },
   "outputs": [],
   "source": []
  },
  {
   "cell_type": "code",
   "execution_count": 59,
   "metadata": {
    "collapsed": false
   },
   "outputs": [
    {
     "data": {
      "text/plain": [
       "([array([  9.09091736e-06,   0.00000000e+00,   0.00000000e+00,\n",
       "           0.00000000e+00,   0.00000000e+00,   0.00000000e+00,\n",
       "           0.00000000e+00,   0.00000000e+00,   0.00000000e+00,\n",
       "           0.00000000e+00]),\n",
       "  array([  9.09091736e-06,   0.00000000e+00,   0.00000000e+00,\n",
       "           0.00000000e+00,   0.00000000e+00,   0.00000000e+00,\n",
       "           0.00000000e+00,   0.00000000e+00,   0.00000000e+00,\n",
       "           0.00000000e+00]),\n",
       "  array([  8.80707459e-06,   2.43104537e-07,   2.18595360e-08,\n",
       "           6.95530692e-09,   2.31843564e-09,   9.93615275e-10,\n",
       "           1.98723055e-09,   6.62410183e-10,   6.62410183e-10,\n",
       "           5.29928147e-09])],\n",
       " array([       0. ,   109999.9,   219999.8,   329999.7,   439999.6,\n",
       "          549999.5,   659999.4,   769999.3,   879999.2,   989999.1,\n",
       "         1099999. ]),\n",
       " <a list of 3 Lists of Patches objects>)"
      ]
     },
     "execution_count": 59,
     "metadata": {},
     "output_type": "execute_result"
    },
    {
     "data": {
      "image/png": "[encoded data removed]",
      "text/plain": [
       "<matplotlib.figure.Figure at 0x26206b27f98>"
      ]
     },
     "metadata": {},
     "output_type": "display_data"
    }
   ],
   "source": [
    "df_2y['wagesFamInc4'] = df_2y['wagesFamInc'].astype('int')\n",
    "\n",
    "\n",
    "LTUmp = df_2y[df_2y['Emp_Group2'] == 'LongTerm']\n",
    "STUmp = df_2y[df_2y['Emp_Group2'] == 'ShortTerm']\n",
    "Emped_g = df_2y[df_2y['Emp_Group2'] == 'Emped']\n",
    "\n",
    "\n",
    "LTUmpx=LTUmp['wagesFamInc4']\n",
    "STUmpx=STUmp['wagesFamInc4']\n",
    "NotLTUmpx=Emped_g['wagesFamInc4']\n",
    "\n",
    "\n",
    "plt.hist([LTUmpx,STUmpx,NotLTUmpx], normed=True)"
   ]
  },
  {
   "cell_type": "code",
   "execution_count": null,
   "metadata": {
    "collapsed": true
   },
   "outputs": [],
   "source": []
  },
  {
   "cell_type": "code",
   "execution_count": 63,
   "metadata": {
    "collapsed": false
   },
   "outputs": [
    {
     "data": {
      "image/png": "[encoded data removed]",
      "text/plain": [
       "<matplotlib.figure.Figure at 0x2620fa39470>"
      ]
     },
     "metadata": {},
     "output_type": "display_data"
    }
   ],
   "source": [
    "#3. boxplots\n",
    "\n",
    "\n",
    "import seaborn as sns \n",
    "\n",
    "sns.boxplot(x=df_2y['Emp_Group2'], y=df_2y['wagesFamInc4'])\n",
    "sns.despine()\n",
    "\n",
    "# ?? nas causing this?"
   ]
  },
  {
   "cell_type": "code",
   "execution_count": null,
   "metadata": {
    "collapsed": true
   },
   "outputs": [],
   "source": []
  },
  {
   "cell_type": "code",
   "execution_count": 29,
   "metadata": {
    "collapsed": false
   },
   "outputs": [
    {
     "name": "stderr",
     "output_type": "stream",
     "text": [
      "C:\\Users\\hillb\\Anaconda3\\lib\\site-packages\\ipykernel\\__main__.py:50: FutureWarning: \n",
      "The default value for 'return_type' will change to 'axes' in a future release.\n",
      " To use the future behavior now, set return_type='axes'.\n",
      " To keep the previous behavior and silence this warning, set return_type='dict'.\n"
     ]
    },
    {
     "data": {
      "image/png": "[encoded data removed]",
      "text/plain": [
       "<matplotlib.figure.Figure at 0x26401b169b0>"
      ]
     },
     "metadata": {},
     "output_type": "display_data"
    },
    {
     "data": {
      "image/png": "[encoded data removed]",
      "text/plain": [
       "<matplotlib.figure.Figure at 0x26400a3e6d8>"
      ]
     },
     "metadata": {},
     "output_type": "display_data"
    },
    {
     "data": {
      "image/png": "[encoded data removed]",
      "text/plain": [
       "<matplotlib.figure.Figure at 0x26401348208>"
      ]
     },
     "metadata": {},
     "output_type": "display_data"
    },
    {
     "data": {
      "image/png": "[encoded data removed]",
      "text/plain": [
       "<matplotlib.figure.Figure at 0x2640153aeb8>"
      ]
     },
     "metadata": {},
     "output_type": "display_data"
    }
   ],
   "source": [
    "# All in one cell.  Set up function\n",
    "\n",
    "##################################33\n",
    "##################################33\n",
    "#\n",
    "#  why histograms not showing\n",
    "#  Only printing some of the plots.  i want more!\n",
    "#  maybe need plt on one plt2 ...\n",
    "#\n",
    "##################################33\n",
    "##################################33\n",
    "\n",
    "\n",
    "\n",
    "#1\n",
    "\n",
    "df7=df_2y.loc[:,['wagesFamInc3','nwlkwk']]\n",
    "\n",
    "df7['UnempWks2'] = df7['nwlkwk'].astype('float')\n",
    "df7['wagesFamInc4'] = df7['wagesFamInc3'].astype('float')\n",
    "\n",
    "df8 = df7[np.isfinite(df7['UnempWks2'])]\n",
    "df8 = df7[np.isfinite(df7['wagesFamInc4'])]\n",
    "\n",
    "fig=plt.figure()\n",
    "ax2=fig.add_subplot(1,1,1)\n",
    "\n",
    "\n",
    "ax2.scatter(df8['wagesFamInc4'],df8['UnempWks2'])\n",
    "\n",
    "###################################\n",
    "\n",
    "#3\n",
    "fig=plt.figure()\n",
    "ax3=fig.add_subplot(1,1,1)\n",
    "\n",
    "\n",
    "ax3.scatter(df8['wagesFamInc4'],df8['UnempWks2'])\n",
    "\n",
    "\n",
    "###################################\n",
    "\n",
    "#4\n",
    "df8.boxplot('wagesFamInc4')\n",
    "\n",
    "###################################\n",
    "\n",
    "\n",
    "#5\n",
    "df_2y['wagesFamInc4'] = df_2y['wagesFamInc'].astype('int')\n",
    "\n",
    "LTUmp = df_2y[df_2y['Emp_Group2'] == 'LongTerm']\n",
    "STUmp = df_2y[df_2y['Emp_Group2'] == 'ShortTerm']\n",
    "Emped_g = df_2y[df_2y['Emp_Group2'] == 'Emped']\n",
    "\n",
    "\n",
    "LTUmpx=LTUmp['wagesFamInc4']\n",
    "STUmpx=STUmp['wagesFamInc4']\n",
    "NotLTUmpx=Emped_g['wagesFamInc4']\n",
    "\n",
    "plt.hist([LTUmpx,STUmpx,NotLTUmpx], normed=True)\n",
    "\n",
    "plt.plot()\n",
    "plt.show()\n",
    "###########################33\n",
    "\n",
    "#6\n",
    "import seaborn as sns\n",
    "sns.boxplot(x=df_2y['Emp_Group2'], y=df_2y['wagesFamInc4'])\n",
    "sns.despine()\n",
    "##################################33\n",
    "\n",
    "#7\n",
    "\n",
    "\n",
    "LTUmp = df_2y[df_2y['Emp_Group2'] == 'LongTerm']\n",
    "STUmp = df_2y[df_2y['Emp_Group2'] == 'ShortTerm']\n",
    "Emped_g = df_2y[df_2y['Emp_Group2'] == 'Emped']\n",
    "\n",
    "LTUmpx=LTUmp['wagesFamInc4']\n",
    "STUmpx=STUmp['wagesFamInc4']\n",
    "NotLTUmpx=Emped_g['wagesFamInc4']\n",
    "\n",
    "\n",
    "plt.hist([LTUmpx,STUmpx,NotLTUmpx], normed=True)\n",
    "#plt.hist.plot()\n",
    "#plt.hist.show()\n",
    "plt.show()"
   ]
  },
  {
   "cell_type": "code",
   "execution_count": null,
   "metadata": {
    "collapsed": true
   },
   "outputs": [],
   "source": []
  },
  {
   "cell_type": "code",
   "execution_count": 67,
   "metadata": {
    "collapsed": false
   },
   "outputs": [
    {
     "name": "stderr",
     "output_type": "stream",
     "text": [
      "C:\\Users\\hillb\\Anaconda3\\lib\\site-packages\\ipykernel\\__main__.py:81: FutureWarning: \n",
      "The default value for 'return_type' will change to 'axes' in a future release.\n",
      " To use the future behavior now, set return_type='axes'.\n",
      " To keep the previous behavior and silence this warning, set return_type='dict'.\n"
     ]
    },
    {
     "data": {
      "image/png": "[encoded data removed]",
      "text/plain": [
       "<matplotlib.figure.Figure at 0x264014ee358>"
      ]
     },
     "metadata": {},
     "output_type": "display_data"
    },
    {
     "data": {
      "image/png": "[encoded data removed]",
      "text/plain": [
       "<matplotlib.figure.Figure at 0x264036a4e80>"
      ]
     },
     "metadata": {},
     "output_type": "display_data"
    },
    {
     "data": {
      "image/png": "[encoded data removed]",
      "text/plain": [
       "<matplotlib.figure.Figure at 0x2640169a978>"
      ]
     },
     "metadata": {},
     "output_type": "display_data"
    }
   ],
   "source": [
    "\n",
    "\n",
    "##################################33\n",
    "##################################33\n",
    "#\n",
    "#  why histograms not showing\n",
    "#  maybe need plt on one plt2 ...\n",
    "#\n",
    "##################################33\n",
    "##################################33\n",
    "\n",
    "#grfEDAFamNum('n4grph')\n",
    "\n",
    "\n",
    "def grfEDAFamNum(carnum):\n",
    "    #1\n",
    "    df_2y3=df_2y\n",
    "    df_2y3[carnum] = df_2y3[carnum].astype('int')\n",
    "    \n",
    "    fig=plt.figure()\n",
    "    ax=fig.add_subplot(1,1,1)\n",
    "\n",
    "    ax.scatter(df_2y3[carnum],df_2y3['nwlkwk'])\n",
    "\n",
    "\n",
    "    ###################################\n",
    "\n",
    "    #2\n",
    "    df7=df_2y3.loc[:,[carnum,'nwlkwk']]\n",
    "\n",
    "    df7['UnempWks2'] = df7['nwlkwk'].astype('float')\n",
    "    df77=df7\n",
    "    df77[carnum]=df7[carnum].astype('float')\n",
    "    \n",
    "    #df7[carnum+4] = df7['wagesFamInc3'].astype('float')\n",
    "\n",
    "    df8 = df77[np.isfinite(df7['UnempWks2'])]\n",
    "    df8 = df77[np.isfinite(df7[carnum])]\n",
    "\n",
    "    \n",
    "    fig=plt.figure()\n",
    "    ax2=fig.add_subplot(1,1,1)\n",
    "\n",
    "\n",
    "    ax2.scatter(df8[carnum],df8['UnempWks2'])\n",
    "\n",
    "\n",
    "    ###################################\n",
    "\n",
    "    #3\n",
    "    fig=plt.figure()\n",
    "    ax3=fig.add_subplot(1,1,1)\n",
    "\n",
    "\n",
    "    ax3.scatter(df8[carnum],df8['UnempWks2'])\n",
    "\n",
    "\n",
    "    ###################################\n",
    "\n",
    "    #4\n",
    "    df8.boxplot(carnum)\n",
    "    ###################################\n",
    "\n",
    "    \n",
    "    #5\n",
    "    \n",
    "    \n",
    "    ##########################\n",
    "    # In functions?  Can you add a # to end of arg name.  concatenate strings?\n",
    "    #df_2y['wagesFamInc4'] = df_2y['wagesFamInc'].astype('int')\n",
    "    #\n",
    "    ###################################\n",
    "    LTUmp = df_2y3[df_2y3['Emp_Group2'] == 'LongTerm']\n",
    "    STUmp = df_2y3[df_2y3['Emp_Group2'] == 'ShortTerm']\n",
    "    Emped_g = df_2y3[df_2y3['Emp_Group2'] == 'Emped']\n",
    "\n",
    "\n",
    "    LTUmpx=LTUmp[carnum]\n",
    "    STUmpx=STUmp[carnum]\n",
    "    NotLTUmpx=Emped_g[carnum]\n",
    "\n",
    "    plt.hist([LTUmpx,STUmpx,NotLTUmpx], normed=True)\n",
    "    \n",
    "    plt.show()\n",
    "    ###########################33\n",
    "\n",
    "grfEDAFamNum('wagesFamInc4')"
   ]
  },
  {
   "cell_type": "code",
   "execution_count": null,
   "metadata": {
    "collapsed": true
   },
   "outputs": [],
   "source": []
  },
  {
   "cell_type": "code",
   "execution_count": null,
   "metadata": {
    "collapsed": true
   },
   "outputs": [],
   "source": []
  },
  {
   "cell_type": "code",
   "execution_count": 66,
   "metadata": {
    "collapsed": false
   },
   "outputs": [
    {
     "name": "stderr",
     "output_type": "stream",
     "text": [
      "C:\\Users\\hillb\\Anaconda3\\lib\\site-packages\\ipykernel\\__main__.py:81: FutureWarning: \n",
      "The default value for 'return_type' will change to 'axes' in a future release.\n",
      " To use the future behavior now, set return_type='axes'.\n",
      " To keep the previous behavior and silence this warning, set return_type='dict'.\n"
     ]
    },
    {
     "data": {
      "image/png": "[encoded data removed]",
      "text/plain": [
       "<matplotlib.figure.Figure at 0x2640390a208>"
      ]
     },
     "metadata": {},
     "output_type": "display_data"
    },
    {
     "data": {
      "image/png": "[encoded data removed]",
      "text/plain": [
       "<matplotlib.figure.Figure at 0x26414a0bef0>"
      ]
     },
     "metadata": {},
     "output_type": "display_data"
    },
    {
     "data": {
      "image/png": "[encoded data removed]",
      "text/plain": [
       "<matplotlib.figure.Figure at 0x26400e9e128>"
      ]
     },
     "metadata": {},
     "output_type": "display_data"
    },
    {
     "data": {
      "image/png": "[encoded data removed]",
      "text/plain": [
       "<matplotlib.figure.Figure at 0x26400dc5828>"
      ]
     },
     "metadata": {},
     "output_type": "display_data"
    },
    {
     "data": {
      "text/plain": [
       "\"\\n\\n\\ngrfEDAFamNum('NumPerFam')\\ngrfEDAFamNum('wagesFamInc')\\ngrfEDAFamNum('FoodStmpAmt')\\ngrfEDAFamNum('SchoolLunAmt')\\ngrfEDAFamNum('HealthPrem')\\ngrfEDAFamNum('HealthOutPock')\\ngrfEDAFamNum('NumWeeksJobLook')\\ngrfEDAFamNum('EarnLastJob')\\ngrfEDAFamNum('LowIncStatus')\\ngrfEDAFamNum('CovInsPriv8')\\n\""
      ]
     },
     "execution_count": 66,
     "metadata": {},
     "output_type": "execute_result"
    }
   ],
   "source": [
    "\n",
    "##################################33\n",
    "##################################33\n",
    "#\n",
    "#  why histograms not showing\n",
    "#  maybe need plt on one plt2 ...\n",
    "#\n",
    "##################################33\n",
    "##################################33\n",
    "\n",
    "\n",
    "def grfEDAFamNum(carnum):\n",
    "    #1\n",
    "    df_2y3=df_2y\n",
    "    df_2y3[carnum] = df_2y3[carnum].astype('int')\n",
    "    #df_2y[carnum+3] = df_2y[carnum]\n",
    "    \n",
    "    fig=plt.figure()\n",
    "    ax=fig.add_subplot(1,1,1)\n",
    "\n",
    "    ax.scatter(df_2y3[carnum],df_2y3['nwlkwk'])\n",
    "\n",
    "\n",
    "    ###################################\n",
    "\n",
    "    #2\n",
    "    df7=df_2y3.loc[:,[carnum,'nwlkwk']]\n",
    "\n",
    "    df7['UnempWks2'] = df7['nwlkwk'].astype('float')\n",
    "    df77=df7\n",
    "    df77[carnum]=df7[carnum].astype('float')\n",
    "    \n",
    "    #df7[carnum+4] = df7['wagesFamInc3'].astype('float')\n",
    "\n",
    "    df8 = df77[np.isfinite(df7['UnempWks2'])]\n",
    "    df8 = df77[np.isfinite(df7[carnum])]\n",
    "\n",
    "\n",
    "\n",
    "    \n",
    "    fig=plt.figure()\n",
    "    ax2=fig.add_subplot(1,1,1)\n",
    "\n",
    "\n",
    "    ax2.scatter(df8[carnum],df8['UnempWks2'])\n",
    "\n",
    "\n",
    "    ###################################\n",
    "\n",
    "    #3\n",
    "    fig=plt.figure()\n",
    "    ax3=fig.add_subplot(1,1,1)\n",
    "\n",
    "\n",
    "    ax3.scatter(df8[carnum],df8['UnempWks2'])\n",
    "\n",
    "\n",
    "    ###################################\n",
    "\n",
    "    #4\n",
    "    df8.boxplot(carnum)\n",
    "\n",
    "    ###################################\n",
    "\n",
    "\n",
    "    #5\n",
    "\n",
    "    #df_2y['wagesFamInc4'] = df_2y['wagesFamInc'].astype('int')\n",
    "\n",
    "    LTUmp = df_2y3[df_2y3['Emp_Group2'] == 'LongTerm']\n",
    "    STUmp = df_2y3[df_2y3['Emp_Group2'] == 'ShortTerm']\n",
    "    Emped_g = df_2y3[df_2y3['Emp_Group2'] == 'Emped']\n",
    "\n",
    "\n",
    "    LTUmpx=LTUmp[carnum]\n",
    "    STUmpx=STUmp[carnum]\n",
    "    NotLTUmpx=Emped_g[carnum]\n",
    "\n",
    "    plt.hist([LTUmpx,STUmpx,NotLTUmpx], normed=True)\n",
    "\n",
    "    plt.show()\n",
    "    ###########################33\n",
    "\n",
    "    #6\n",
    "    import seaborn as sns\n",
    "    sns.boxplot(x=df_2y3['Emp_Group2'], y=df_2y3[carnum])\n",
    "    sns.despine()\n",
    "    ##################################33\n",
    "\n",
    "    #7\n",
    "\n",
    "\n",
    "    LTUmp = df_2y[df_2y3['Emp_Group2'] == 'LongTerm']\n",
    "    STUmp = df_2y[df_2y3['Emp_Group2'] == 'ShortTerm']\n",
    "    Emped_g = df_2y[df_2y3['Emp_Group2'] == 'Emped']\n",
    "\n",
    "    LTUmpx=LTUmp[carnum]\n",
    "    STUmpx=STUmp[carnum]\n",
    "    NotLTUmpx=Emped_g[carnum]\n",
    "\n",
    "\n",
    "    plt.hist([LTUmpx,STUmpx,NotLTUmpx], normed=True)\n",
    "    plt.show()\n",
    "\n",
    "grfEDAFamNum('wagesFamInc4')\n",
    "\n",
    "'''\n",
    "\n",
    "\n",
    "grfEDAFamNum('NumPerFam')\n",
    "grfEDAFamNum('wagesFamInc')\n",
    "grfEDAFamNum('FoodStmpAmt')\n",
    "grfEDAFamNum('SchoolLunAmt')\n",
    "grfEDAFamNum('HealthPrem')\n",
    "grfEDAFamNum('HealthOutPock')\n",
    "grfEDAFamNum('NumWeeksJobLook')\n",
    "grfEDAFamNum('EarnLastJob')\n",
    "grfEDAFamNum('LowIncStatus')\n",
    "grfEDAFamNum('CovInsPriv8')\n",
    "'''"
   ]
  },
  {
   "cell_type": "code",
   "execution_count": null,
   "metadata": {
    "collapsed": true
   },
   "outputs": [],
   "source": [
    "grfEDAhausNum('Wages')\n",
    "grfEDAhausNum('Uiearn')\n",
    "grfEDAhausNum('WorkComp')\n",
    "grfEDAhausNum('ssSocSec')\n",
    "grfEDAhausNum('SuppInc')\n",
    "grfEDAhausNum('PubAsst')\n",
    "grfEDAhausNum('VetPay')\n",
    "grfEDAhausNum('survivorPay')\n",
    "grfEDAhausNum('diabPay')\n",
    "grfEDAhausNum('RetireInc')\n",
    "grfEDAhausNum('InterestInc')\n",
    "grfEDAhausNum('DivInc')\n",
    "grfEDAhausNum('EdInc')\n",
    "grfEDAhausNum('ChSupp')\n",
    "grfEDAhausNum('FinAssInc')\n",
    "grfEDAhausNum('OthInc')\n"
   ]
  },
  {
   "cell_type": "code",
   "execution_count": null,
   "metadata": {
    "collapsed": true
   },
   "outputs": [],
   "source": [
    "# still need to add:\n",
    "# breaking numeric into categories, then they can do the category graphs\n",
    "# Categories that are numbers, plug them into and macro.  they can me numeric too!\n",
    "# ASLO NEED TO DO, SUMMARY STATS?\n",
    "\n",
    "# UPLOAD CURRENT BOOKS TO GIT HUB\n",
    "# AS WELL AS OTHER WORK, XL SPREADSHEETS, CODEBOOK, ECT\n",
    "\n",
    "\n",
    "## still need to do all the compare years workbook!\n"
   ]
  }
 ],
 "metadata": {
  "kernelspec": {
   "display_name": "Python 3",
   "language": "python",
   "name": "python3"
  },
  "language_info": {
   "codemirror_mode": {
    "name": "ipython",
    "version": 3
   },
   "file_extension": ".py",
   "mimetype": "text/x-python",
   "name": "python",
   "nbconvert_exporter": "python",
   "pygments_lexer": "ipython3",
   "version": "3.5.1"
  }
 },
 "nbformat": 4,
 "nbformat_minor": 0
}
