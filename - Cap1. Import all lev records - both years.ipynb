{
 "cells": [
  {
   "cell_type": "code",
   "execution_count": 1,
   "metadata": {
    "collapsed": true
   },
   "outputs": [],
   "source": [
    "#- AA. draft import other lev records"
   ]
  },
  {
   "cell_type": "code",
   "execution_count": 2,
   "metadata": {
    "collapsed": true
   },
   "outputs": [],
   "source": [
    "import pandas as pd\n",
    "import numpy as np\n",
    "\n",
    "import matplotlib.pyplot as plt\n",
    "%matplotlib inline"
   ]
  },
  {
   "cell_type": "code",
   "execution_count": 5,
   "metadata": {
    "collapsed": true
   },
   "outputs": [],
   "source": [
    "# fam 2015 raw import"
   ]
  },
  {
   "cell_type": "code",
   "execution_count": 6,
   "metadata": {
    "collapsed": false
   },
   "outputs": [],
   "source": [
    "varnames=['typerecord', 'fh_seq', 'ffpos', 'fkind', 'ftype', 'fpersons', 'fheadidx', 'fwifeidx', 'fhusbidx', 'fspouidx', 'flastidx', 'fmlasidx', 'fownu6', 'filler1', 'fownu18', 'frelu6', 'frelu18', 'fpctcut', 'fpovcut', 'famlis', 'povll', 'frspov', 'frsppct', 'finc_ws', 'fwsval', 'finc_se', 'fseval', 'finc_fr', 'ffrval', 'finc_uc', 'fucval', 'finc_wc', 'fwcval', 'finc_ss', 'fssval', 'finc_ssi', 'fssival', 'finc_paw', 'fpawval', 'finc_vet', 'fvetval', 'finc_sur', 'fsurval', 'finc_dis', 'fdisval', 'finc_ret', 'fretval', 'finc_int', 'fintval', 'finc_div', 'fdivval', 'finc_rnt', 'frntval', 'finc_ed', 'fedval', 'finc_csp', 'fcspval', 'filler2', 'finc_fin', 'ffinval', 'finc_oi', 'foival', 'ftotval', 'fearnval', 'fothval', 'ftot_r', 'fspanish', 'filler3', 'fsup_wgt', 'ffposold', 'f_mv_fs', 'f_mv_sl', 'filler4', 'fhoussub', 'filler5', 'fhip_val', 'fmoop', 'fotc_val', 'fmed_val', 'i_fhipval', 'filler6']\n",
    "ColStEnd=[(0,1), (1,6), (6,8), (8,9), (9,10), (10,12), (12,14), (14,16), (16,18), (18,20), (20,22), (22,24), (24,25), (25,26), (26,27), (27,28), (28,29), (29,31), (31,36), (36,37), (37,39), (39,41), (41,46), (46,47), (47,54), (54,55), (55,62), (62,63), (63,70), (70,71), (71,78), (78,79), (79,86), (86,87), (87,94), (94,95), (95,101), (101,102), (102,108), (108,109), (109,116), (116,117), (117,124), (124,125), (125,132), (132,133), (133,140), (140,141), (141,148), (148,149), (149,156), (156,157), (157,164), (164,165), (165,172), (172,173), (173,180), (180,188), (188,189), (189,196), (196,197), (197,204), (204,212), (212,220), (220,228), (228,230), (230,231), (231,232), (232,240), (240,242), (242,247), (247,251), (251,260), (260,263), (263,271), (271,278), (278,285), (285,291), (291,298), (298,299), (299,1092)]\n",
    "Verts={'fh_seq':str,  'ffpos':str,  'fpersons':str,  'fheadidx':str,  'fwifeidx':str,  'fhusbidx':str,  'fspouidx':str,  'flastidx':str,  'fmlasidx':str,  'filler1':str,  'fpctcut':str,  'fpovcut':str,  'povll':str,  'frspov':str,  'frsppct':str,  'fwsval':str,  'fucval':str,  'fwcval':str,  'fssval':str,  'fssival':str,  'fpawval':str,  'fvetval':str,  'fsurval':str,  'fdisval':str,  'fretval':str,  'fintval':str,  'fdivval':str,  'fedval':str,  'fcspval':str,  'filler2':str,  'ffinval':str,  'foival':str,  'ftot_r':str,  'filler3':str,  'fsup_wgt':str,  'ffposold':str,  'filler4':str,  'filler5':str,  'filler6':str}\n",
    "#columns=(('frecord', (0, 1)),  ('fh_seq', (1, 6)),  ('ffpos', (6, 8)),  ('fkind', (8, 9)),  ('ftype', (9, 10)),  ('fpersons', (10, 12)),  ('fheadidx', (12, 14)),  ('fwifeidx', (14, 16)),  ('fhusbidx', (16, 18)),  ('fspouidx', (18, 20)),  ('flastidx', (20, 22)),  ('fmlasidx', (22, 24)),  ('fownu6', (24, 25)),  ('filler1', (25, 26)),  ('fownu18', (26, 27)),  ('frelu6', (27, 28)),  ('frelu18', (28, 29)),  ('fpctcut', (29, 31)),  ('fpovcut', (31, 36)),  ('famlis', (36, 37)),  ('povll', (37, 39)),  ('frspov', (39, 41)),  ('frsppct', (41, 46)),  ('finc_ws', (46, 47)),  ('fwsval', (47, 54)),  ('finc_se', (54, 55)),  ('fseval', (55, 62)),  ('finc_fr', (62, 63)),  ('ffrval', (63, 70)),  ('finc_uc', (70, 71)),  ('fucval', (71, 78)),  ('finc_wc', (78, 79)),  ('fwcval', (79, 86)),  ('finc_ss', (86, 87)),  ('fssval', (87, 94)),  ('finc_ssi', (94, 95)),  ('fssival', (95, 101)),  ('finc_paw', (101, 102)),  ('fpawval', (102, 108)),  ('finc_vet', (108, 109)),  ('fvetval', (109, 116)),  ('finc_sur', (116, 117)),  ('fsurval', (117, 124)),  ('finc_dis', (124, 125)),  ('fdisval', (125, 132)),  ('finc_ret', (132, 133)),  ('fretval', (133, 140)),  ('finc_int', (140, 141)),  ('fintval', (141, 148)),  ('finc_div', (148, 149)),  ('fdivval', (149, 156)),  ('finc_rnt', (156, 157)),  ('frntval', (157, 164)),  ('finc_ed', (164, 165)),  ('fedval', (165, 172)),  ('finc_csp', (172, 173)),  ('fcspval', (173, 180)),  ('filler2', (180, 188)),  ('finc_fin', (188, 189)),  ('ffinval', (189, 196)),  ('finc_oi', (196, 197)),  ('foival', (197, 204)),  ('ftotval', (204, 212)),  ('fearnval', (212, 220)),  ('fothval', (220, 228)),  ('ftot_r', (228, 230)),  ('fspanish', (230, 231)),  ('filler3', (231, 232)),  ('fsup_wgt', (232, 240)),  ('ffposold', (240, 242)),  ('f_mv_fs', (242, 247)),  ('f_mv_sl', (247, 251)),  ('filler4', (251, 260)),  ('fhoussub', (260, 263)),  ('filler5', (263, 271)),  ('fhip_val', (271, 278)),  ('fmoop', (278, 285)),  ('fotc_val', (285, 291)),  ('fmed_val', (291, 298)),  ('i_fhipval', (298, 299)),  ('filler6', (299, 1092)))\n",
    "\n",
    "df=pd.read_fwf('asec2015_pubuse.dat', colspecs=ColStEnd, header=None, names=varnames, converters=Verts) #widths=lengths,  colspecs=ColStEnd      nrows=20       \n",
    "\n",
    "df['surv_year'] = '2015'\n",
    "\n",
    "# Vars for merging later\n",
    "df['familyID']=df['fh_seq']+df['ffpos']\n",
    "df['fam2hhLink']=df['fh_seq']+df['ffpos']\n",
    "df['fam2persLink']=df['fh_seq']+df['ffposold']\n",
    "\n",
    "df_fam15 = df[df['typerecord'] == 2]\n"
   ]
  },
  {
   "cell_type": "code",
   "execution_count": 7,
   "metadata": {
    "collapsed": true
   },
   "outputs": [],
   "source": []
  },
  {
   "cell_type": "code",
   "execution_count": 8,
   "metadata": {
    "collapsed": false
   },
   "outputs": [],
   "source": [
    "# family 2009\n",
    "\n",
    "\n",
    "###########################\n",
    "#  2009 using dashes '-'\n",
    "#  2015 using underscores '_'\n",
    "####################################\n",
    "\n",
    "\n",
    "varnames=['typerecord', 'fh_seq', 'ffpos', 'fkind', 'ftype', 'fpersons', 'fheadidx', 'fwifeidx', 'fhusbidx', 'fspouidx', 'flastidx', 'fmlasidx', 'fownu6', 'filler1', 'fownu18', 'frelu6', 'frelu18', 'fpctcut', 'fpovcut', 'famlis', 'povll', 'frspov', 'frsppct', 'finc_ws', 'fwsval', 'finc_se', 'fseval', 'finc_fr', 'ffrval', 'finc_uc', 'fucval', 'finc_wc', 'fwcval', 'finc_ss', 'fssval', 'finc_ssi', 'fssival', 'finc_paw', 'fpawval', 'finc_vet', 'fvetval', 'finc_sur', 'fsurval', 'finc_dis', 'fdisval', 'finc_ret', 'fretval', 'finc_int', 'fintval', 'finc_div', 'fdivval', 'finc_rnt', 'frntval', 'finc_ed', 'fedval', 'finc_csp', 'fcspval', 'finc_alm', 'falmval', 'finc_fin', 'ffinval', 'finc_oi', 'foival', 'ftotval', 'fearnval', 'fothval', 'ftot_r', 'fspanish', 'filler2', 'fsup_wgt', 'ffposold', 'f_mv_fs', 'f_mv_sl', 'ffngcare', 'ffngcaid', 'fhoussub', 'ffoodreq', 'fhousreq', 'filler3']\n",
    "#lengths=[1, 5, 2, 1, 1, 2, 2, 2, 2, 2, 2, 2, 1, 1, 1, 1, 1, 2, 5, 1, 2, 2, 5, 1, 7, 1, 7, 1, 7, 1, 7, 1, 7, 1, 7, 1, 6, 1, 6, 1, 7, 1, 7, 1, 7, 1, 7, 1, 7, 1, 7, 1, 7, 1, 7, 1, 7, 1, 7, 1, 7, 1, 7, 8, 8, 8, 2, 1, 1, 8, 2, 4, 4, 5, 5, 3, 4, 4, 725]\n",
    "ColStEnd=[(0,1), (1,6), (6,8), (8,9), (9,10), (10,12), (12,14), (14,16), (16,18), (18,20), (20,22), (22,24), (24,25), (25,26), (26,27), (27,28), (28,29), (29,31), (31,36), (36,37), (37,39), (39,41), (41,46), (46,47), (47,54), (54,55), (55,62), (62,63), (63,70), (70,71), (71,78), (78,79), (79,86), (86,87), (87,94), (94,95), (95,101), (101,102), (102,108), (108,109), (109,116), (116,117), (117,124), (124,125), (125,132), (132,133), (133,140), (140,141), (141,148), (148,149), (149,156), (156,157), (157,164), (164,165), (165,172), (172,173), (173,180), (180,181), (181,188), (188,189), (189,196), (196,197), (197,204), (204,212), (212,220), (220,228), (228,230), (230,231), (231,232), (232,240), (240,242), (242,246), (246,250), (250,255), (255,260), (260,263), (263,267), (267,271), (271,996)]\n",
    "# string when no value range is stated\n",
    "#Verts={'fh_seq':str,  'ffpos':str,  'fpersons':str,  'fheadidx':str,  'fwifeidx':str,  'fhusbidx':str,  'fspouidx':str,  'flastidx':str,  'fmlasidx':str,  'fpctcut':str,  'fpovcut':str,  'povll':str,  'frspov':str,  'frsppct':str,  'fwsval':str,  'fucval':str,  'fwcval':str,  'fssval':str,  'fssival':str,  'fpawval':str,  'fvetval':str,  'fsurval':str,  'fdisval':str,  'fretval':str,  'fintval':str,  'fdivval':str,  'fedval':str,  'fcspval':str,  'falmval':str,  'ffinval':str,  'foival':str,  'ftot_r':str,  'fsup_wgt':str}\n",
    "Verts={'fh_seq':str,  'ffpos':str,  'fpersons':str,  'fheadidx':str,  'fwifeidx':str,  'fhusbidx':str,  'fspouidx':str,  'flastidx':str,  'fmlasidx':str,  'filler1':str,  'fpctcut':str,  'fpovcut':str,  'povll':str,  'frspov':str,  'frsppct':str,  'fwsval':str,  'fucval':str,  'fwcval':str,  'fssval':str,  'fssival':str,  'fpawval':str,  'fvetval':str,  'fsurval':str,  'fdisval':str,  'fretval':str,  'fintval':str,  'fdivval':str,  'fedval':str,  'fcspval':str,  'falmval':str,  'ffinval':str,  'foival':str,  'ftot_r':str,  'filler2':str,  'fsup_wgt':str,  'ffposold':str,  'filler3':str}\n",
    "\n",
    "df=pd.read_fwf('asec2009_pubuse.dat',  colspecs=ColStEnd, header=None, names=varnames, converters=Verts) #widths=lengths,  colspecs=ColStEnd      nrows=20\n",
    "\n",
    "\n",
    "\n",
    "\n",
    "# ID and merge vars\n",
    "df['familyID']=df['fh_seq']+df['ffpos']\n",
    "df['fam2hhLink']=df['fh_seq']+df['ffpos']\n",
    "df['fam2persLink']=df['fh_seq']+df['ffposold']\n",
    "\n",
    "\n",
    "df_fam09 = df[df['typerecord'] == 2]\n",
    "\n"
   ]
  },
  {
   "cell_type": "code",
   "execution_count": null,
   "metadata": {
    "collapsed": true
   },
   "outputs": [],
   "source": []
  },
  {
   "cell_type": "code",
   "execution_count": 9,
   "metadata": {
    "collapsed": true
   },
   "outputs": [],
   "source": [
    "# Household 2015\n"
   ]
  },
  {
   "cell_type": "code",
   "execution_count": 9,
   "metadata": {
    "collapsed": false
   },
   "outputs": [],
   "source": [
    "varnames=['typerecord', 'h_seq', 'hhpos', 'hunits', 'hefaminc', 'h_respnm', 'h_year', 'filler1', 'h_hhtype', 'h_numper', 'hnumfam', 'h_type', 'h_month', 'filler2', 'h_mis', 'h_hhnum', 'h_livqrt', 'h_typebc', 'h_tenure', 'h_telhhd', 'h_telavl', 'h_telint', 'gereg', 'filler3', 'gestfips', 'gtcbsa', 'gtco', 'gtcbsast', 'gtmetsta', 'gtindvpc', 'gtcbsasz', 'gtcsa', 'filler4', 'hunder15', 'filler5', 'hh5to18', 'hhotlun', 'hhotno', 'hflunch', 'hflunno', 'hpublic', 'hlorent', 'hfoodsp', 'hfoodno', 'filler6', 'hfoodmo', 'filler7', 'hengast', 'hengval', 'hinc_ws', 'hwsval', 'hinc_se', 'hseval', 'hinc_fr', 'hfrval', 'hinc_uc', 'hucval', 'hinc_wc', 'hwcval', 'hss_yn', 'hssval', 'hssi_yn', 'hssival', 'hpaw_yn', 'hpawval', 'hvet_yn', 'hvetval', 'hsur_yn', 'hsurval', 'hdis_yn', 'hdisval', 'hret_yn', 'hretval', 'hint_yn', 'hintval', 'hdiv_yn', 'hdivval', 'hrnt_yn', 'hrntval', 'hed_yn', 'hedval', 'hcsp_yn', 'hcspval', 'filler8', 'hfin_yn', 'hfinval', 'hoi_yn', 'hoival', 'htotval', 'hearnval', 'hothval', 'hhinc', 'hmcare', 'hmcaid', 'hchamp', 'hhi_yn', 'hhstatus', 'hunder18', 'htop5pct', 'hpctcut', 'filler9', 'hsup_wgt', 'h1tenure', 'filler10', 'h1livqrt', 'filler11', 'h1telhhd', 'h1telavl', 'h1telint', 'filler12', 'i_hhotlu', 'i_hhotno', 'i_hflunc', 'i_hflunn', 'i_hpubli', 'i_hloren', 'i_hfoods', 'i_hfdval', 'i_hfoodn', 'i_hfoodm', 'i_hengas', 'i_hengva', 'h_idnum2', 'filler13', 'prop_tax', 'housret', 'hrhtype', 'h_idnum1', 'i_hunits', 'filler14', 'filler15', 'filler16', 'filler17', 'filler18', 'hrpaidcc', 'hprop_val', 'thprop_val', 'i_propval', 'filler19', 'hrnumwic', 'filler20', 'hrwicyn', 'hfdval', 'tcare_val', 'care_val', 'i_careval', 'hpres_mort', 'filler21']\n",
    "ColStEnd=[(0,1), (1,6), (6,8), (8,9), (9,11), (11,13), (13,17), (17,19), (19,20), (20,22), (22,24), (24,25), (25,27), (27,28), (28,29), (29,30), (30,32), (32,34), (34,35), (35,36), (36,37), (37,38), (38,39), (39,41), (41,43), (43,48), (48,51), (51,52), (52,53), (53,54), (54,55), (55,58), (58,59), (59,61), (61,67), (67,69), (69,70), (70,71), (71,72), (72,73), (73,74), (74,75), (75,76), (76,77), (77,78), (78,80), (80,84), (84,85), (85,89), (89,90), (90,97), (97,98), (98,105), (105,106), (106,113), (113,114), (114,121), (121,122), (122,129), (129,130), (130,137), (137,138), (138,144), (144,145), (145,151), (151,152), (152,159), (159,160), (160,167), (167,168), (168,175), (175,176), (176,183), (183,184), (184,191), (191,192), (192,199), (199,200), (200,207), (207,208), (208,215), (215,216), (216,223), (223,231), (231,232), (232,239), (239,240), (240,247), (247,255), (255,263), (263,271), (271,273), (273,274), (274,275), (275,276), (276,277), (277,278), (278,280), (280,281), (281,283), (283,286), (286,294), (294,295), (295,296), (296,297), (297,298), (298,299), (299,300), (300,301), (301,307), (307,308), (308,309), (309,310), (310,311), (311,312), (312,313), (313,314), (314,315), (315,316), (316,317), (317,318), (318,319), (319,324), (324,331), (331,336), (336,341), (341,343), (343,358), (358,359), (359,360), (360,361), (361,363), (363,364), (364,366), (366,367), (367,375), (375,376), (376,377), (377,382), (382,384), (384,385), (385,386), (386,391), (391,392), (392,398), (398,399), (399,400), (400,1092)]\n",
    "Verts={'h_seq':str,  'hhpos':str,  'filler1':str,  'h_numper':str,  'hnumfam':str,  'h_month':str,  'filler2':str,  'h_livqrt':str,  'h_typebc':str,  'filler3':str,  'gestfips':str,  'gtcbsa':str,  'gtco':str,  'gtcbsasz':str,  'gtcsa':str,  'filler4':str,  'hunder15':str,  'filler5':str,  'hh5to18':str,  'filler6':str,  'hfoodmo':str,  'filler7':str,  'hengval':str,  'hwsval':str,  'hucval':str,  'hwcval':str,  'hssval':str,  'hssival':str,  'hpawval':str,  'hvetval':str,  'hsurval':str,  'hdisval':str,  'hretval':str,  'hintval':str,  'hdivval':str,  'hedval':str,  'hcspval':str,  'filler8':str,  'hfinval':str,  'hoival':str,  'hhinc':str,  'hunder18':str,  'hpctcut':str,  'filler9':str,  'hsup_wgt':str,  'filler10':str,  'filler11':str,  'h_idnum2':str,  'filler13':str,  'prop_tax':str,  'hrhtype':str,  'h_idnum1':str,  'filler14':str,  'filler19':str,  'hfdval':str,  'filler21':str}\n",
    "\n",
    "df=pd.read_fwf('asec2015_pubuse.dat', colspecs=ColStEnd, header=None, names=varnames, converters=Verts) \n",
    "\n",
    "df['fam2hhLink']=df['h_seq']+df['hhpos']\n",
    "df['hh2persLink']=df['h_idnum1']+df['h_idnum2']\n",
    "\n",
    "df['surv_year'] = '2015'\n",
    "\n",
    "df_haus15 = df[df['typerecord'] == 1]"
   ]
  },
  {
   "cell_type": "code",
   "execution_count": null,
   "metadata": {
    "collapsed": true
   },
   "outputs": [],
   "source": [
    "#Haus 2009"
   ]
  },
  {
   "cell_type": "code",
   "execution_count": 10,
   "metadata": {
    "collapsed": false
   },
   "outputs": [],
   "source": [
    "\n",
    "varnames=['typerecord', 'h_seq', 'hhpos', 'hunits', 'hefaminc', 'h_respnm', 'h_year', 'filler1', 'h_hhtype', 'h_numper', 'hnumfam', 'h_type', 'h_month', 'filler2', 'h_mis', 'h_hhnum', 'h_livqrt', 'h_typebc', 'h_tenure', 'h_telhhd', 'h_telavl', 'h_telint', 'gereg', 'filler3', 'gestfips', 'gtcbsa', 'gtco', 'gtcbsast', 'gtmetsta', 'gtindvpc', 'gtcbsasz', 'gtcsa', 'filler4', 'hunder15', 'filler5', 'hh5to18', 'hhotlun', 'hhotno', 'hflunch', 'hflunno', 'hpublic', 'hlorent', 'hfoodsp', 'hfoodno', 'filler6', 'hfoodmo', 'filler7', 'hengast', 'hengval', 'hinc_ws', 'hwsval', 'hinc_se', 'hseval', 'hinc_fr', 'hfrval', 'hinc_uc', 'hucval', 'hinc_wc', 'hwcval', 'hss_yn', 'hssval', 'hssi_yn', 'hssival', 'hpaw_yn', 'hpawval', 'hvet_yn', 'hvetval', 'hsur_yn', 'hsurval', 'hdis_yn', 'hdisval', 'hret_yn', 'hretval', 'hint_yn', 'hintval', 'hdiv_yn', 'hdivval', 'hrnt_yn', 'hrntval', 'hed_yn', 'hedval', 'hcsp_yn', 'hcspval', 'filler8', 'hfin_yn', 'hfinval', 'hoi_yn', 'hoival', 'htotval', 'hearnval', 'hothval', 'hhinc', 'hmcare', 'hmcaid', 'hchamp', 'hhi_yn', 'hhstatus', 'hunder18', 'htop5pct', 'hpctcut', 'filler9', 'hsup_wgt', 'h1tenure', 'filler10', 'h1livqrt', 'filler11', 'h1telhhd', 'h1telavl', 'h1telint', 'filler12', 'i_hhotlu', 'i_hhotno', 'i_hflunc', 'i_hflunn', 'i_hpubli', 'i_hloren', 'i_hfoods', 'i_hfdval', 'i_hfoodn', 'i_hfoodm', 'i_hengas', 'i_hengva', 'h_idnum2', 'filler13', 'prop_tax', 'housret', 'hrhtype', 'h_idnum1', 'i_hunits', 'filler14', 'filler15', 'filler16', 'filler17', 'filler18', 'hrpaidcc', 'hprop_val', 'thprop_val', 'i_propval', 'filler19', 'hrnumwic', 'filler20', 'hrwicyn', 'hfdval', 'tcare_val', 'care_val', 'i_careval', 'hpres_mort', 'filler21']\n",
    "ColStEnd=[(0,1), (1,6), (6,8), (8,9), (9,11), (11,13), (13,17), (17,19), (19,20), (20,22), (22,24), (24,25), (25,27), (27,28), (28,29), (29,30), (30,32), (32,34), (34,35), (35,36), (36,37), (37,38), (38,39), (39,41), (41,43), (43,48), (48,51), (51,52), (52,53), (53,54), (54,55), (55,58), (58,59), (59,61), (61,67), (67,69), (69,70), (70,71), (71,72), (72,73), (73,74), (74,75), (75,76), (76,77), (77,78), (78,80), (80,84), (84,85), (85,89), (89,90), (90,97), (97,98), (98,105), (105,106), (106,113), (113,114), (114,121), (121,122), (122,129), (129,130), (130,137), (137,138), (138,144), (144,145), (145,151), (151,152), (152,159), (159,160), (160,167), (167,168), (168,175), (175,176), (176,183), (183,184), (184,191), (191,192), (192,199), (199,200), (200,207), (207,208), (208,215), (215,216), (216,223), (223,231), (231,232), (232,239), (239,240), (240,247), (247,255), (255,263), (263,271), (271,273), (273,274), (274,275), (275,276), (276,277), (277,278), (278,280), (280,281), (281,283), (283,286), (286,294), (294,295), (295,296), (296,297), (297,298), (298,299), (299,300), (300,301), (301,307), (307,308), (308,309), (309,310), (310,311), (311,312), (312,313), (313,314), (314,315), (315,316), (316,317), (317,318), (318,319), (319,324), (324,331), (331,336), (336,341), (341,343), (343,358), (358,359), (359,360), (360,361), (361,363), (363,364), (364,366), (366,367), (367,375), (375,376), (376,377), (377,382), (382,384), (384,385), (385,386), (386,391), (391,392), (392,398), (398,399), (399,400), (400,1092)]\n",
    "Verts={'h_seq':str,  'hhpos':str,  'filler1':str,  'h_numper':str,  'hnumfam':str,  'h_month':str,  'filler2':str,  'h_livqrt':str,  'h_typebc':str,  'gestfips':str,  'gtcbsa':str,  'gtco':str,  'gtcbsasz':str,  'gtcsa':str,  'filler3':str,  'hunder15':str,  'filler4':str,  'hh5to18':str,  'filler5':str,  'hfoodmo':str,  'filler6':str,  'hengval':str,  'hwsval':str,  'hucval':str,  'hwcval':str,  'hssval':str,  'hssival':str,  'hpawval':str,  'hvetval':str,  'hsurval':str,  'hdisval':str,  'hretval':str,  'hintval':str,  'hdivval':str,  'hedval':str,  'hcspval':str,  'halmval':str,  'hfinval':str,  'hoival':str,  'hhinc':str,  'hunder18':str,  'hpctcut':str,  'filler7':str,  'hsup_wgt':str,  'filler8':str,  'filler9':str,  'h_idnum2':str,  'filler11':str,  'prop_tax':str,  'hrhtype':str,  'h_idnum1':str,  'filler12':str,  'filler13':str,  'hfdval':str,  'filler14':str}\n",
    "\n",
    "df=pd.read_fwf('asec2009_pubuse.dat', colspecs=ColStEnd, header=None, names=varnames, converters=Verts) #widths=lengths,  colspecs=ColStEnd      nrows=20       \n",
    "\n",
    "df['householdID']=df['h_idnum1']+df['h_idnum2']\n",
    "df['fam2hhLink']=df['h_seq']+df['hhpos']\n",
    "df['hh2persLink']=df['h_idnum1']+df['h_idnum2']\n",
    "\n",
    "df['surv_year'] = '2009'\n",
    "\n",
    "df_haus09 = df[df['typerecord'] == 1]\n"
   ]
  },
  {
   "cell_type": "code",
   "execution_count": null,
   "metadata": {
    "collapsed": true
   },
   "outputs": [],
   "source": []
  },
  {
   "cell_type": "code",
   "execution_count": 3,
   "metadata": {
    "collapsed": false
   },
   "outputs": [],
   "source": [
    "#######################################\n",
    "#\n",
    "#  Import 2009 data (Personal Records)\n",
    "#######################################\n",
    "\n",
    "\n",
    "varnames=['typerecord', 'ph_seq', 'pppos', 'a_lineno', 'a_parent', 'a_exprrp', 'a_age', 'a_maritl', 'a_spouse', 'a_sex', 'filler1', 'a_hga', 'prdtrace', 'p_stat', 'pehspnon', 'prdthsp', 'a_famnum', 'a_famtyp', 'a_famrel', 'a_pfrel', 'hhdrel', 'famrel', 'hhdfmx', 'parent', 'age1', 'filler2', 'phf_seq', 'pf_seq', 'filler3', 'a_fnlwgt', 'a_ernlwt', 'marsupwt', 'filler4', 'a_hrs1', 'filler5', 'a_uslft', 'filler6', 'a_whyabs', 'a_payabs', 'peioind', 'peioocc', 'filler7', 'a_wkslk', 'filler8', 'a_whenlj', 'filler9', 'a_clswkr', 'ppposold', 'a_nlflj', 'filler10', 'a_wantjb', 'filler11', 'peafever', 'peafwhn1', 'peafwhn2', 'peafwhn3', 'peafwhn4', 'a_uslhrs', 'a_hrlywk', 'a_hrspay', 'a_grswk', 'a_unmem', 'a_uncov', 'filler12', 'a_enrlw', 'a_hscol', 'a_ftpt', 'a_lfsr', 'a_untype', 'filler13', 'a_wkstat', 'a_explf', 'a_wksch', 'a_civlf', 'a_ftlf', 'filler14', 'a_mjind', 'a_dtind', 'mjocc', 'a_dtocc', 'prerelg', 'filler15', 'workyn', 'wtemp', 'nwlook', 'nwlkwk', 'rsnnotw', 'wkswork', 'wkcheck', 'losewks', 'lknone', 'lkweeks', 'lkstrch', 'pyrsn', 'phmemprs', 'hrswk', 'hrcheck', 'ptyn', 'ptweeks', 'ptrsn', 'filler16', 'ljcw', 'filler17', 'wexp', 'wewkrs', 'welknw', 'weuemp', 'earner', 'clwk', 'weclw', 'poccu2', 'wemocg', 'weind', 'wemind', 'filler18', 'mig_cbst', 'migsame', 'mig_reg', 'mig_st', 'mig_dscp', 'gediv', 'mig_div', 'mig_mtr1', 'mig_mtr3', 'mig_mtr4', 'noemp', 'ern_yn', 'ern_val', 'ern_srce', 'ern_otr', 'wageotr', 'prswkxpns', 'filler19', 'wsal_yn', 'wsal_val', 'seotr', 'filler20', 'semp_yn', 'semp_val', 'frmotr', 'filler21', 'frse_yn', 'frse_val', 'uc_yn', 'subuc', 'strkuc', 'uc_val', 'wc_yn', 'wc_type', 'wc_val', 'ss_yn', 'ss_val', 'ssi_yn', 'filler22', 'paw_yn', 'paw_typ', 'paw_mon', 'paw_val', 'vet_yn', 'vet_typ1', 'vet_typ2', 'vet_typ3', 'vet_typ4', 'vet_typ5', 'vet_qva', 'vet_val', 'sur_yn', 'sur_sc1', 'sur_sc2', 'sur_val1', 'sur_val2', 'srvs_val', 'dis_hp', 'dis_cs', 'dis_yn', 'dis_sc1', 'dis_sc2', 'dis_val1', 'dis_val2', 'dsab_val', 'ret_yn', 'ret_sc1', 'ret_sc2', 'ret_val1', 'ret_val2', 'rtm_val', 'int_yn', 'int_val', 'div_yn', 'div_non', 'div_val', 'rnt_yn', 'rnt_val', 'ed_yn', 'oed_typ1', 'oed_typ2', 'oed_typ3', 'ed_val', 'filler23', 'csp_yn', 'csp_val', 'alm_yn', 'alm_val', 'fin_yn', 'fin_val', 'oi_off', 'oi_yn', 'oi_val', 'ptotval', 'pearnval', 'filler24', 'pothval', 'fl_665', 'ptot_r', 'perlis', 'mcare', 'mcaid', 'champ', 'hi_yn', 'hiown', 'hiemp', 'hipaid', 'filler25', 'wrk_ck', 'penplan', 'penincl', 'cov_gh', 'cov_hi', 'ch_mc', 'ch_hi', 'filler26', 'a1rrp', 'filler27', 'a1age', 'a1maritl', 'a1spouse', 'a1sex', 'filler28', 'a1hga', 'filler29', 'filler30', 'filler31', 'a1lfsr', 'filler32', 'a1hrs', 'filler33', 'pxafever', 'pxafwhn1', 'a1whyabs', 'a1payabs', 'filler34', 'a1clswkr', 'filler35', 'a1nlflj', 'filler36', 'a1uslhrs', 'a1hrlywk', 'prwernal', 'prhernal', 'a1unmem', 'a1uncov', 'filler37', 'a1enrlw', 'a1hscol', 'a1ftpt', 'i_ernyn', 'i_ernval', 'i_wsyn', 'i_wsval', 'i_seyn', 'i_seval', 'i_frmyn', 'i_frmval', 'i_ucyn', 'i_ucval', 'i_wcyn', 'i_wctyp', 'i_wcval', 'i_ssyn', 'i_ssval', 'i_ssiyn', 'i_ssival', 'i_pawyn', 'i_pawtyp', 'i_pawval', 'i_pawmo', 'i_vetyn', 'i_vettyp', 'i_vetval', 'i_vetqva', 'i_suryn', 'filler38', 'i_sursc1', 'i_sursc2', 'i_survl1', 'i_survl2', 'i_dissc1', 'i_dissc2', 'i_dishp', 'i_discs', 'i_disyn', 'toi_val', 'i_disvl1', 'i_disvl2', 'i_retyn', 'i_retsc1', 'i_retsc2', 'i_retvl1', 'i_retvl2', 'i_intyn', 'i_intval', 'i_divyn', 'i_divval', 'i_rntyn', 'i_rntval', 'i_edyn', 'i_edtyp1', 'i_edtyp2', 'i_oedval', 'i_cspyn', 'i_cspval', 'i_almyn', 'i_almval', 'i_finyn', 'i_finval', 'i_oival', 'i_nwlook', 'i_nwlkwk', 'i_rsnnot', 'i_losewk', 'i_lkweek', 'i_lkstr', 'i_pyrsn', 'i_phmemp', 'i_hrswk', 'i_hrchk', 'i_ptyn', 'i_ptwks', 'i_ptrsn', 'i_ljcw', 'i_indus', 'i_occup', 'i_workyn', 'i_wtemp', 'i_wkswk', 'i_wkchk', 'i_ernsrc', 'i_noemp', 'filler39', 'i_mig2', 'i_penpla', 'i_peninc', 'i_mig1', 'filler40', 'tcernval', 'tcwsval', 'tcseval', 'tcffmval', 'a_werntf', 'a_herntf', 'p_mvcare', 'p_mvcaid', 'emcontrb', 'filestat', 'dep_stat', 'ctc_crd', 'filler41', 'eit_cred', 'actc_crd', 'filler42', 'fica', 'fed_ret', 'agi', 'cap_gain', 'cap_loss', 'tax_inc', 'marg_tax', 'pemlr', 'pruntype', 'prwkstat', 'prptrea', 'prdisc', 'prcow1', 'prpertyp', 'peabsrsn', 'peio1cow', 'prnlfsch', 'pehruslt', 'penatvty', 'pemntvty', 'pefntvty', 'peinusyr', 'prcitshp', 'pxnatvty', 'pxmntvty', 'pxfntvty', 'pxinusyr', 'perrp', 'filler43', 'i_mig3', 'hi', 'hityp', 'dephi', 'hilin1', 'hilin2', 'paid', 'hiout', 'priv', 'prityp', 'depriv', 'pilin1', 'pilin2', 'pout', 'out', 'care', 'caid', 'mon', 'oth', 'otyp_1', 'otyp_2', 'otyp_3', 'otyp_4', 'otyp_5', 'othstper', 'othstyp1', 'othstyp2', 'othstyp3', 'othstyp4', 'othstyp5', 'othstyp6', 'filler44', 'stimulus', 'hea', 'i_hi', 'i_dephi', 'i_paid', 'i_hiout', 'i_priv', 'i_depriv', 'i_pout', 'i_out', 'i_care', 'i_caid', 'i_mon', 'i_oth', 'i_otyp', 'i_ostper', 'i_ostyp', 'filler45', 'i_hea', 'ssi_val', 'ws_val', 'se_val', 'ihsflg', 'tsurval1', 'tsurval2', 'tdisval1', 'tdisval2', 'tretval1', 'tretval2', 'tint_val', 'tdiv_val', 'trnt_val', 'ted_val', 'tcsp_val', 'talm_val', 'tfin_val', 'nxtres', 'i_nxtres', 'frm_val', 'tranyn', 'tranyna', 'ccayn', 'ccayna', 'paidccyn', 'paidcyna', 'ahiper', 'iahiper', 'ahityp1', 'ahityp2', 'ahityp3', 'ahityp4', 'ahityp5', 'ahityp6', 'iahityp', 'pchip', 'i_pchip', 'resnss1', 'resnss2', 'resnssa', 'resnssi1', 'resnssi2', 'resnssia', 'ssikidyn', 'ssikdyna', 'sskidyn', 'sskidyna', 'jcyn', 'jcyna', 'jryn', 'jryna', 'jtyn', 'jtyna', 'schoolyn', 'scholyna', 'wicyn', 'wicyna', 'comsrvyn', 'cmsrvyna', 'industry', 'occup', 'peridnum', 'fedtax_bc', 'fedtax_ac', 'statetax_bc', 'statetax_ac', 'pecohab', 'pelnmom', 'pelndad', 'pemomtyp', 'pedadtyp', 'pxcohab', 'pxlnmom', 'pxlndad', 'pxmomtyp', 'pxdadtyp', 'pedisear', 'pediseye', 'pedisrem', 'pedisphy', 'pedisdrs', 'pedisout', 'prdisflg', 'pxdisear', 'pxdiseye', 'pxdisrem', 'pxdisphy', 'pxdisdrs', 'pxdisout']\n",
    "ColStEnd=[(0,1), (1,6), (6,8), (8,10), (10,12), (12,14), (14,16), (16,17), (17,19), (19,20), (20,21), (21,23), (23,25), (25,26), (26,27), (27,28), (28,30), (30,31), (31,32), (32,33), (33,34), (34,36), (36,38), (38,39), (39,41), (41,43), (43,45), (45,47), (47,49), (49,57), (57,65), (65,73), (73,75), (75,77), (77,78), (78,79), (79,84), (84,85), (85,86), (86,90), (90,94), (94,95), (95,98), (98,11), (101,102), (102,108), (108,109), (109,111), (111,112), (112,113), (113,114), (114,117), (117,119), (119,121), (121,123), (123,125), (125,127), (127,129), (129,130), (130,134), (134,138), (138,139), (139,140), (140,141), (141,142), (142,143), (143,144), (144,145), (145,146), (146,148), (148,149), (149,150), (150,151), (151,152), (152,153), (153,154), (154,156), (156,158), (158,160), (160,162), (162,163), (163,164), (164,165), (165,166), (166,167), (167,169), (169,170), (170,172), (172,173), (173,174), (174,175), (175,177), (177,178), (178,179), (179,180), (180,182), (182,183), (183,184), (184,186), (186,187), (187,188), (188,189), (189,195), (195,197), (197,198), (198,199), (199,200), (200,201), (201,202), (202,203), (203,205), (205,207), (207,209), (209,211), (211,212), (212,213), (213,214), (214,215), (215,217), (217,218), (218,219), (219,221), (221,223), (223,224), (224,225), (225,226), (226,227), (227,233), (233,234), (234,235), (235,236), (236,240), (240,241), (241,242), (242,248), (248,249), (249,254), (254,255), (255,261), (261,262), (262,267), (267,268), (268,274), (274,275), (275,276), (276,277), (277,282), (282,283), (283,284), (284,289), (289,290), (290,295), (295,296), (296,300), (300,301), (301,302), (302,304), (304,309), (309,310), (310,311), (311,312), (312,313), (313,314), (314,315), (315,316), (316,321), (321,322), (322,324), (324,326), (326,331), (331,336), (336,342), (342,343), (343,344), (344,345), (345,347), (347,349), (349,354), (354,359), (359,365), (365,366), (366,367), (367,368), (368,373), (373,378), (378,384), (384,385), (385,390), (390,391), (391,392), (392,397), (397,398), (398,403), (403,404), (404,405), (405,406), (406,407), (407,412), (412,413), (413,414), (414,419), (419,420), (420,425), (425,426), (426,431), (431,433), (433,434), (434,439), (439,447), (447,455), (455,456), (456,464), (464,465), (465,467), (467,468), (468,469), (469,470), (470,471), (471,472), (472,473), (473,474), (474,475), (475,480), (480,481), (481,482), (482,483), (483,484), (484,485), (485,486), (486,487), (487,488), (488,489), (489,490), (490,491), (491,492), (492,493), (493,494), (494,495), (495,496), (496,497), (497,498), (498,499), (499,500), (500,502), (502,503), (503,505), (505,507), (507,509), (509,510), (510,511), (511,522), (522,523), (523,525), (525,526), (526,531), (531,532), (532,533), (533,534), (534,535), (535,536), (536,537), (537,538), (538,539), (539,540), (540,541), (541,542), (542,543), (543,544), (544,545), (545,546), (546,547), (547,548), (548,549), (549,550), (550,551), (551,552), (552,553), (553,554), (554,555), (555,556), (556,557), (557,558), (558,559), (559,560), (560,561), (561,562), (562,563), (563,564), (564,565), (565,566), (566,567), (567,568), (568,569), (569,570), (570,571), (571,572), (572,573), (573,574), (574,575), (575,576), (576,577), (577,578), (578,579), (579,580), (580,581), (581,582), (582,583), (583,584), (584,585), (585,586), (586,587), (587,588), (588,589), (589,590), (590,591), (591,592), (592,593), (593,594), (594,595), (595,596), (596,597), (597,598), (598,599), (599,600), (600,601), (601,602), (602,603), (603,604), (604,605), (605,606), (606,607), (607,608), (608,609), (609,610), (610,611), (611,612), (612,613), (613,614), (614,615), (615,616), (616,617), (617,618), (618,619), (619,620), (620,621), (621,622), (622,623), (623,624), (624,630), (630,632), (632,633), (633,634), (634,635), (635,636), (636,637), (637,638), (638,639), (639,640), (640,641), (641,642), (642,647), (647,652), (652,656), (656,657), (657,659), (659,663), (663,664), (664,668), (668,672), (672,673), (673,678), (678,683), (683,688), (688,693), (693,697), (697,702), (702,704), (704,705), (705,706), (706,708), (708,710), (710,711), (711,712), (712,713), (713,715), (715,717), (717,718), (718,721), (721,724), (724,727), (727,730), (730,732), (732,733), (733,735), (735,737), (737,739), (739,741), (741,743), (743,746), (746,747), (747,748), (748,749), (749,750), (750,752), (752,754), (754,755), (755,756), (756,757), (757,758), (758,759), (759,761), (761,763), (763,764), (764,765), (765,766), (766,767), (767,769), (769,770), (770,771), (771,772), (772,773), (773,774), (774,775), (775,776), (776,778), (778,780), (780,782), (782,784), (784,786), (786,788), (788,795), (795,799), (799,800), (800,801), (801,802), (802,803), (803,804), (804,805), (805,806), (806,807), (807,808), (808,809), (809,810), (810,811), (811,812), (812,813), (813,814), (814,815), (815,817), (817,818), (818,823), (823,829), (829,835), (835,836), (836,837), (837,838), (838,839), (839,840), (840,841), (841,842), (842,843), (843,844), (844,845), (845,846), (846,847), (847,848), (848,849), (849,851), (851,852), (852,858), (858,859), (859,860), (860,861), (861,862), (862,863), (863,864), (864,865), (865,866), (866,868), (868,870), (870,872), (872,874), (874,876), (876,878), (878,879), (879,880), (880,881), (881,882), (882,883), (883,884), (884,885), (885,886), (886,887), (887,888), (888,889), (889,890), (890,891), (891,892), (892,893), (893,894), (894,895), (895,896), (896,897), (897,898), (898,899), (899,900), (900,901), (901,902), (902,903), (903,907), (907,911), (911,933), (933,938), (938,943), (943,948), (948,953), (953,955), (955,957), (957,959), (959,961), (961,963), (963,965), (965,967), (967,969), (969,971), (971,973), (973,975), (975,977), (977,979), (979,981), (981,983), (983,985), (985,987), (987,989), (989,991), (991,993), (993,995), (995,997), (997,999)]\n",
    "Verts={'ph_seq':str,  'a_lineno':str,  'a_parent':str,  'a_exprrp':str,  'a_age':str,  'a_spouse':str,  'filler1':str,  'a_hga':str,  'prdtrace':str,  'a_famnum':str,  'famrel':str,  'hhdfmx':str,  'age1':str,  'filler2':str,  'phf_seq':str,  'pf_seq':str,  'filler3':str,  'a_fnlwgt':str,  'a_ernlwt':str,  'marsupwt':str,  'filler4':str,  'a_hrs1':str,  'filler5':str,  'filler6':str,  'peioind':str,  'peioocc':str,  'filler7':str,  'a_wkslk':str,  'filler8':str,  'filler9':str,  'ppposold':str,  'filler10':str,  'filler11':str,  'a_uslhrs':str,  'a_hrspay':str,  'a_grswk':str,  'filler12':str,  'filler13':str,  'filler14':str,  'a_mjind':str,  'a_dtind':str,  'mjocc':str,  'a_dtocc':str,  'filler15':str,  'nwlkwk':str,  'wkswork':str,  'lkweeks':str,  'hrswk':str,  'ptweeks':str,  'filler16':str,  'filler17':str,  'wexp':str,  'poccu2':str,  'wemocg':str,  'weind':str,  'wemind':str,  'filler18':str,  'mig_st':str,  'mig_div':str,  'mig_mtr1':str,  'filler19':str,  'wsal_val':str,  'filler20':str,  'filler21':str,  'uc_val':str,  'wc_val':str,  'ss_val':str,  'filler22':str,  'paw_mon':str,  'paw_val':str,  'vet_val':str,  'sur_sc1':str,  'sur_sc2':str,  'sur_val1':str,  'sur_val2':str,  'srvs_val':str,  'dis_sc1':str,  'dis_sc2':str,  'dis_val1':str,  'dis_val2':str,  'dsab_val':str,  'ret_val1':str,  'ret_val2':str,  'rtm_val':str,  'int_val':str,  'div_val':str,  'ed_val':str,  'filler23':str,  'csp_val':str,  'alm_val':str,  'fin_val':str,  'oi_off':str,  'oi_val':str,  'filler24':str,  'ptot_r':str,  'filler25':str,  'filler26':str,  'filler27':str,  'filler29':str,  'filler30':str,  'filler31':str,  'filler32':str,  'filler33':str,  'filler34':str,  'filler35':str,  'filler36':str,  'filler37':str,  'filler38':str,  'toi_val':str,  'filler39':str,  'filler40':str,  'p_mvcare':str,  'p_mvcaid':str,  'emcontrb':str,  'filler41':str,  'filler42':str,  'prwkstat':str,  'prptrea':str,  'peabsrsn':str,  'peio1cow':str,  'penatvty':str,  'pemntvty':str,  'pefntvty':str,  'peinusyr':str,  'filler43':str,  'hilin1':str,  'hilin2':str,  'pilin1':str,  'pilin2':str,  'mon':str,  'othstyp1':str,  'othstyp2':str,  'othstyp3':str,  'othstyp4':str,  'othstyp5':str,  'othstyp6':str,  'filler44':str,  'stimulus':str,  'filler45':str,  'ssi_val':str,  'ws_val':str,  'industry':str,  'occup':str,  'peridnum':str,  'pxmomtyp':str,  'pxdadtyp':str,  'pedisear':str,  'pediseye':str,  'pedisrem':str,  'pedisphy':str,  'pedisdrs':str,  'pedisout':str,  'prdisflg':str,  'pxdisear':str,  'pxdiseye':str,  'pxdisrem':str,  'pxdisphy':str,  'pxdisdrs':str,  'pxdisout':str}\n",
    "\n",
    "df=pd.read_fwf('asec2009_pubuse.dat', colspecs=ColStEnd, header=None, names=varnames, converters=Verts)\n",
    "\n",
    "df['personID']=df['peridnum']\n",
    "df['fam2persLink']=df['ph_seq']+str(df['pppos'])\n",
    "df['pers2hhLink']=df['peridnum'].str[:20]\n",
    "                                    \n",
    "df['surv_year'] = '2009'\n",
    "\n",
    "\n",
    "df_pers09 = df[df['typerecord'] == 3]"
   ]
  },
  {
   "cell_type": "code",
   "execution_count": null,
   "metadata": {
    "collapsed": true
   },
   "outputs": [],
   "source": []
  },
  {
   "cell_type": "code",
   "execution_count": null,
   "metadata": {
    "collapsed": true
   },
   "outputs": [],
   "source": [
    "#Import 2015 person level data"
   ]
  },
  {
   "cell_type": "code",
   "execution_count": 4,
   "metadata": {
    "collapsed": false
   },
   "outputs": [],
   "source": [
    "varnames=['typerecord', 'ph_seq', 'pppos', 'ppposold', 'a_lineno', 'a_parent', 'a_exprrp', 'perrp', 'a_age', 'a_maritl', 'a_spouse', 'a_sex', 'a_hga', 'prdtrace', 'p_stat', 'prpertyp', 'pehspnon', 'prdthsp', 'a_famnum', 'a_famtyp', 'a_famrel', 'a_pfrel', 'hhdrel', 'famrel', 'hhdfmx', 'parent', 'age1', 'phf_seq', 'pf_seq', 'pecohab', 'pelnmom', 'pelndad', 'pemomtyp', 'pedadtyp', 'peafever', 'peafwhn1', 'peafwhn2', 'peafwhn3', 'peafwhn4', 'pedisear', 'pediseye', 'pedisrem', 'pedisphy', 'pedisdrs', 'pedisout', 'prdisflg', 'penatvty', 'pemntvty', 'pefntvty', 'peinusyr', 'prcitshp', 'peridnum', 'fl_665', 'prdasian', 'filler1', 'a_fnlwgt', 'a_ernlwt', 'marsupwt', 'a_hrs1', 'a_uslft', 'a_whyabs', 'a_payabs', 'peioind', 'peioocc', 'a_clswkr', 'a_wkslk', 'a_whenlj', 'a_nlflj', 'a_wantjb', 'prerelg', 'a_uslhrs', 'a_hrlywk', 'a_hrspay', 'a_grswk', 'a_unmem', 'a_uncov', 'a_enrlw', 'a_hscol', 'a_ftpt', 'a_lfsr', 'a_untype', 'a_wkstat', 'a_explf', 'a_wksch', 'a_civlf', 'a_ftlf', 'a_mjind', 'a_dtind', 'a_mjocc', 'a_dtocc', 'peio1cow', 'prcow1', 'pemlr', 'pruntype', 'prwkstat', 'prptrea', 'prdisc', 'peabsrsn', 'prnlfsch', 'pehruslt', 'filler2', 'workyn', 'wrk_ck', 'wtemp', 'nwlook', 'nwlkwk', 'rsnnotw', 'wkswork', 'wkcheck', 'losewks', 'lknone', 'lkweeks', 'lkstrch', 'pyrsn', 'phmemprs', 'hrswk', 'hrcheck', 'ptyn', 'ptweeks', 'ptrsn', 'wexp', 'wewkrs', 'welknw', 'weuemp', 'earner', 'clwk', 'weclw', 'poccu2', 'wemocg', 'weind', 'wemind', 'ljcw', 'industry', 'occup', 'noemp', 'filler3', 'nxtres', 'mig_cbst', 'migsame', 'mig_reg', 'mig_st', 'mig_dscp', 'gediv', 'mig_div', 'mig_mtr1', 'mig_mtr3', 'mig_mtr4', 'filler4', 'ern-yn', 'ern-srce', 'ern_otr', 'ern_val', 'wageotr', 'wsal_yn', 'wsal_val', 'ws_val', 'seotr', 'semp_yn', 'semp_val', 'se_val', 'frmotr', 'frse_yn', 'frse_val', 'frm_val', 'uc_yn', 'subuc', 'strkuc', 'uc_val', 'wc_yn', 'wc_type', 'wc_val', 'ss_yn', 'ss_val', 'resnss1', 'resnss2', 'sskidyn', 'ssi_yn', 'ssi_val', 'resnssi1', 'resnssi2', 'ssikidyn', 'paw_yn', 'paw_typ', 'paw_mon', 'paw_val', 'vet_yn', 'vet_typ1', 'vet_typ2', 'vet_typ3', 'vet_typ4', 'vet_typ5', 'vet_qva', 'vet_val', 'sur_yn', 'sur_sc1', 'sur_sc2', 'sur_val1', 'sur_val2', 'srvs_val', 'dis_hp', 'dis_cs', 'dis_yn', 'dis_sc1', 'dis_sc2', 'dis_val1', 'dis_val2', 'dsab_val', 'ret_yn', 'ret_sc1', 'ret_sc2', 'ret_val1', 'ret_val2', 'rtm_val', 'int_yn', 'int_val', 'div_yn', 'filler5', 'div_val', 'rnt_yn', 'rnt_val', 'ed_yn', 'oed_typ1', 'oed_typ2', 'oed_typ3', 'ed_val', 'csp_yn', 'csp_val', 'filler6', 'fin_yn', 'fin_val', 'oi_off', 'oi_yn', 'oi_val', 'ptotval', 'pearnval', 'pothval', 'ptot_r', 'perlis', 'pov_univ', 'wicyn', 'filler7', 'mcare', 'filler8', 'mcaid', 'filler9', 'champ', 'hi_yn', 'hiown', 'hiemp', 'hipaid', 'emcontrb', 'hi', 'hityp', 'dephi', 'hilin1', 'hilin2', 'paid', 'hiout', 'priv', 'prityp', 'depriv', 'pilin1', 'pilin2', 'pout', 'out', 'care', 'caid', 'mon', 'oth', 'otyp_1', 'otyp_2', 'otyp_3', 'otyp_4', 'otyp_5', 'othstper', 'othstyp1', 'othstyp2', 'othstyp3', 'othstyp4', 'othstyp5', 'othstyp6', 'hea', 'ihsflg', 'ahiper', 'ahityp1', 'ahityp2', 'ahityp3', 'ahityp4', 'ahityp5', 'ahityp6', 'pchip', 'cov_gh', 'cov_hi', 'ch_mc', 'ch_hi', 'filler10', 'marg_tax', 'ctc_crd', 'penplan', 'penincl', 'filestat', 'dep_stat', 'eit_cred', 'actc_crd', 'fica', 'fed_ret', 'agi', 'filler11', 'tax_inc', 'fedtax_bc', 'fedtax_ac', 'statetax_bc', 'statetax_ac', 'prswkxpns', 'paidccyn', 'paidcyna', 'moop', 'phip_val', 'potc_val', 'pmed_val', 'chsp_val', 'chsp_yn', 'chelsew_', 'filler12', 'axrrp', 'axage', 'axmaritl', 'axspouse', 'axsex', 'axhga', 'pxrace1', 'pxhspnon', 'pxcohab', 'pxlnmom', 'pxlndad', 'pxmomtyp', 'pxdadtyp', 'pxafever', 'pxafwhn1', 'pxdisear', 'pxdiseye', 'pxdisrem', 'pxdisphy', 'pxdisdrs', 'pxdisout', 'pxnatvty', 'pxmntvty', 'pxfntvty', 'pxinusyr', 'prwernal', 'prhernal', 'axhrs', 'axwhyabs', 'axpayabs', 'axclswkr', 'axnlflj', 'axuslhrs', 'axhrlywk', 'axunmem', 'axuncov', 'axenrlw', 'axhscol', 'axftpt', 'axlfsr', 'i_workyn', 'i_wtemp', 'i_nwlook', 'i_nwlkwk', 'i_rsnnot', 'i_wkswk', 'i_wkchk', 'i_losewk', 'i_lkweek', 'i_lkstr', 'i_pyrsn', 'i_phmemp', 'i_hrswk', 'i_hrchk', 'i_ptyn', 'i_ptwks', 'i_ptrsn', 'i_ljcw', 'i_indus', 'i_occup', 'i_noemp', 'i_nxtres', 'i_mig1', 'i_mig2', 'i_mig3', 'i_disyn', 'i_ernyn', 'i_ernsrc', 'i_ernval', 'i_retsc2', 'i_wsyn', 'i_wsval', 'i_seyn', 'i_seval', 'i_frmyn', 'i_frmval', 'i_ucyn', 'i_ucval', 'i_wcyn', 'i_wctyp', 'i_wcval', 'i_ssyn', 'i_ssval', 'resnssa', 'i_ssiyn', 'sskidyna', 'i_ssival', 'resnssia', 'i_pawyn', 'ssikdyna', 'i_pawtyp', 'i_pawmo', 'i_pawval', 'i_vetyn', 'i_vettyp', 'i_vetqva', 'i_vetval', 'i_suryn', 'i_sursc1', 'i_sursc2', 'i_survl1', 'i_survl2', 'i_dishp', 'i_discs', 'i_dissc1', 'i_dissc2', 'i_disvl1', 'i_disvl2', 'i_retyn', 'i_retsc1', 'i_retvl1', 'i_retvl2', 'i_intyn', 'i_intval', 'i_divyn', 'i_divval', 'i_rntyn', 'i_rntval', 'i_edyn', 'i_edtyp1', 'i_edtyp2', 'i_oedval', 'i_cspyn', 'i_cspval', 'filler13', 'i_finyn', 'i_finval', 'i_oival', 'wicyna', 'i_hi', 'i_dephi', 'i_paid', 'i_hiout', 'i_priv', 'i_depriv', 'i_pout', 'i_out', 'i_care', 'i_caid', 'i_mon', 'i_oth', 'i_otyp', 'i_ostper', 'i_ostyp', 'i_hea', 'iahiper', 'iahityp', 'i_pchip', 'i_penpla', 'i_peninc', 'i_phipval', 'i_potcval', 'i_pmedval', 'i_chspval', 'i_chspyn', 'i_chelsewyn', 'filler14', 'a_werntf', 'a_herntf', 'tcernval', 'tcwsval', 'tcseval', 'tcffmval', 'tsurval1', 'tsurval2', 'tdisval1', 'tdisval2', 'tretval1', 'tretval2', 'tint_val', 'tdiv_val', 'trnt_val', 'ted_val', 'tcsp_val', 'filler15', 'tfin_val', 'toi_val', 'tphip_val', 'tpotc_val', 'tpmed_val', 'tchsp_val', 'm5g_cbst', 'm5g_dscp', 'm5gsame', 'm5g_reg', 'm5g_st', 'm5g_div', 'm5g_mtr1', 'm5g_mtr3', 'm5g_mtr4', 'i_m5g1', 'i_m5g2', 'i_m5g3', 'filler16']\n",
    "ColStnwlkwkEnd=[(0,1), (1,6), (6,8), (8,10), (10,12), (12,14), (14,16), (16,18), (18,20), (20,21), (21,23), (23,24), (24,26), (26,28), (28,29), (29,30), (30,31), (31,32), (32,34), (34,35), (35,36), (36,37), (37,38), (38,40), (40,42), (42,43), (43,45), (45,47), (47,49), (49,51), (51,53), (53,55), (55,57), (57,59), (59,61), (61,63), (63,65), (65,67), (67,69), (69,71), (71,73), (73,75), (75,77), (77,79), (79,81), (81,83), (83,86), (86,89), (89,92), (92,94), (94,95), (95,117), (117,118), (118,120), (120,138), (138,146), (146,154), (154,162), (162,164), (164,165), (165,166), (166,167), (167,171), (171,175), (175,176), (176,179), (179,180), (180,181), (181,182), (182,183), (183,185), (185,186), (186,190), (190,194), (194,195), (195,196), (196,197), (197,198), (198,199), (199,200), (200,201), (201,202), (202,203), (203,204), (204,205), (205,206), (206,208), (208,210), (210,212), (212,214), (214,216), (216,217), (217,218), (218,219), (219,221), (221,223), (223,224), (224,226), (226,227), (227,230), (230,250), (250,251), (251,252), (252,253), (253,254), (254,256), (256,257), (257,259), (259,260), (260,261), (261,262), (262,264), (264,265), (265,266), (266,267), (267,269), (269,270), (270,271), (271,273), (273,274), (274,276), (276,277), (277,278), (278,279), (279,280), (280,281), (281,282), (282,284), (284,286), (286,288), (288,290), (290,291), (291,295), (295,299), (299,300), (300,320), (320,322), (322,323), (323,324), (324,325), (325,327), (327,328), (328,329), (329,331), (331,333), (333,334), (334,335), (335,351), (351,352), (352,353), (353,354), (354,361), (361,362), (362,363), (363,370), (370,377), (377,378), (378,379), (379,386), (386,392), (392,393), (393,394), (394,401), (401,407), (407,408), (408,409), (409,410), (410,415), (415,416), (416,417), (417,422), (422,423), (423,428), (428,429), (429,430), (430,431), (431,432), (432,437), (437,438), (438,439), (439,440), (440,441), (441,442), (442,444), (444,449), (449,450), (450,451), (451,452), (452,453), (453,454), (454,455), (455,456), (456,461), (461,462), (462,464), (464,466), (466,471), (471,476), (476,482), (482,483), (483,484), (484,485), (485,487), (487,489), (489,494), (494,499), (499,505), (505,506), (506,507), (507,508), (508,513), (513,518), (518,524), (524,525), (525,530), (530,531), (531,532), (532,538), (538,539), (539,544), (544,545), (545,546), (546,547), (547,548), (548,553), (553,554), (554,559), (559,565), (565,566), (566,571), (571,573), (573,574), (574,579), (579,587), (587,595), (595,603), (603,605), (605,606), (606,607), (607,608), (608,628), (628,629), (629,634), (634,635), (635,640), (640,641), (641,642), (642,643), (643,644), (644,645), (645,649), (649,650), (650,651), (651,652), (652,654), (654,656), (656,657), (657,658), (658,659), (659,660), (660,661), (661,663), (663,665), (665,666), (666,667), (667,668), (668,669), (669,671), (671,672), (672,673), (673,674), (674,675), (675,676), (676,677), (677,678), (678,680), (680,682), (682,684), (684,686), (686,688), (688,690), (690,691), (691,692), (692,693), (693,695), (695,697), (697,699), (699,701), (701,703), (703,705), (705,706), (706,707), (707,708), (708,709), (709,710), (710,723), (723,725), (725,730), (730,731), (731,732), (732,733), (733,735), (735,739), (739,743), (743,748), (748,754), (754,761), (761,762), (762,769), (769,776), (776,783), (783,789), (789,795), (795,799), (799,800), (800,801), (801,808), (808,814), (814,819), (819,825), (825,830), (830,831), (831,832), (832,852), (852,853), (853,854), (854,855), (855,856), (856,857), (857,858), (858,860), (860,862), (862,864), (864,866), (866,868), (868,870), (870,872), (872,874), (874,876), (876,878), (878,880), (880,882), (882,884), (884,886), (886,888), (888,890), (890,892), (892,894), (894,896), (896,897), (897,898), (898,899), (899,900), (900,901), (901,902), (902,903), (903,904), (904,905), (905,906), (906,907), (907,908), (908,909), (909,910), (910,911), (911,912), (912,913), (913,914), (914,915), (915,916), (916,917), (917,918), (918,919), (919,920), (920,921), (921,922), (922,923), (923,924), (924,925), (925,926), (926,927), (927,928), (928,929), (929,930), (930,931), (931,932), (932,933), (933,934), (934,936), (936,937), (937,938), (938,939), (939,940), (940,941), (941,942), (942,943), (943,944), (944,945), (945,946), (946,947), (947,948), (948,949), (949,950), (950,951), (951,952), (952,953), (953,954), (954,955), (955,956), (956,957), (957,958), (958,959), (959,960), (960,961), (960,961), (962,963), (963,964), (964,965), (965,966), (966,967), (967,968), (968,969), (969,970), (970,971), (971,972), (972,973), (973,974), (974,975), (975,976), (976,977), (977,978), (978,979), (979,980), (980,981), (981,982), (982,983), (983,984), (984,985), (985,986), (986,987), (987,988), (988,989), (989,990), (990,991), (991,992), (992,993), (993,994), (994,995), (995,996), (996,998), (998,999), (999,1000), (1000,1001), (1001,1002), (1002,1003), (1003,1004), (1004,1005), (1005,1006), (1006,1007), (1007,1008), (1008,1009), (1009,1010), (1010,1011), (1011,1012), (1012,1013), (1013,1014), (1014,1015), (1015,1016), (1016,1017), (1017,1018), (1018,1019), (1019,1020), (1020,1021), (1021,1022), (1022,1023), (1023,1024), (1024,1025), (1025,1026), (1026,1027), (1027,1028), (1028,1029), (1029,1049), (1049,1050), (1050,1051), (1051,1052), (1052,1053), (1053,1054), (1054,1055), (1055,1056), (1056,1057), (1057,1058), (1058,1059), (1059,1060), (1060,1061), (1061,1062), (1062,1063), (1063,1064), (1064,1065), (1065,1066), (1066,1067), (1067,1068), (1068,1069), (1069,1070), (1070,1071), (1071,1072), (1072,1073), (1073,1074), (1074,1075), (1075,1076), (1076,1077), (1077,1079), (1079,1081), (1081,1083), (1083,1084), (1084,1085), (1085,1086), (1086,1088), (1088,1089), (1089,1092)]\n",
    "Verts={'ph_seq':str,  'ppposold':str,  'a_lineno':str,  'a_parent':str,  'a_exprrp':str,  'a_age':str,  'a_spouse':str,  'a_hga':str,  'prdtrace':str,  'a_famnum':str,  'famrel':str,  'hhdfmx':str,  'age1':str,  'phf_seq':str,  'pf_seq':str,  'penatvty':str,  'pemntvty':str,  'pefntvty':str,  'peinusyr':str,  'peridnum':str,  'filler1':str,  'a_fnlwgt':str,  'a_ernlwt':str,  'marsupwt':str,  'a_hrs1':str,  'peioind':str,  'peioocc':str,  'a_wkslk':str,  'a_uslhrs':str,  'a_hrspay':str,  'a_grswk':str,  'a_mjind':str,  'a_dtind':str,  'a_mjocc':str,  'a_dtocc':str,  'peio1cow':str,  'prwkstat':str,  'prptrea':str,  'peabsrsn':str,  'filler2':str,  'nwlkwk':str,  'wkswork':str,  'lkweeks':str,  'hrswk':str,  'ptweeks':str,  'wexp':str,  'poccu2':str,  'wemocg':str,  'weind':str,  'wemind':str,  'industry':str,  'occup':str,  'mig_st':str,  'mig_div':str,  'mig_mtr1':str,  'wsal_val':str,  'ws_val':str,  'uc_val':str,  'wc_val':str,  'ss_val':str,  'ssi_val':str,  'paw_mon':str,  'paw_val':str,  'vet_val':str,  'sur_sc1':str,  'sur_sc2':str,  'sur_val1':str,  'sur_val2':str,  'srvs_val':str,  'dis_sc1':str,  'dis_sc2':str,  'dis_val1':str,  'dis_val2':str,  'dsab_val':str,  'ret_val1':str,  'ret_val2':str,  'rtm_val':str,  'int_val':str,  'filler5':str,  'div_val':str,  'ed_val':str,  'csp_val':str,  'filler6':str,  'fin_val':str,  'oi_off':str,  'oi_val':str,  'ptot_r':str,  'filler7':str,  'filler8':str,  'filler9':str,  'emcontrb':str,  'hilin1':str,  'hilin2':str,  'pilin1':str,  'pilin2':str,  'mon':str,  'othstyp1':str,  'othstyp2':str,  'othstyp3':str,  'othstyp4':str,  'othstyp5':str,  'othstyp6':str,  'filler10':str,  'filler11':str,  'filler12':str,  'pxrace1':str,  'pxhspnon':str,  'pxdisear':str,  'pxdiseye':str,  'pxdisrem':str,  'pxdisphy':str,  'pxdisdrs':str,  'pxdisout':str,  'filler13':str,  'filler14':str,  'filler15':str,  'toi_val':str,  'm5g_st':str,  'm5g_div':str,  'm5g_mtr1':str,  'filler16':str}\n",
    "\n",
    "df=pd.read_fwf('asec2015_pubuse.dat', colspecs=ColStEnd, header=None, names=varnames, converters=Verts) #widths=lengths,  colspecs=ColStEnd      nrows=20\n",
    "       \n",
    "df['personID']=df['peridnum']\n",
    "df['fam2persLink']=df['ph_seq']+str(df['pppos'])\n",
    "df['pers2hhLink']=df['peridnum'].str[:20]\n",
    "                                    \n",
    "df['surv_year'] = '2015'\n",
    "\n",
    "\n",
    "df_pers15 = df[df['typerecord'] == 3]"
   ]
  },
  {
   "cell_type": "code",
   "execution_count": 26,
   "metadata": {
    "collapsed": true
   },
   "outputs": [],
   "source": [
    "\n",
    "\n"
   ]
  },
  {
   "cell_type": "code",
   "execution_count": null,
   "metadata": {
    "collapsed": true
   },
   "outputs": [],
   "source": []
  },
  {
   "cell_type": "markdown",
   "metadata": {
    "collapsed": true
   },
   "source": [
    "# Got this far.  Save for now incase issues l8r"
   ]
  },
  {
   "cell_type": "code",
   "execution_count": 11,
   "metadata": {
    "collapsed": false
   },
   "outputs": [],
   "source": [
    "# just reference person\n",
    "####  Get to focus person data, then merge\n",
    "# export to look over, for errors, general\n",
    "\n",
    "df_RefPers09 = df_pers09[df_pers09['famrel'] == '10'] \n",
    "df_RefPers15 = df_pers15[df_pers15['famrel'] == '10'] \n",
    "\n",
    "\n",
    "df_RefPers15.to_pickle('RefPers15')\n",
    "df_RefPers15.to_csv('RefPers15.csv')\n",
    "\n",
    "df_RefPers09.to_pickle('RefPers09')\n",
    "df_RefPers09.to_csv('RefPers09.csv')\n",
    "\n",
    "df_pers09.to_pickle('pers09')\n",
    "df_pers15.to_pickle('pers15')\n",
    "\n",
    "df_pers09.to_csv('pers09.csv')\n",
    "df_pers15.to_csv('pers15.csv')\n",
    "\n",
    "\n"
   ]
  },
  {
   "cell_type": "code",
   "execution_count": null,
   "metadata": {
    "collapsed": true
   },
   "outputs": [],
   "source": []
  },
  {
   "cell_type": "code",
   "execution_count": 12,
   "metadata": {
    "collapsed": false
   },
   "outputs": [],
   "source": [
    "\n",
    "df_haus09.to_pickle('haus09')\n",
    "df_fam09.to_pickle('fam09')\n",
    "\n",
    "df_haus15.to_csv('haus15.csv')\n",
    "df_fam15.to_csv('fam15.csv')"
   ]
  },
  {
   "cell_type": "code",
   "execution_count": null,
   "metadata": {
    "collapsed": true
   },
   "outputs": [],
   "source": []
  },
  {
   "cell_type": "markdown",
   "metadata": {
    "collapsed": true
   },
   "source": [
    "# (IGNORE IF 2ND PART WORKS\n"
   ]
  },
  {
   "cell_type": "markdown",
   "metadata": {},
   "source": [
    "# building (final??) merge vars (part1)"
   ]
  },
  {
   "cell_type": "code",
   "execution_count": 13,
   "metadata": {
    "collapsed": true
   },
   "outputs": [],
   "source": [
    "dfpr09=df_pers09.loc[:,['peridnum','ph_seq', 'pf_seq', 'phf_seq', 'ppposold', 'pppos']] #, 'a_lineno'\n",
    "dfhh09=df_haus09.loc[:,['h_idnum1',  'h_idnum2','h_seq',  'hhpos' ]] # 'h_respnm',  'h_hhnum',  'hsup_wgt'\n",
    "dffm09=df_fam09.loc[:,['fh_seq',  'ffpos',  'ffposold' ]] # , 'flastidx',  'fmlasidx'\n",
    "\n",
    "dfRfPr09=df_RefPers09.loc[:,['peridnum','ph_seq', 'pf_seq', 'phf_seq', 'ppposold', 'pppos']] #, 'a_lineno'\n",
    "\n"
   ]
  },
  {
   "cell_type": "code",
   "execution_count": null,
   "metadata": {
    "collapsed": true
   },
   "outputs": [],
   "source": []
  },
  {
   "cell_type": "code",
   "execution_count": 14,
   "metadata": {
    "collapsed": false
   },
   "outputs": [
    {
     "name": "stdout",
     "output_type": "stream",
     "text": [
      "<class 'str'>\n",
      "<class 'str'>\n",
      "<class 'str'>\n",
      "<class 'str'>\n"
     ]
    }
   ],
   "source": [
    "print(type('fh_seq'))\n",
    "\n",
    "\n",
    "print(type('ffpos'))\n",
    "print(type('hhpos'))\n",
    "print(type('pppos'))"
   ]
  },
  {
   "cell_type": "code",
   "execution_count": null,
   "metadata": {
    "collapsed": true
   },
   "outputs": [],
   "source": []
  },
  {
   "cell_type": "code",
   "execution_count": 15,
   "metadata": {
    "collapsed": false
   },
   "outputs": [],
   "source": [
    "dffm09['familyID']=dffm09['fh_seq']+dffm09['ffpos']\n",
    "#dffm09['fam2hhLink']=dffm09['fh_seq']+dffm09['ffpos']\n",
    "dffm09['fam2hhLink']=dffm09['fh_seq']+dffm09['ffpos']\n",
    "dffm09['fam2persLink']=dffm09['fh_seq']+dffm09['ffposold']\n",
    "\n",
    "dfhh09['householdID']=dfhh09['h_idnum1']+dfhh09['h_idnum2']\n",
    "#dfhh09[hh2famLink]\n",
    "dfhh09['fam2hhLink']=dfhh09['h_seq']+dfhh09['hhpos']\n",
    "dfhh09['hh2persLink']=dfhh09['h_idnum1']+dfhh09['h_idnum2']\n",
    "\n",
    "dfpr09['personID']=dfpr09['peridnum']\n",
    "#dfpr09[pers2famLink]\n",
    "dfpr09['fam2persLink']=dfpr09['ph_seq']+str(dfpr09['pppos'])\n",
    "#dfpr09[hh2famLink]\n",
    "#D PERIDNUM   22     96\n",
    "#22 digit Unique Person identifier\n",
    "#http://stackoverflow.com/questions/20970279/how-to-do-a-left-right-and-mid-of-a-string-in-a-pandas-dataframe\n",
    "dfpr09['pers2hhLink']=dfpr09['peridnum'].str[:20]\n",
    "\n",
    "\n",
    "dfRfPr09['personID']=dfRfPr09['peridnum']\n",
    "dfRfPr09['fam2persLink']=dfRfPr09['ph_seq']+str(dfRfPr09['pppos'])\n",
    "dfRfPr09['pers2hhLink']=dfRfPr09['peridnum'].str[:20]\n",
    "\n",
    "\n",
    "dfpr09.to_csv('dfpr09.csv')\n",
    "dfRfPr09.to_csv('dfRfPr09.csv')\n",
    "dfhh09.to_csv('dfhh09.csv')\n",
    "dffm09.to_csv('dffm09.csv')\n",
    "\n"
   ]
  },
  {
   "cell_type": "code",
   "execution_count": 16,
   "metadata": {
    "collapsed": true
   },
   "outputs": [],
   "source": [
    "\n",
    "dfpr09.to_csv('dfpr09.csv')\n",
    "dfRfPr09.to_csv('dfRfPr09.csv')\n",
    "dfhh09.to_csv('dfhh09.csv')\n",
    "dffm09.to_csv('dffm09.csv')\n"
   ]
  },
  {
   "cell_type": "code",
   "execution_count": null,
   "metadata": {
    "collapsed": true
   },
   "outputs": [],
   "source": []
  },
  {
   "cell_type": "markdown",
   "metadata": {
    "collapsed": true
   },
   "source": [
    "# this  works!!\n",
    "# question type of merge?  # of recs.  check!"
   ]
  },
  {
   "cell_type": "code",
   "execution_count": 17,
   "metadata": {
    "collapsed": true
   },
   "outputs": [],
   "source": [
    "'''\n",
    "dfpr09=df_pers09.loc[:,['personID','fam2persLink','pers2hhLink','peridnum','ph_seq', 'pf_seq', 'phf_seq', 'ppposold', 'pppos']] #, 'a_lineno'\n",
    "dfhh09=df_haus09.loc[:,['householdID','fam2hhLink','hh2persLink','h_idnum1',  'h_idnum2','h_seq',  'hhpos' ]] # 'h_respnm',  'h_hhnum',  'hsup_wgt'\n",
    "dffm09=df_fam09.loc[:,['familyID','fam2persLink','fam2hhLink','fh_seq',  'ffpos',  'ffposold' ]] # , 'flastidx',  'fmlasidx'\n",
    "df_RefPers09=df_RefPers09.loc[:,['personID','fam2persLink','pers2hhLink','peridnum','ph_seq', 'pf_seq', 'phf_seq', 'ppposold', 'pppos']] #, 'a_lineno'\n",
    "dfRfPr09=df_RefPers09.loc[:,['personID','fam2persLink','pers2hhLink','peridnum','ph_seq', 'pf_seq', 'phf_seq', 'ppposold', 'pppos']] #, 'a_lineno'\n",
    "'''\n",
    "\n",
    "dfpr09=df_pers09\n",
    "dfhh09=df_haus09\n",
    "dffm09=df_fam09\n",
    "dfRfPr09=df_RefPers09"
   ]
  },
  {
   "cell_type": "code",
   "execution_count": 37,
   "metadata": {
    "collapsed": false
   },
   "outputs": [
    {
     "ename": "NameError",
     "evalue": "name 'df_RefPers09_2' is not defined",
     "output_type": "error",
     "traceback": [
      "\u001b[1;31m---------------------------------------------------------------------------\u001b[0m",
      "\u001b[1;31mNameError\u001b[0m                                 Traceback (most recent call last)",
      "\u001b[1;32m<ipython-input-37-f934f27c8fe9>\u001b[0m in \u001b[0;36m<module>\u001b[1;34m()\u001b[0m\n\u001b[0;32m     11\u001b[0m \u001b[0mdfhh09_2\u001b[0m\u001b[1;33m=\u001b[0m\u001b[0mdfhh09\u001b[0m\u001b[1;33m\u001b[0m\u001b[0m\n\u001b[0;32m     12\u001b[0m \u001b[1;33m\u001b[0m\u001b[0m\n\u001b[1;32m---> 13\u001b[1;33m \u001b[0mdf_RefPers09_2\u001b[0m\u001b[1;33m[\u001b[0m\u001b[1;34m'NewPers2hhL2'\u001b[0m\u001b[1;33m]\u001b[0m\u001b[1;33m=\u001b[0m\u001b[0mdf_RefPers09_2\u001b[0m\u001b[1;33m[\u001b[0m\u001b[1;34m'peridnum'\u001b[0m\u001b[1;33m]\u001b[0m\u001b[1;33m.\u001b[0m\u001b[0mstr\u001b[0m\u001b[1;33m[\u001b[0m\u001b[1;33m:\u001b[0m\u001b[1;36m20\u001b[0m\u001b[1;33m]\u001b[0m\u001b[1;33m\u001b[0m\u001b[0m\n\u001b[0m\u001b[0;32m     14\u001b[0m \u001b[0mdfhh09_2\u001b[0m\u001b[1;33m[\u001b[0m\u001b[1;34m'NewPers2hhL2'\u001b[0m\u001b[1;33m]\u001b[0m\u001b[1;33m=\u001b[0m\u001b[0mdfhh09_2\u001b[0m\u001b[1;33m.\u001b[0m\u001b[0mloc\u001b[0m\u001b[1;33m[\u001b[0m\u001b[1;33m:\u001b[0m\u001b[1;33m,\u001b[0m\u001b[1;33m[\u001b[0m\u001b[1;34m'h_idnum1'\u001b[0m\u001b[1;33m]\u001b[0m\u001b[1;33m]\u001b[0m\u001b[1;33m+\u001b[0m\u001b[0mdfhh09_2\u001b[0m\u001b[1;33m.\u001b[0m\u001b[0mloc\u001b[0m\u001b[1;33m[\u001b[0m\u001b[1;33m:\u001b[0m\u001b[1;33m,\u001b[0m\u001b[0mdfhh09\u001b[0m\u001b[1;33m[\u001b[0m\u001b[1;34m'h_idnum2'\u001b[0m\u001b[1;33m]\u001b[0m\u001b[1;33m]\u001b[0m\u001b[1;33m\u001b[0m\u001b[0m\n\u001b[0;32m     15\u001b[0m \u001b[1;33m\u001b[0m\u001b[0m\n",
      "\u001b[1;31mNameError\u001b[0m: name 'df_RefPers09_2' is not defined"
     ]
    }
   ],
   "source": [
    "####\n",
    "# why error? will it work w out this code?\n",
    "####\n",
    "\n",
    "#df_RefPers09['NewPers2hhL']=df_RefPers09['peridnum'].str[:20]\n",
    "#dfhh09['householdID']=dfhh09['h_idnum1']+dfhh09['h_idnum2']\n",
    "#dfhh09['NewPers2hhL']=dfhh09.loc[:,['h_idnum1']]+dfhh09.loc[:,dfhh09['h_idnum2']]\n",
    "#NewPers2hhL\n",
    "\n",
    "df_RefPers09_2d=df_RefPers09\n",
    "dfhh09_2=dfhh09\n",
    "\n",
    "df_RefPers09['NewPers2hhL2']=df_RefPers09['peridnum'].str[:20]\n",
    "dfhh09['NewPers2hhL2']=dfhh09.loc[:,['h_idnum1']]+dfhh09.loc[:,dfhh09['h_idnum2']]\n",
    "\n",
    "#dfhh09['NewPers2hhL2']=dfhh09['hh2persLink']\n",
    "#dfhh09['NewPers2hhL2']=dfhh09.loc[:,['hh2persLink']]\n",
    "#a=dfhh09['hh2persLink']\n",
    "#dfhh09['NewPers2hhL2']"
   ]
  },
  {
   "cell_type": "code",
   "execution_count": null,
   "metadata": {
    "collapsed": true
   },
   "outputs": [],
   "source": []
  },
  {
   "cell_type": "code",
   "execution_count": 20,
   "metadata": {
    "collapsed": false
   },
   "outputs": [
    {
     "name": "stderr",
     "output_type": "stream",
     "text": [
      "C:\\Users\\hillb\\Anaconda3\\lib\\site-packages\\ipykernel\\__main__.py:14: SettingWithCopyWarning: \n",
      "A value is trying to be set on a copy of a slice from a DataFrame.\n",
      "Try using .loc[row_indexer,col_indexer] = value instead\n",
      "\n",
      "See the caveats in the documentation: http://pandas.pydata.org/pandas-docs/stable/indexing.html#indexing-view-versus-copy\n"
     ]
    }
   ],
   "source": [
    "# the above is wrong.  should be trying to match the individual with the fam and the individual with household.  \n",
    "# it's the individual thats most important\n",
    "# all people belong to both households and families (i think).  but not all fams have households or vice versa\n",
    "\n",
    "# 1. person to household\n",
    "# a. build merge variables on each\n",
    "\n",
    "\n",
    "# dfpr09['NewPers2hhL']=dfpr09['peridnum'].str[:20]\n",
    "# just reference person\n",
    "#df_RefPers09['NewFam2persL']=df_RefPers09['ph_seq']+str(df_RefPers09['pppos'])\n",
    "#df_RefPers09['NewPers2hhL']=df_RefPers09['peridnum'].str[:20]\n",
    "\n",
    "df_RefPers09['hh2persLink']=df_RefPers09['peridnum'].str[:20]\n",
    "\n",
    "#df_RefPers09['pers2hhLink']=df_RefPers09['peridnum'].str[:20]\n",
    "#dfRfPr09['pers2hhLink']=dfRfPr09['peridnum'].str[:20]\n",
    "\n",
    "# NewPers2hhL - already have it?\n",
    "#dfhh09['NewPers2hhL']=dfhh09['h_idnum1']+dfhh09['h_idnum2']\n",
    "#dfhh09['NewPers2hhL']=dfhh09['hh2persLink']\n",
    "\n",
    "#dfhh09['householdID']=dfhh09['h_idnum1']+dfhh09['h_idnum2']\n",
    "#df_rPer2haus09=pd.merge(df_RefPers09, dfhh09, on='NewPers2hhL')\n",
    "#df_rPer2haus09=pd.merge(df_RefPers09, dfhh09, on='hh2persLink')\n",
    "\n",
    "###############################\n",
    "#\n",
    "#  I dont understand error\n",
    "#\n",
    "###############################\n"
   ]
  },
  {
   "cell_type": "code",
   "execution_count": null,
   "metadata": {
    "collapsed": true
   },
   "outputs": [],
   "source": []
  },
  {
   "cell_type": "code",
   "execution_count": 24,
   "metadata": {
    "collapsed": true
   },
   "outputs": [],
   "source": [
    "# 2. person to family\n",
    "# person here = person w household\n",
    "# a. build merge variables on each\n",
    "\n",
    "\n",
    "\n",
    "#!!!!!!!!!!!!!!!!!!!!!!  NOT SURE THIS IS RIGHT!\n",
    "\n",
    "df_rPer2haus09['NewFam2persL']=df_rPer2haus09['ph_seq']\n",
    "dffm09['NewFam2persL']=dffm09['fh_seq']\n",
    "\n",
    "\n",
    "df_3recs09= pd.merge(dffm09, df_rPer2haus09, on='NewFam2persL')\n",
    "\n"
   ]
  },
  {
   "cell_type": "code",
   "execution_count": null,
   "metadata": {
    "collapsed": true
   },
   "outputs": [],
   "source": []
  },
  {
   "cell_type": "code",
   "execution_count": 25,
   "metadata": {
    "collapsed": true
   },
   "outputs": [],
   "source": [
    "dffm09_3=dffm09\n",
    "dffm09_3.to_csv('dffm09_3.csv')\n",
    "df_rPer2haus09.to_csv('df_rPer2haus09.csv')\n"
   ]
  },
  {
   "cell_type": "code",
   "execution_count": null,
   "metadata": {
    "collapsed": true
   },
   "outputs": [],
   "source": []
  },
  {
   "cell_type": "markdown",
   "metadata": {
    "collapsed": true
   },
   "source": [
    "# end check merged tables\n",
    "# (and export!!)"
   ]
  },
  {
   "cell_type": "code",
   "execution_count": 26,
   "metadata": {
    "collapsed": true
   },
   "outputs": [],
   "source": [
    "\n",
    "df_Ref09_merged=df_3recs09\n",
    "\n",
    "df_Ref09_merged.to_pickle('Ref09_merged')\n",
    "df_Ref09_merged.to_csv('Ref09_merged.csv')"
   ]
  },
  {
   "cell_type": "code",
   "execution_count": null,
   "metadata": {
    "collapsed": true
   },
   "outputs": [],
   "source": []
  },
  {
   "cell_type": "code",
   "execution_count": null,
   "metadata": {
    "collapsed": true
   },
   "outputs": [],
   "source": []
  },
  {
   "cell_type": "markdown",
   "metadata": {
    "collapsed": true
   },
   "source": [
    "# repeat for 2015\n",
    "\n",
    "# question type of merge?  # of recs.  check!\n",
    "\n",
    "# and end w export"
   ]
  },
  {
   "cell_type": "code",
   "execution_count": 27,
   "metadata": {
    "collapsed": true
   },
   "outputs": [],
   "source": [
    "dfpr15=df_pers15\n",
    "dfhh15=df_haus15\n",
    "dffm15=df_fam15\n",
    "\n",
    "\n",
    "dfRfPr15=df_RefPers15"
   ]
  },
  {
   "cell_type": "code",
   "execution_count": null,
   "metadata": {
    "collapsed": true
   },
   "outputs": [],
   "source": []
  },
  {
   "cell_type": "code",
   "execution_count": 28,
   "metadata": {
    "collapsed": false
   },
   "outputs": [
    {
     "ename": "KeyError",
     "evalue": "'hh2persLink'",
     "output_type": "error",
     "traceback": [
      "\u001b[1;31m---------------------------------------------------------------------------\u001b[0m",
      "\u001b[1;31mKeyError\u001b[0m                                  Traceback (most recent call last)",
      "\u001b[1;32mC:\\Users\\hillb\\Anaconda3\\lib\\site-packages\\pandas\\indexes\\base.py\u001b[0m in \u001b[0;36mget_loc\u001b[1;34m(self, key, method, tolerance)\u001b[0m\n\u001b[0;32m   1875\u001b[0m             \u001b[1;32mtry\u001b[0m\u001b[1;33m:\u001b[0m\u001b[1;33m\u001b[0m\u001b[0m\n\u001b[1;32m-> 1876\u001b[1;33m                 \u001b[1;32mreturn\u001b[0m \u001b[0mself\u001b[0m\u001b[1;33m.\u001b[0m\u001b[0m_engine\u001b[0m\u001b[1;33m.\u001b[0m\u001b[0mget_loc\u001b[0m\u001b[1;33m(\u001b[0m\u001b[0mkey\u001b[0m\u001b[1;33m)\u001b[0m\u001b[1;33m\u001b[0m\u001b[0m\n\u001b[0m\u001b[0;32m   1877\u001b[0m             \u001b[1;32mexcept\u001b[0m \u001b[0mKeyError\u001b[0m\u001b[1;33m:\u001b[0m\u001b[1;33m\u001b[0m\u001b[0m\n",
      "\u001b[1;32mpandas\\index.pyx\u001b[0m in \u001b[0;36mpandas.index.IndexEngine.get_loc (pandas\\index.c:4027)\u001b[1;34m()\u001b[0m\n",
      "\u001b[1;32mpandas\\index.pyx\u001b[0m in \u001b[0;36mpandas.index.IndexEngine.get_loc (pandas\\index.c:3891)\u001b[1;34m()\u001b[0m\n",
      "\u001b[1;32mpandas\\hashtable.pyx\u001b[0m in \u001b[0;36mpandas.hashtable.PyObjectHashTable.get_item (pandas\\hashtable.c:12408)\u001b[1;34m()\u001b[0m\n",
      "\u001b[1;32mpandas\\hashtable.pyx\u001b[0m in \u001b[0;36mpandas.hashtable.PyObjectHashTable.get_item (pandas\\hashtable.c:12359)\u001b[1;34m()\u001b[0m\n",
      "\u001b[1;31mKeyError\u001b[0m: 'hh2persLink'",
      "\nDuring handling of the above exception, another exception occurred:\n",
      "\u001b[1;31mKeyError\u001b[0m                                  Traceback (most recent call last)",
      "\u001b[1;32m<ipython-input-28-269633988a21>\u001b[0m in \u001b[0;36m<module>\u001b[1;34m()\u001b[0m\n\u001b[0;32m     18\u001b[0m \u001b[1;31m#df_rPer2haus15=pd.merge(df_RefPers15, dfhh15, on='hh2persLink')\u001b[0m\u001b[1;33m\u001b[0m\u001b[1;33m\u001b[0m\u001b[0m\n\u001b[0;32m     19\u001b[0m \u001b[1;31m#df_rPer2haus15=pd.merge(df_RefPers15, dfhh15, on='pers2hhLink')\u001b[0m\u001b[1;33m\u001b[0m\u001b[1;33m\u001b[0m\u001b[0m\n\u001b[1;32m---> 20\u001b[1;33m \u001b[0mdf_rPer2haus15\u001b[0m\u001b[1;33m=\u001b[0m\u001b[0mpd\u001b[0m\u001b[1;33m.\u001b[0m\u001b[0mmerge\u001b[0m\u001b[1;33m(\u001b[0m\u001b[0mdf_RefPers15\u001b[0m\u001b[1;33m,\u001b[0m \u001b[0mdfhh15\u001b[0m\u001b[1;33m,\u001b[0m \u001b[0mon\u001b[0m\u001b[1;33m=\u001b[0m\u001b[1;34m'hh2persLink'\u001b[0m\u001b[1;33m)\u001b[0m\u001b[1;33m\u001b[0m\u001b[0m\n\u001b[0m",
      "\u001b[1;32mC:\\Users\\hillb\\Anaconda3\\lib\\site-packages\\pandas\\tools\\merge.py\u001b[0m in \u001b[0;36mmerge\u001b[1;34m(left, right, how, on, left_on, right_on, left_index, right_index, sort, suffixes, copy, indicator)\u001b[0m\n\u001b[0;32m     32\u001b[0m                          \u001b[0mright_on\u001b[0m\u001b[1;33m=\u001b[0m\u001b[0mright_on\u001b[0m\u001b[1;33m,\u001b[0m \u001b[0mleft_index\u001b[0m\u001b[1;33m=\u001b[0m\u001b[0mleft_index\u001b[0m\u001b[1;33m,\u001b[0m\u001b[1;33m\u001b[0m\u001b[0m\n\u001b[0;32m     33\u001b[0m                          \u001b[0mright_index\u001b[0m\u001b[1;33m=\u001b[0m\u001b[0mright_index\u001b[0m\u001b[1;33m,\u001b[0m \u001b[0msort\u001b[0m\u001b[1;33m=\u001b[0m\u001b[0msort\u001b[0m\u001b[1;33m,\u001b[0m \u001b[0msuffixes\u001b[0m\u001b[1;33m=\u001b[0m\u001b[0msuffixes\u001b[0m\u001b[1;33m,\u001b[0m\u001b[1;33m\u001b[0m\u001b[0m\n\u001b[1;32m---> 34\u001b[1;33m                          copy=copy, indicator=indicator)\n\u001b[0m\u001b[0;32m     35\u001b[0m     \u001b[1;32mreturn\u001b[0m \u001b[0mop\u001b[0m\u001b[1;33m.\u001b[0m\u001b[0mget_result\u001b[0m\u001b[1;33m(\u001b[0m\u001b[1;33m)\u001b[0m\u001b[1;33m\u001b[0m\u001b[0m\n\u001b[0;32m     36\u001b[0m \u001b[1;32mif\u001b[0m \u001b[0m__debug__\u001b[0m\u001b[1;33m:\u001b[0m\u001b[1;33m\u001b[0m\u001b[0m\n",
      "\u001b[1;32mC:\\Users\\hillb\\Anaconda3\\lib\\site-packages\\pandas\\tools\\merge.py\u001b[0m in \u001b[0;36m__init__\u001b[1;34m(self, left, right, how, on, left_on, right_on, axis, left_index, right_index, sort, suffixes, copy, indicator)\u001b[0m\n\u001b[0;32m    197\u001b[0m         (self.left_join_keys,\n\u001b[0;32m    198\u001b[0m          \u001b[0mself\u001b[0m\u001b[1;33m.\u001b[0m\u001b[0mright_join_keys\u001b[0m\u001b[1;33m,\u001b[0m\u001b[1;33m\u001b[0m\u001b[0m\n\u001b[1;32m--> 199\u001b[1;33m          self.join_names) = self._get_merge_keys()\n\u001b[0m\u001b[0;32m    200\u001b[0m \u001b[1;33m\u001b[0m\u001b[0m\n\u001b[0;32m    201\u001b[0m     \u001b[1;32mdef\u001b[0m \u001b[0mget_result\u001b[0m\u001b[1;33m(\u001b[0m\u001b[0mself\u001b[0m\u001b[1;33m)\u001b[0m\u001b[1;33m:\u001b[0m\u001b[1;33m\u001b[0m\u001b[0m\n",
      "\u001b[1;32mC:\\Users\\hillb\\Anaconda3\\lib\\site-packages\\pandas\\tools\\merge.py\u001b[0m in \u001b[0;36m_get_merge_keys\u001b[1;34m(self)\u001b[0m\n\u001b[0;32m    430\u001b[0m                     \u001b[1;32melse\u001b[0m\u001b[1;33m:\u001b[0m\u001b[1;33m\u001b[0m\u001b[0m\n\u001b[0;32m    431\u001b[0m                         \u001b[0mright_keys\u001b[0m\u001b[1;33m.\u001b[0m\u001b[0mappend\u001b[0m\u001b[1;33m(\u001b[0m\u001b[0mrk\u001b[0m\u001b[1;33m)\u001b[0m\u001b[1;33m\u001b[0m\u001b[0m\n\u001b[1;32m--> 432\u001b[1;33m                     \u001b[0mleft_keys\u001b[0m\u001b[1;33m.\u001b[0m\u001b[0mappend\u001b[0m\u001b[1;33m(\u001b[0m\u001b[0mleft\u001b[0m\u001b[1;33m[\u001b[0m\u001b[0mlk\u001b[0m\u001b[1;33m]\u001b[0m\u001b[1;33m.\u001b[0m\u001b[0m_values\u001b[0m\u001b[1;33m)\u001b[0m\u001b[1;33m\u001b[0m\u001b[0m\n\u001b[0m\u001b[0;32m    433\u001b[0m                     \u001b[0mjoin_names\u001b[0m\u001b[1;33m.\u001b[0m\u001b[0mappend\u001b[0m\u001b[1;33m(\u001b[0m\u001b[0mlk\u001b[0m\u001b[1;33m)\u001b[0m\u001b[1;33m\u001b[0m\u001b[0m\n\u001b[0;32m    434\u001b[0m         \u001b[1;32melif\u001b[0m \u001b[0m_any\u001b[0m\u001b[1;33m(\u001b[0m\u001b[0mself\u001b[0m\u001b[1;33m.\u001b[0m\u001b[0mleft_on\u001b[0m\u001b[1;33m)\u001b[0m\u001b[1;33m:\u001b[0m\u001b[1;33m\u001b[0m\u001b[0m\n",
      "\u001b[1;32mC:\\Users\\hillb\\Anaconda3\\lib\\site-packages\\pandas\\core\\frame.py\u001b[0m in \u001b[0;36m__getitem__\u001b[1;34m(self, key)\u001b[0m\n\u001b[0;32m   1990\u001b[0m             \u001b[1;32mreturn\u001b[0m \u001b[0mself\u001b[0m\u001b[1;33m.\u001b[0m\u001b[0m_getitem_multilevel\u001b[0m\u001b[1;33m(\u001b[0m\u001b[0mkey\u001b[0m\u001b[1;33m)\u001b[0m\u001b[1;33m\u001b[0m\u001b[0m\n\u001b[0;32m   1991\u001b[0m         \u001b[1;32melse\u001b[0m\u001b[1;33m:\u001b[0m\u001b[1;33m\u001b[0m\u001b[0m\n\u001b[1;32m-> 1992\u001b[1;33m             \u001b[1;32mreturn\u001b[0m \u001b[0mself\u001b[0m\u001b[1;33m.\u001b[0m\u001b[0m_getitem_column\u001b[0m\u001b[1;33m(\u001b[0m\u001b[0mkey\u001b[0m\u001b[1;33m)\u001b[0m\u001b[1;33m\u001b[0m\u001b[0m\n\u001b[0m\u001b[0;32m   1993\u001b[0m \u001b[1;33m\u001b[0m\u001b[0m\n\u001b[0;32m   1994\u001b[0m     \u001b[1;32mdef\u001b[0m \u001b[0m_getitem_column\u001b[0m\u001b[1;33m(\u001b[0m\u001b[0mself\u001b[0m\u001b[1;33m,\u001b[0m \u001b[0mkey\u001b[0m\u001b[1;33m)\u001b[0m\u001b[1;33m:\u001b[0m\u001b[1;33m\u001b[0m\u001b[0m\n",
      "\u001b[1;32mC:\\Users\\hillb\\Anaconda3\\lib\\site-packages\\pandas\\core\\frame.py\u001b[0m in \u001b[0;36m_getitem_column\u001b[1;34m(self, key)\u001b[0m\n\u001b[0;32m   1997\u001b[0m         \u001b[1;31m# get column\u001b[0m\u001b[1;33m\u001b[0m\u001b[1;33m\u001b[0m\u001b[0m\n\u001b[0;32m   1998\u001b[0m         \u001b[1;32mif\u001b[0m \u001b[0mself\u001b[0m\u001b[1;33m.\u001b[0m\u001b[0mcolumns\u001b[0m\u001b[1;33m.\u001b[0m\u001b[0mis_unique\u001b[0m\u001b[1;33m:\u001b[0m\u001b[1;33m\u001b[0m\u001b[0m\n\u001b[1;32m-> 1999\u001b[1;33m             \u001b[1;32mreturn\u001b[0m \u001b[0mself\u001b[0m\u001b[1;33m.\u001b[0m\u001b[0m_get_item_cache\u001b[0m\u001b[1;33m(\u001b[0m\u001b[0mkey\u001b[0m\u001b[1;33m)\u001b[0m\u001b[1;33m\u001b[0m\u001b[0m\n\u001b[0m\u001b[0;32m   2000\u001b[0m \u001b[1;33m\u001b[0m\u001b[0m\n\u001b[0;32m   2001\u001b[0m         \u001b[1;31m# duplicate columns & possible reduce dimensionality\u001b[0m\u001b[1;33m\u001b[0m\u001b[1;33m\u001b[0m\u001b[0m\n",
      "\u001b[1;32mC:\\Users\\hillb\\Anaconda3\\lib\\site-packages\\pandas\\core\\generic.py\u001b[0m in \u001b[0;36m_get_item_cache\u001b[1;34m(self, item)\u001b[0m\n\u001b[0;32m   1343\u001b[0m         \u001b[0mres\u001b[0m \u001b[1;33m=\u001b[0m \u001b[0mcache\u001b[0m\u001b[1;33m.\u001b[0m\u001b[0mget\u001b[0m\u001b[1;33m(\u001b[0m\u001b[0mitem\u001b[0m\u001b[1;33m)\u001b[0m\u001b[1;33m\u001b[0m\u001b[0m\n\u001b[0;32m   1344\u001b[0m         \u001b[1;32mif\u001b[0m \u001b[0mres\u001b[0m \u001b[1;32mis\u001b[0m \u001b[1;32mNone\u001b[0m\u001b[1;33m:\u001b[0m\u001b[1;33m\u001b[0m\u001b[0m\n\u001b[1;32m-> 1345\u001b[1;33m             \u001b[0mvalues\u001b[0m \u001b[1;33m=\u001b[0m \u001b[0mself\u001b[0m\u001b[1;33m.\u001b[0m\u001b[0m_data\u001b[0m\u001b[1;33m.\u001b[0m\u001b[0mget\u001b[0m\u001b[1;33m(\u001b[0m\u001b[0mitem\u001b[0m\u001b[1;33m)\u001b[0m\u001b[1;33m\u001b[0m\u001b[0m\n\u001b[0m\u001b[0;32m   1346\u001b[0m             \u001b[0mres\u001b[0m \u001b[1;33m=\u001b[0m \u001b[0mself\u001b[0m\u001b[1;33m.\u001b[0m\u001b[0m_box_item_values\u001b[0m\u001b[1;33m(\u001b[0m\u001b[0mitem\u001b[0m\u001b[1;33m,\u001b[0m \u001b[0mvalues\u001b[0m\u001b[1;33m)\u001b[0m\u001b[1;33m\u001b[0m\u001b[0m\n\u001b[0;32m   1347\u001b[0m             \u001b[0mcache\u001b[0m\u001b[1;33m[\u001b[0m\u001b[0mitem\u001b[0m\u001b[1;33m]\u001b[0m \u001b[1;33m=\u001b[0m \u001b[0mres\u001b[0m\u001b[1;33m\u001b[0m\u001b[0m\n",
      "\u001b[1;32mC:\\Users\\hillb\\Anaconda3\\lib\\site-packages\\pandas\\core\\internals.py\u001b[0m in \u001b[0;36mget\u001b[1;34m(self, item, fastpath)\u001b[0m\n\u001b[0;32m   3223\u001b[0m \u001b[1;33m\u001b[0m\u001b[0m\n\u001b[0;32m   3224\u001b[0m             \u001b[1;32mif\u001b[0m \u001b[1;32mnot\u001b[0m \u001b[0misnull\u001b[0m\u001b[1;33m(\u001b[0m\u001b[0mitem\u001b[0m\u001b[1;33m)\u001b[0m\u001b[1;33m:\u001b[0m\u001b[1;33m\u001b[0m\u001b[0m\n\u001b[1;32m-> 3225\u001b[1;33m                 \u001b[0mloc\u001b[0m \u001b[1;33m=\u001b[0m \u001b[0mself\u001b[0m\u001b[1;33m.\u001b[0m\u001b[0mitems\u001b[0m\u001b[1;33m.\u001b[0m\u001b[0mget_loc\u001b[0m\u001b[1;33m(\u001b[0m\u001b[0mitem\u001b[0m\u001b[1;33m)\u001b[0m\u001b[1;33m\u001b[0m\u001b[0m\n\u001b[0m\u001b[0;32m   3226\u001b[0m             \u001b[1;32melse\u001b[0m\u001b[1;33m:\u001b[0m\u001b[1;33m\u001b[0m\u001b[0m\n\u001b[0;32m   3227\u001b[0m                 \u001b[0mindexer\u001b[0m \u001b[1;33m=\u001b[0m \u001b[0mnp\u001b[0m\u001b[1;33m.\u001b[0m\u001b[0marange\u001b[0m\u001b[1;33m(\u001b[0m\u001b[0mlen\u001b[0m\u001b[1;33m(\u001b[0m\u001b[0mself\u001b[0m\u001b[1;33m.\u001b[0m\u001b[0mitems\u001b[0m\u001b[1;33m)\u001b[0m\u001b[1;33m)\u001b[0m\u001b[1;33m[\u001b[0m\u001b[0misnull\u001b[0m\u001b[1;33m(\u001b[0m\u001b[0mself\u001b[0m\u001b[1;33m.\u001b[0m\u001b[0mitems\u001b[0m\u001b[1;33m)\u001b[0m\u001b[1;33m]\u001b[0m\u001b[1;33m\u001b[0m\u001b[0m\n",
      "\u001b[1;32mC:\\Users\\hillb\\Anaconda3\\lib\\site-packages\\pandas\\indexes\\base.py\u001b[0m in \u001b[0;36mget_loc\u001b[1;34m(self, key, method, tolerance)\u001b[0m\n\u001b[0;32m   1876\u001b[0m                 \u001b[1;32mreturn\u001b[0m \u001b[0mself\u001b[0m\u001b[1;33m.\u001b[0m\u001b[0m_engine\u001b[0m\u001b[1;33m.\u001b[0m\u001b[0mget_loc\u001b[0m\u001b[1;33m(\u001b[0m\u001b[0mkey\u001b[0m\u001b[1;33m)\u001b[0m\u001b[1;33m\u001b[0m\u001b[0m\n\u001b[0;32m   1877\u001b[0m             \u001b[1;32mexcept\u001b[0m \u001b[0mKeyError\u001b[0m\u001b[1;33m:\u001b[0m\u001b[1;33m\u001b[0m\u001b[0m\n\u001b[1;32m-> 1878\u001b[1;33m                 \u001b[1;32mreturn\u001b[0m \u001b[0mself\u001b[0m\u001b[1;33m.\u001b[0m\u001b[0m_engine\u001b[0m\u001b[1;33m.\u001b[0m\u001b[0mget_loc\u001b[0m\u001b[1;33m(\u001b[0m\u001b[0mself\u001b[0m\u001b[1;33m.\u001b[0m\u001b[0m_maybe_cast_indexer\u001b[0m\u001b[1;33m(\u001b[0m\u001b[0mkey\u001b[0m\u001b[1;33m)\u001b[0m\u001b[1;33m)\u001b[0m\u001b[1;33m\u001b[0m\u001b[0m\n\u001b[0m\u001b[0;32m   1879\u001b[0m \u001b[1;33m\u001b[0m\u001b[0m\n\u001b[0;32m   1880\u001b[0m         \u001b[0mindexer\u001b[0m \u001b[1;33m=\u001b[0m \u001b[0mself\u001b[0m\u001b[1;33m.\u001b[0m\u001b[0mget_indexer\u001b[0m\u001b[1;33m(\u001b[0m\u001b[1;33m[\u001b[0m\u001b[0mkey\u001b[0m\u001b[1;33m]\u001b[0m\u001b[1;33m,\u001b[0m \u001b[0mmethod\u001b[0m\u001b[1;33m=\u001b[0m\u001b[0mmethod\u001b[0m\u001b[1;33m,\u001b[0m \u001b[0mtolerance\u001b[0m\u001b[1;33m=\u001b[0m\u001b[0mtolerance\u001b[0m\u001b[1;33m)\u001b[0m\u001b[1;33m\u001b[0m\u001b[0m\n",
      "\u001b[1;32mpandas\\index.pyx\u001b[0m in \u001b[0;36mpandas.index.IndexEngine.get_loc (pandas\\index.c:4027)\u001b[1;34m()\u001b[0m\n",
      "\u001b[1;32mpandas\\index.pyx\u001b[0m in \u001b[0;36mpandas.index.IndexEngine.get_loc (pandas\\index.c:3891)\u001b[1;34m()\u001b[0m\n",
      "\u001b[1;32mpandas\\hashtable.pyx\u001b[0m in \u001b[0;36mpandas.hashtable.PyObjectHashTable.get_item (pandas\\hashtable.c:12408)\u001b[1;34m()\u001b[0m\n",
      "\u001b[1;32mpandas\\hashtable.pyx\u001b[0m in \u001b[0;36mpandas.hashtable.PyObjectHashTable.get_item (pandas\\hashtable.c:12359)\u001b[1;34m()\u001b[0m\n",
      "\u001b[1;31mKeyError\u001b[0m: 'hh2persLink'"
     ]
    }
   ],
   "source": [
    "# 1. person to household\n",
    "# a. build merge variables on each\n",
    "\n",
    "\n",
    "#df_RefPers09['NewPers2hhL']=df_RefPers09['peridnum'].str[:20]\n",
    "#df_RefPers15['hh2persLink']=df_RefPers15['peridnum'].str[:20]\n",
    "# already there\n",
    "#pers2hhLink\n",
    "#df_RefPers15['hh2persLink']=df_RefPers15['peridnum'].str[:20]\n",
    "\n",
    "# NewPers2hhL - already have it?\n",
    "#dfhh15['NewPers2hhL']=dfhh15['h_idnum1']+dfhh15['h_idnum2']\n",
    "#dfhh15['pers2hhLink']=dfhh15['hh2persLink']\n",
    "# this works.  fix l8r\n",
    "#hh2persLink\n",
    "\n",
    "#df_rPer2haus15=pd.merge(df_RefPers15, dfhh15, on='NewPers2hhL')\n",
    "#df_rPer2haus15=pd.merge(df_RefPers15, dfhh15, on='hh2persLink')\n",
    "#df_rPer2haus15=pd.merge(df_RefPers15, dfhh15, on='pers2hhLink')\n",
    "df_rPer2haus15=pd.merge(df_RefPers15, dfhh15, on='hh2persLink')"
   ]
  },
  {
   "cell_type": "code",
   "execution_count": null,
   "metadata": {
    "collapsed": true
   },
   "outputs": [],
   "source": []
  },
  {
   "cell_type": "code",
   "execution_count": null,
   "metadata": {
    "collapsed": true
   },
   "outputs": [],
   "source": []
  },
  {
   "cell_type": "code",
   "execution_count": null,
   "metadata": {
    "collapsed": true
   },
   "outputs": [],
   "source": []
  },
  {
   "cell_type": "code",
   "execution_count": 29,
   "metadata": {
    "collapsed": true
   },
   "outputs": [],
   "source": [
    "df_RefPers15_2=df_RefPers15\n",
    "df_RefPers15_2.to_csv('RefPers15_2.csv')\n"
   ]
  },
  {
   "cell_type": "code",
   "execution_count": null,
   "metadata": {
    "collapsed": true
   },
   "outputs": [],
   "source": []
  },
  {
   "cell_type": "code",
   "execution_count": null,
   "metadata": {
    "collapsed": true
   },
   "outputs": [],
   "source": []
  },
  {
   "cell_type": "code",
   "execution_count": 30,
   "metadata": {
    "collapsed": false
   },
   "outputs": [
    {
     "ename": "NameError",
     "evalue": "name 'df_rPer2haus15' is not defined",
     "output_type": "error",
     "traceback": [
      "\u001b[1;31m---------------------------------------------------------------------------\u001b[0m",
      "\u001b[1;31mNameError\u001b[0m                                 Traceback (most recent call last)",
      "\u001b[1;32m<ipython-input-30-89cfba2435a0>\u001b[0m in \u001b[0;36m<module>\u001b[1;34m()\u001b[0m\n\u001b[0;32m     12\u001b[0m '''\n\u001b[0;32m     13\u001b[0m \u001b[1;33m\u001b[0m\u001b[0m\n\u001b[1;32m---> 14\u001b[1;33m \u001b[0mdf_rPer2haus15\u001b[0m\u001b[1;33m[\u001b[0m\u001b[1;34m'NewFam2persL'\u001b[0m\u001b[1;33m]\u001b[0m\u001b[1;33m=\u001b[0m\u001b[0mdf_rPer2haus15\u001b[0m\u001b[1;33m[\u001b[0m\u001b[1;34m'ph_seq'\u001b[0m\u001b[1;33m]\u001b[0m\u001b[1;33m\u001b[0m\u001b[0m\n\u001b[0m\u001b[0;32m     15\u001b[0m \u001b[0mdffm15\u001b[0m\u001b[1;33m[\u001b[0m\u001b[1;34m'NewFam2persL'\u001b[0m\u001b[1;33m]\u001b[0m\u001b[1;33m=\u001b[0m\u001b[0mdffm15\u001b[0m\u001b[1;33m[\u001b[0m\u001b[1;34m'fh_seq'\u001b[0m\u001b[1;33m]\u001b[0m\u001b[1;33m\u001b[0m\u001b[0m\n\u001b[0;32m     16\u001b[0m \u001b[1;33m\u001b[0m\u001b[0m\n",
      "\u001b[1;31mNameError\u001b[0m: name 'df_rPer2haus15' is not defined"
     ]
    }
   ],
   "source": [
    "# 2. person to family\n",
    "# person here = person w household\n",
    "# a. build merge variables on each\n",
    "\n",
    "#############\n",
    "\n",
    "#!!!!!!!!!!!!!!!!!!!!!!  NOT SURE THIS IS RIGHT!\n",
    "\n",
    "\n",
    "df_rPer2haus15['NewFam2persL']=df_rPer2haus15['ph_seq']\n",
    "dffm15['NewFam2persL']=dffm15['fh_seq']\n",
    "\n",
    "\n",
    "df_3recs15= pd.merge(dffm15, df_rPer2haus15, on='NewFam2persL')\n",
    "\n"
   ]
  },
  {
   "cell_type": "code",
   "execution_count": null,
   "metadata": {
    "collapsed": true
   },
   "outputs": [],
   "source": []
  },
  {
   "cell_type": "code",
   "execution_count": null,
   "metadata": {
    "collapsed": true
   },
   "outputs": [],
   "source": [
    "# end w export"
   ]
  },
  {
   "cell_type": "code",
   "execution_count": 17,
   "metadata": {
    "collapsed": true
   },
   "outputs": [],
   "source": [
    "df_Ref15_merged=df_3recs15\n",
    "\n",
    "\n",
    "df_Ref15_merged.to_pickle('Ref15_merged')\n",
    "df_Ref15_merged.to_csv('Ref15_merged.csv')"
   ]
  },
  {
   "cell_type": "code",
   "execution_count": null,
   "metadata": {
    "collapsed": true
   },
   "outputs": [],
   "source": []
  },
  {
   "cell_type": "code",
   "execution_count": null,
   "metadata": {
    "collapsed": true
   },
   "outputs": [],
   "source": [
    "# Link 2009 together\n",
    "#In [10]: result = pd.concat([df1, df4], axis=1, join='inner')\n",
    "\n",
    "#result = pd.concat([df_fam09, df_haus09], axis=['fam2hhLink'], join='inner')"
   ]
  }
 ],
 "metadata": {
  "kernelspec": {
   "display_name": "Python 3",
   "language": "python",
   "name": "python3"
  },
  "language_info": {
   "codemirror_mode": {
    "name": "ipython",
    "version": 3
   },
   "file_extension": ".py",
   "mimetype": "text/x-python",
   "name": "python",
   "nbconvert_exporter": "python",
   "pygments_lexer": "ipython3",
   "version": "3.5.1"
  }
 },
 "nbformat": 4,
 "nbformat_minor": 0
}
